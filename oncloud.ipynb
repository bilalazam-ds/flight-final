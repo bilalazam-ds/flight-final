{
 "cells": [
  {
   "cell_type": "markdown",
   "id": "fd881875-7297-482c-a7a2-a54da0412b82",
   "metadata": {},
   "source": [
    "# Problem: Predicting Airplane Delays\n",
    "\n",
    "The goals of this notebook are:\n",
    "- Process and create a dataset from downloaded ZIP files\n",
    "- Exploratory data analysis (EDA)\n",
    "- Establish a baseline model and improve it\n",
    "\n",
    "## Introduction to business scenario\n",
    "You work for a travel booking website that is working to improve the customer experience for flights that were delayed. The company wants to create a feature to let customers know if the flight will be delayed due to weather when the customers are booking the flight to or from the busiest airports for domestic travel in the US. \n",
    "\n",
    "You are tasked with solving part of this problem by leveraging machine learning to identify whether the flight will be delayed due to weather. You have been given access to the a dataset of on-time performance of domestic flights operated by large air carriers. You can use this data to train a machine learning model to predict if the flight is going to be delayed for the busiest airports.\n",
    "\n",
    "### Dataset\n",
    "The provided dataset contains scheduled and actual departure and arrival times reported by certified US air carriers that account for at least 1 percent of domestic scheduled passenger revenues. The data was collected by the Office of Airline Information, Bureau of Transportation Statistics (BTS). The dataset contains date, time, origin, destination, airline, distance, and delay status of flights for flights between 2014 and 2018.\n",
    "The data are in 60 compressed files, where each file contains a CSV for the flight details in a month for the five years (from 2014 - 2018). The data can be downloaded from this [link](https://ucstaff-my.sharepoint.com/:f:/g/personal/ibrahim_radwan_canberra_edu_au/Er0nVreXmihEmtMz5qC5kVIB81-ugSusExPYdcyQTglfLg?e=bNO312). Please download the data files and place them on a relative path. Dataset(s) used in this assignment were compiled by the Office of Airline Information, Bureau of Transportation Statistics (BTS), Airline On-Time Performance Data, available with the following [link](https://www.transtats.bts.gov/Fields.asp?gnoyr_VQ=FGJ). "
   ]
  },
  {
   "cell_type": "markdown",
   "id": "e77d39c0-01a5-453c-b5d0-92b236b4880a",
   "metadata": {},
   "source": [
    "# Step 1: Prepare the environment \n",
    "\n",
    "Use one of the labs which we have practised on with the Amazon Sagemakers where you perform the following steps:\n",
    "1. Start a lab.\n",
    "2. Create a notebook instance and name it \"oncloudproject\".\n",
    "3. Increase the used memory to 25 GB from the additional configurations.\n",
    "4. Open Jupyter Lab and upload this notebook into it.\n",
    "5. Upload the two combined CVS files (combined_csv_v1.csv and combined_csv_v2.csv), which you created in Part A of this project."
   ]
  },
  {
   "cell_type": "markdown",
   "id": "aeba2ab8-d612-4c20-87f4-ea7a5154ebf7",
   "metadata": {},
   "source": [
    "# Step 2: Build and evaluate simple models\n",
    "\n",
    "Write code to perform the follwoing steps:\n",
    "1. Split data into training, validation and testing sets (70% - 15% - 15%).\n",
    "2. Use linear learner estimator to build a classifcation model.\n",
    "3. Host the model on another instance\n",
    "4. Perform batch transform to evaluate the model on testing data\n",
    "5. Report the performance metrics that you see better test the model performance \n",
    "\n",
    "Note: You are required to perform the above steps on the two combined datasets separatey and to comments on the difference.mm"
   ]
  },
  {
   "cell_type": "markdown",
   "id": "4998fd62-6494-4502-aa1c-b42dcdb36251",
   "metadata": {},
   "source": [
    "# Model 1 Linear Estimator"
   ]
  },
  {
   "cell_type": "code",
   "execution_count": 24,
   "id": "adcee158-ad05-480a-8659-d0b957ed04e4",
   "metadata": {
    "tags": []
   },
   "outputs": [],
   "source": [
    "import os\n",
    "from zipfile import ZipFile\n",
    "import pandas as pd\n",
    "import matplotlib.pyplot as plt\n",
    "import seaborn as sns\n",
    "sns.set()\n",
    "instance_type='ml.m4.xlarge'\n",
    "import warnings\n",
    "warnings.filterwarnings('ignore')"
   ]
  },
  {
   "cell_type": "code",
   "execution_count": 25,
   "id": "e501f357-517f-445d-88a8-432f50e20077",
   "metadata": {
    "tags": []
   },
   "outputs": [],
   "source": [
    "def zip2csv(zipFile_name , file_path):\n",
    "    \"\"\"\n",
    "    Extract csv from zip files\n",
    "    zipFile_name: name of the zip file\n",
    "    file_path : name of the folder to store csv\n",
    "    \"\"\"\n",
    "\n",
    "    try:\n",
    "        with ZipFile(zipFile_name, 'r') as z: \n",
    "            print(f'Extracting {zipFile_name} ') \n",
    "            z.extractall(path=file_path) \n",
    "    except Exception as error:\n",
    "        # handle the exception\n",
    "        print(\"An exception occurred:\", error) # An exception occurred: division by zero\n"
   ]
  },
  {
   "cell_type": "code",
   "execution_count": 26,
   "id": "206dd311-1bef-4509-977e-59ae750ee9dd",
   "metadata": {
    "tags": []
   },
   "outputs": [
    {
     "name": "stdout",
     "output_type": "stream",
     "text": [
      "Extracting data.zip \n",
      "Files Extracted\n"
     ]
    }
   ],
   "source": [
    "zip2csv(\"data.zip\", \"./\")\n",
    "print(\"Files Extracted\")"
   ]
  },
  {
   "cell_type": "code",
   "execution_count": 29,
   "id": "f3503d2a-3e16-4555-946d-8eb4af26ae52",
   "metadata": {
    "tags": []
   },
   "outputs": [
    {
     "data": {
      "text/html": [
       "<div>\n",
       "<style scoped>\n",
       "    .dataframe tbody tr th:only-of-type {\n",
       "        vertical-align: middle;\n",
       "    }\n",
       "\n",
       "    .dataframe tbody tr th {\n",
       "        vertical-align: top;\n",
       "    }\n",
       "\n",
       "    .dataframe thead th {\n",
       "        text-align: right;\n",
       "    }\n",
       "</style>\n",
       "<table border=\"1\" class=\"dataframe\">\n",
       "  <thead>\n",
       "    <tr style=\"text-align: right;\">\n",
       "      <th></th>\n",
       "      <th>target</th>\n",
       "      <th>Distance</th>\n",
       "      <th>Quarter_2</th>\n",
       "      <th>Quarter_3</th>\n",
       "      <th>Quarter_4</th>\n",
       "      <th>Month_2</th>\n",
       "      <th>Month_3</th>\n",
       "      <th>Month_4</th>\n",
       "      <th>Month_5</th>\n",
       "      <th>Month_6</th>\n",
       "      <th>...</th>\n",
       "      <th>DepHourofDay_14</th>\n",
       "      <th>DepHourofDay_15</th>\n",
       "      <th>DepHourofDay_16</th>\n",
       "      <th>DepHourofDay_17</th>\n",
       "      <th>DepHourofDay_18</th>\n",
       "      <th>DepHourofDay_19</th>\n",
       "      <th>DepHourofDay_20</th>\n",
       "      <th>DepHourofDay_21</th>\n",
       "      <th>DepHourofDay_22</th>\n",
       "      <th>DepHourofDay_23</th>\n",
       "    </tr>\n",
       "  </thead>\n",
       "  <tbody>\n",
       "    <tr>\n",
       "      <th>0</th>\n",
       "      <td>0.0</td>\n",
       "      <td>868.0</td>\n",
       "      <td>0</td>\n",
       "      <td>0</td>\n",
       "      <td>0</td>\n",
       "      <td>1</td>\n",
       "      <td>0</td>\n",
       "      <td>0</td>\n",
       "      <td>0</td>\n",
       "      <td>0</td>\n",
       "      <td>...</td>\n",
       "      <td>0</td>\n",
       "      <td>0</td>\n",
       "      <td>0</td>\n",
       "      <td>0</td>\n",
       "      <td>0</td>\n",
       "      <td>0</td>\n",
       "      <td>0</td>\n",
       "      <td>0</td>\n",
       "      <td>0</td>\n",
       "      <td>0</td>\n",
       "    </tr>\n",
       "    <tr>\n",
       "      <th>1</th>\n",
       "      <td>0.0</td>\n",
       "      <td>868.0</td>\n",
       "      <td>0</td>\n",
       "      <td>0</td>\n",
       "      <td>0</td>\n",
       "      <td>1</td>\n",
       "      <td>0</td>\n",
       "      <td>0</td>\n",
       "      <td>0</td>\n",
       "      <td>0</td>\n",
       "      <td>...</td>\n",
       "      <td>0</td>\n",
       "      <td>0</td>\n",
       "      <td>0</td>\n",
       "      <td>0</td>\n",
       "      <td>0</td>\n",
       "      <td>0</td>\n",
       "      <td>0</td>\n",
       "      <td>0</td>\n",
       "      <td>0</td>\n",
       "      <td>0</td>\n",
       "    </tr>\n",
       "    <tr>\n",
       "      <th>2</th>\n",
       "      <td>0.0</td>\n",
       "      <td>868.0</td>\n",
       "      <td>0</td>\n",
       "      <td>0</td>\n",
       "      <td>0</td>\n",
       "      <td>1</td>\n",
       "      <td>0</td>\n",
       "      <td>0</td>\n",
       "      <td>0</td>\n",
       "      <td>0</td>\n",
       "      <td>...</td>\n",
       "      <td>0</td>\n",
       "      <td>0</td>\n",
       "      <td>0</td>\n",
       "      <td>0</td>\n",
       "      <td>0</td>\n",
       "      <td>0</td>\n",
       "      <td>0</td>\n",
       "      <td>0</td>\n",
       "      <td>0</td>\n",
       "      <td>0</td>\n",
       "    </tr>\n",
       "    <tr>\n",
       "      <th>3</th>\n",
       "      <td>1.0</td>\n",
       "      <td>868.0</td>\n",
       "      <td>0</td>\n",
       "      <td>0</td>\n",
       "      <td>0</td>\n",
       "      <td>1</td>\n",
       "      <td>0</td>\n",
       "      <td>0</td>\n",
       "      <td>0</td>\n",
       "      <td>0</td>\n",
       "      <td>...</td>\n",
       "      <td>0</td>\n",
       "      <td>0</td>\n",
       "      <td>0</td>\n",
       "      <td>0</td>\n",
       "      <td>0</td>\n",
       "      <td>0</td>\n",
       "      <td>0</td>\n",
       "      <td>0</td>\n",
       "      <td>0</td>\n",
       "      <td>0</td>\n",
       "    </tr>\n",
       "    <tr>\n",
       "      <th>4</th>\n",
       "      <td>0.0</td>\n",
       "      <td>868.0</td>\n",
       "      <td>0</td>\n",
       "      <td>0</td>\n",
       "      <td>0</td>\n",
       "      <td>1</td>\n",
       "      <td>0</td>\n",
       "      <td>0</td>\n",
       "      <td>0</td>\n",
       "      <td>0</td>\n",
       "      <td>...</td>\n",
       "      <td>0</td>\n",
       "      <td>0</td>\n",
       "      <td>0</td>\n",
       "      <td>0</td>\n",
       "      <td>0</td>\n",
       "      <td>0</td>\n",
       "      <td>0</td>\n",
       "      <td>0</td>\n",
       "      <td>0</td>\n",
       "      <td>0</td>\n",
       "    </tr>\n",
       "  </tbody>\n",
       "</table>\n",
       "<p>5 rows × 94 columns</p>\n",
       "</div>"
      ],
      "text/plain": [
       "   target  Distance  Quarter_2  Quarter_3  Quarter_4  Month_2  Month_3  \\\n",
       "0     0.0     868.0          0          0          0        1        0   \n",
       "1     0.0     868.0          0          0          0        1        0   \n",
       "2     0.0     868.0          0          0          0        1        0   \n",
       "3     1.0     868.0          0          0          0        1        0   \n",
       "4     0.0     868.0          0          0          0        1        0   \n",
       "\n",
       "   Month_4  Month_5  Month_6  ...  DepHourofDay_14  DepHourofDay_15  \\\n",
       "0        0        0        0  ...                0                0   \n",
       "1        0        0        0  ...                0                0   \n",
       "2        0        0        0  ...                0                0   \n",
       "3        0        0        0  ...                0                0   \n",
       "4        0        0        0  ...                0                0   \n",
       "\n",
       "   DepHourofDay_16  DepHourofDay_17  DepHourofDay_18  DepHourofDay_19  \\\n",
       "0                0                0                0                0   \n",
       "1                0                0                0                0   \n",
       "2                0                0                0                0   \n",
       "3                0                0                0                0   \n",
       "4                0                0                0                0   \n",
       "\n",
       "   DepHourofDay_20  DepHourofDay_21  DepHourofDay_22  DepHourofDay_23  \n",
       "0                0                0                0                0  \n",
       "1                0                0                0                0  \n",
       "2                0                0                0                0  \n",
       "3                0                0                0                0  \n",
       "4                0                0                0                0  \n",
       "\n",
       "[5 rows x 94 columns]"
      ]
     },
     "execution_count": 29,
     "metadata": {},
     "output_type": "execute_result"
    }
   ],
   "source": [
    "df1 = pd.read_csv(\"./combined_csv_v1.csv\")\n",
    "df1.head()"
   ]
  },
  {
   "cell_type": "code",
   "execution_count": 30,
   "id": "1ce9ea20-e4da-49d0-a2ef-f5d1b5005c32",
   "metadata": {
    "tags": []
   },
   "outputs": [
    {
     "data": {
      "text/html": [
       "<div>\n",
       "<style scoped>\n",
       "    .dataframe tbody tr th:only-of-type {\n",
       "        vertical-align: middle;\n",
       "    }\n",
       "\n",
       "    .dataframe tbody tr th {\n",
       "        vertical-align: top;\n",
       "    }\n",
       "\n",
       "    .dataframe thead th {\n",
       "        text-align: right;\n",
       "    }\n",
       "</style>\n",
       "<table border=\"1\" class=\"dataframe\">\n",
       "  <thead>\n",
       "    <tr style=\"text-align: right;\">\n",
       "      <th></th>\n",
       "      <th>target</th>\n",
       "      <th>Distance</th>\n",
       "      <th>DepHourofDay</th>\n",
       "      <th>AWND_O</th>\n",
       "      <th>PRCP_O</th>\n",
       "      <th>TAVG_O</th>\n",
       "      <th>AWND_D</th>\n",
       "      <th>PRCP_D</th>\n",
       "      <th>TAVG_D</th>\n",
       "      <th>SNOW_O</th>\n",
       "      <th>...</th>\n",
       "      <th>Origin_SFO</th>\n",
       "      <th>Dest_CLT</th>\n",
       "      <th>Dest_DEN</th>\n",
       "      <th>Dest_DFW</th>\n",
       "      <th>Dest_IAH</th>\n",
       "      <th>Dest_LAX</th>\n",
       "      <th>Dest_ORD</th>\n",
       "      <th>Dest_PHX</th>\n",
       "      <th>Dest_SFO</th>\n",
       "      <th>is_holiday_1</th>\n",
       "    </tr>\n",
       "  </thead>\n",
       "  <tbody>\n",
       "    <tr>\n",
       "      <th>0</th>\n",
       "      <td>0.0</td>\n",
       "      <td>868.0</td>\n",
       "      <td>7</td>\n",
       "      <td>42</td>\n",
       "      <td>0</td>\n",
       "      <td>151.0</td>\n",
       "      <td>68</td>\n",
       "      <td>0</td>\n",
       "      <td>140.0</td>\n",
       "      <td>0.0</td>\n",
       "      <td>...</td>\n",
       "      <td>0</td>\n",
       "      <td>0</td>\n",
       "      <td>0</td>\n",
       "      <td>1</td>\n",
       "      <td>0</td>\n",
       "      <td>0</td>\n",
       "      <td>0</td>\n",
       "      <td>0</td>\n",
       "      <td>0</td>\n",
       "      <td>0</td>\n",
       "    </tr>\n",
       "    <tr>\n",
       "      <th>1</th>\n",
       "      <td>0.0</td>\n",
       "      <td>868.0</td>\n",
       "      <td>7</td>\n",
       "      <td>24</td>\n",
       "      <td>0</td>\n",
       "      <td>137.0</td>\n",
       "      <td>34</td>\n",
       "      <td>0</td>\n",
       "      <td>6.0</td>\n",
       "      <td>0.0</td>\n",
       "      <td>...</td>\n",
       "      <td>0</td>\n",
       "      <td>0</td>\n",
       "      <td>0</td>\n",
       "      <td>1</td>\n",
       "      <td>0</td>\n",
       "      <td>0</td>\n",
       "      <td>0</td>\n",
       "      <td>0</td>\n",
       "      <td>0</td>\n",
       "      <td>0</td>\n",
       "    </tr>\n",
       "    <tr>\n",
       "      <th>2</th>\n",
       "      <td>0.0</td>\n",
       "      <td>868.0</td>\n",
       "      <td>7</td>\n",
       "      <td>29</td>\n",
       "      <td>0</td>\n",
       "      <td>107.0</td>\n",
       "      <td>38</td>\n",
       "      <td>43</td>\n",
       "      <td>53.0</td>\n",
       "      <td>0.0</td>\n",
       "      <td>...</td>\n",
       "      <td>0</td>\n",
       "      <td>0</td>\n",
       "      <td>0</td>\n",
       "      <td>1</td>\n",
       "      <td>0</td>\n",
       "      <td>0</td>\n",
       "      <td>0</td>\n",
       "      <td>0</td>\n",
       "      <td>0</td>\n",
       "      <td>0</td>\n",
       "    </tr>\n",
       "    <tr>\n",
       "      <th>3</th>\n",
       "      <td>1.0</td>\n",
       "      <td>868.0</td>\n",
       "      <td>7</td>\n",
       "      <td>13</td>\n",
       "      <td>0</td>\n",
       "      <td>139.0</td>\n",
       "      <td>84</td>\n",
       "      <td>0</td>\n",
       "      <td>10.0</td>\n",
       "      <td>0.0</td>\n",
       "      <td>...</td>\n",
       "      <td>0</td>\n",
       "      <td>0</td>\n",
       "      <td>0</td>\n",
       "      <td>1</td>\n",
       "      <td>0</td>\n",
       "      <td>0</td>\n",
       "      <td>0</td>\n",
       "      <td>0</td>\n",
       "      <td>0</td>\n",
       "      <td>0</td>\n",
       "    </tr>\n",
       "    <tr>\n",
       "      <th>4</th>\n",
       "      <td>0.0</td>\n",
       "      <td>868.0</td>\n",
       "      <td>7</td>\n",
       "      <td>25</td>\n",
       "      <td>0</td>\n",
       "      <td>125.0</td>\n",
       "      <td>52</td>\n",
       "      <td>13</td>\n",
       "      <td>-58.0</td>\n",
       "      <td>0.0</td>\n",
       "      <td>...</td>\n",
       "      <td>0</td>\n",
       "      <td>0</td>\n",
       "      <td>0</td>\n",
       "      <td>1</td>\n",
       "      <td>0</td>\n",
       "      <td>0</td>\n",
       "      <td>0</td>\n",
       "      <td>0</td>\n",
       "      <td>0</td>\n",
       "      <td>0</td>\n",
       "    </tr>\n",
       "  </tbody>\n",
       "</table>\n",
       "<p>5 rows × 86 columns</p>\n",
       "</div>"
      ],
      "text/plain": [
       "   target  Distance  DepHourofDay  AWND_O  PRCP_O  TAVG_O  AWND_D  PRCP_D  \\\n",
       "0     0.0     868.0             7      42       0   151.0      68       0   \n",
       "1     0.0     868.0             7      24       0   137.0      34       0   \n",
       "2     0.0     868.0             7      29       0   107.0      38      43   \n",
       "3     1.0     868.0             7      13       0   139.0      84       0   \n",
       "4     0.0     868.0             7      25       0   125.0      52      13   \n",
       "\n",
       "   TAVG_D  SNOW_O  ...  Origin_SFO  Dest_CLT  Dest_DEN  Dest_DFW  Dest_IAH  \\\n",
       "0   140.0     0.0  ...           0         0         0         1         0   \n",
       "1     6.0     0.0  ...           0         0         0         1         0   \n",
       "2    53.0     0.0  ...           0         0         0         1         0   \n",
       "3    10.0     0.0  ...           0         0         0         1         0   \n",
       "4   -58.0     0.0  ...           0         0         0         1         0   \n",
       "\n",
       "   Dest_LAX  Dest_ORD  Dest_PHX  Dest_SFO  is_holiday_1  \n",
       "0         0         0         0         0             0  \n",
       "1         0         0         0         0             0  \n",
       "2         0         0         0         0             0  \n",
       "3         0         0         0         0             0  \n",
       "4         0         0         0         0             0  \n",
       "\n",
       "[5 rows x 86 columns]"
      ]
     },
     "execution_count": 30,
     "metadata": {},
     "output_type": "execute_result"
    }
   ],
   "source": [
    "df2 = pd.read_csv(\"./combined_csv_v2.csv\")\n",
    "df2.head()"
   ]
  },
  {
   "cell_type": "code",
   "execution_count": 31,
   "id": "8e5d757f-909d-4bbe-b55b-395326fcbbf2",
   "metadata": {
    "tags": []
   },
   "outputs": [],
   "source": [
    "from sklearn.model_selection import train_test_split\n",
    "\n",
    "# Define a function for 70-15-15 train-test-validation split\n",
    "def split_data(df):\n",
    "    # First split: 70% train, 30% (test + validation)\n",
    "    train, test_and_validate = train_test_split(df, test_size=0.3, random_state=42, stratify=df['target'])\n",
    "    # Second split: 15% test, 15% validation from the 30%\n",
    "    test, validate = train_test_split(test_and_validate, test_size=0.5, random_state=42, stratify=test_and_validate['target'])\n",
    "    return train, test, validate\n",
    "\n",
    "# Apply split to both datasets\n",
    "train, test, validate = split_data(df1)"
   ]
  },
  {
   "cell_type": "code",
   "execution_count": 32,
   "id": "b7e6cf60-e117-4ab4-b5da-a538540f327e",
   "metadata": {
    "tags": []
   },
   "outputs": [
    {
     "name": "stdout",
     "output_type": "stream",
     "text": [
      "sagemaker.config INFO - Not applying SDK defaults from location: /etc/xdg/sagemaker/config.yaml\n",
      "sagemaker.config INFO - Not applying SDK defaults from location: /home/ec2-user/.config/sagemaker/config.yaml\n"
     ]
    }
   ],
   "source": [
    "import sagemaker\n",
    "from sagemaker.serializers import CSVSerializer\n",
    "from sagemaker.amazon.amazon_estimator import RecordSet\n",
    "import boto3\n",
    "classifier_estimator = sagemaker.LinearLearner(role=sagemaker.get_execution_role(),\n",
    "                                              instance_count=1,\n",
    "                                              instance_type='ml.m4.xlarge',\n",
    "                                              predictor_type='binary_classifier',\n",
    "                                              binary_classifier_model_selection_criteria = 'cross_entropy_loss')"
   ]
  },
  {
   "cell_type": "code",
   "execution_count": 33,
   "id": "a5d86061-5d2d-41aa-bd22-d7e4ca1eca56",
   "metadata": {
    "tags": []
   },
   "outputs": [],
   "source": [
    "import numpy as np\n",
    "### Create train, validate, and test records\n",
    "train_records = classifier_estimator.record_set(train.values[:, 1:].astype(np.float32), train.values[:, 0].astype(np.float32), channel='train')\n",
    "val_records = classifier_estimator.record_set(validate.values[:, 1:].astype(np.float32), validate.values[:, 0].astype(np.float32), channel='validation')\n",
    "test_records = classifier_estimator.record_set(test.values[:, 1:].astype(np.float32), test.values[:, 0].astype(np.float32), channel='test')"
   ]
  },
  {
   "cell_type": "code",
   "execution_count": 34,
   "id": "a01dfe14-d134-4c7b-83e0-470e7bee99a2",
   "metadata": {
    "tags": []
   },
   "outputs": [
    {
     "name": "stderr",
     "output_type": "stream",
     "text": [
      "INFO:sagemaker.image_uris:Same images used for training and inference. Defaulting to image scope: inference.\n",
      "INFO:sagemaker.image_uris:Ignoring unnecessary instance type: None.\n",
      "INFO:sagemaker:Creating training-job with name: linear-learner-2024-11-04-10-00-53-005\n"
     ]
    },
    {
     "name": "stdout",
     "output_type": "stream",
     "text": [
      "\n",
      "2024-11-04 10:00:58 Starting - Starting the training job..\n",
      "2024-11-04 10:01:12 Starting - Preparing the instances for training.....\n",
      "2024-11-04 10:01:43 Downloading - Downloading input data......\n",
      "2024-11-04 10:02:18 Downloading - Downloading the training image..............\n",
      "2024-11-04 10:03:30 Training - Training image download completed. Training in progress.....................................\n",
      "2024-11-04 10:06:41 Uploading - Uploading generated training model..\n",
      "2024-11-04 10:06:54 Completed - Training job completed\n"
     ]
    }
   ],
   "source": [
    "classifier_estimator.fit([train_records,val_records], logs=False)"
   ]
  },
  {
   "cell_type": "code",
   "execution_count": 35,
   "id": "e15cb2be-ac48-45c9-a1fe-295bd04fc647",
   "metadata": {
    "tags": []
   },
   "outputs": [
    {
     "name": "stdout",
     "output_type": "stream",
     "text": [
      "Available Buckets: ['c135321a3429026l8238926t1w05826414920-flightbucket-tlyywzodtsmx', 'sagemaker-us-east-1-058264149208']\n"
     ]
    }
   ],
   "source": [
    "import boto3\n",
    "\n",
    "s3_client = boto3.client('s3')\n",
    "response = s3_client.list_buckets()\n",
    "buckets = [bucket['Name'] for bucket in response['Buckets']]\n",
    "print(\"Available Buckets:\", buckets)\n",
    "bucket = buckets[0]"
   ]
  },
  {
   "cell_type": "code",
   "execution_count": 36,
   "id": "8d9300e4-eb4f-40c0-971a-33239d702373",
   "metadata": {
    "tags": []
   },
   "outputs": [
    {
     "name": "stdout",
     "output_type": "stream",
     "text": [
      "c135321a3429026l8238926t1w05826414920-flightbucket-tlyywzodtsmx\n"
     ]
    }
   ],
   "source": [
    "print(bucket)"
   ]
  },
  {
   "cell_type": "code",
   "execution_count": 37,
   "id": "3522d682-b98a-49ac-a334-e6186c42ca13",
   "metadata": {
    "tags": []
   },
   "outputs": [
    {
     "name": "stderr",
     "output_type": "stream",
     "text": [
      "INFO:botocore.credentials:Found credentials from IAM Role: BaseNotebookInstanceEc2InstanceRole\n"
     ]
    }
   ],
   "source": [
    "import io\n",
    "prefix='flight-linear'\n",
    "train_file='flight_train.csv'\n",
    "test_file='flight_test.csv'\n",
    "validate_file='flight_validate.csv'\n",
    "whole_file='flight.csv'\n",
    "s3_resource = boto3.Session().resource('s3')\n",
    "\n",
    "def upload_s3_csv(filename, folder, dataframe):\n",
    "    csv_buffer = io.StringIO()\n",
    "    dataframe.to_csv(csv_buffer, header=False, index=False )\n",
    "    s3_resource.Bucket(bucket).Object(os.path.join(prefix, folder, filename)).put(Body=csv_buffer.getvalue())"
   ]
  },
  {
   "cell_type": "code",
   "execution_count": 38,
   "id": "4111f00b-c601-4db6-813b-9be5c32b45ac",
   "metadata": {
    "tags": []
   },
   "outputs": [],
   "source": [
    "import os\n",
    "def batch_linear_predict(test_data, estimator):\n",
    "    batch_X = test_data.iloc[:,1:];\n",
    "    batch_X_file='batch-in.csv'\n",
    "    upload_s3_csv(batch_X_file, 'batch-in', batch_X)\n",
    "\n",
    "    batch_output = \"s3://{}/{}/batch-out/\".format(bucket,prefix)\n",
    "    batch_input = \"s3://{}/{}/batch-in/{}\".format(bucket,prefix,batch_X_file)\n",
    "\n",
    "    classifier_transformer = estimator.transformer(instance_count=1,\n",
    "                                           instance_type='ml.m4.xlarge',\n",
    "                                           strategy='MultiRecord',\n",
    "                                           assemble_with='Line',\n",
    "                                           output_path=batch_output)\n",
    "\n",
    "    classifier_transformer.transform(data=batch_input,\n",
    "                             data_type='S3Prefix',\n",
    "                             content_type='text/csv',\n",
    "                             split_type='Line')\n",
    "    \n",
    "    classifier_transformer.wait()\n",
    "\n",
    "    s3 = boto3.client('s3')\n",
    "    obj = s3.get_object(Bucket=bucket, Key=\"{}/batch-out/{}\".format(prefix,'batch-in.csv.out'))\n",
    "    target_predicted_df = pd.read_json(io.BytesIO(obj['Body'].read()),orient=\"records\",lines=True)\n",
    "    return test_data.iloc[:,0], target_predicted_df.iloc[:,0]"
   ]
  },
  {
   "cell_type": "code",
   "execution_count": 39,
   "id": "27966a1a-388b-4d83-80f2-607ddedd593f",
   "metadata": {
    "tags": []
   },
   "outputs": [
    {
     "name": "stderr",
     "output_type": "stream",
     "text": [
      "INFO:sagemaker.image_uris:Same images used for training and inference. Defaulting to image scope: inference.\n",
      "INFO:sagemaker.image_uris:Ignoring unnecessary instance type: None.\n",
      "INFO:sagemaker:Creating model with name: linear-learner-2024-11-04-10-07-23-864\n",
      "INFO:sagemaker:Creating transform job with name: linear-learner-2024-11-04-10-07-24-556\n"
     ]
    },
    {
     "name": "stdout",
     "output_type": "stream",
     "text": [
      "............................................\u001b[34mDocker entrypoint called with argument(s): serve\u001b[0m\n",
      "\u001b[34mRunning default environment configuration script\u001b[0m\n",
      "\u001b[34m[11/04/2024 10:14:41 INFO 139954525812544] Memory profiler is not enabled by the environment variable ENABLE_PROFILER.\u001b[0m\n",
      "\u001b[34m/opt/amazon/lib/python3.8/site-packages/mxnet/model.py:97: SyntaxWarning: \"is\" with a literal. Did you mean \"==\"?\n",
      "  if num_device is 1 and 'dist' not in kvstore:\u001b[0m\n",
      "\u001b[35mDocker entrypoint called with argument(s): serve\u001b[0m\n",
      "\u001b[35mRunning default environment configuration script\u001b[0m\n",
      "\u001b[35m[11/04/2024 10:14:41 INFO 139954525812544] Memory profiler is not enabled by the environment variable ENABLE_PROFILER.\u001b[0m\n",
      "\u001b[35m/opt/amazon/lib/python3.8/site-packages/mxnet/model.py:97: SyntaxWarning: \"is\" with a literal. Did you mean \"==\"?\n",
      "  if num_device is 1 and 'dist' not in kvstore:\u001b[0m\n",
      "\u001b[34m/opt/amazon/lib/python3.8/site-packages/scipy/optimize/_shgo.py:495: SyntaxWarning: \"is\" with a literal. Did you mean \"==\"?\n",
      "  if cons['type'] is 'ineq':\u001b[0m\n",
      "\u001b[34m/opt/amazon/lib/python3.8/site-packages/scipy/optimize/_shgo.py:743: SyntaxWarning: \"is not\" with a literal. Did you mean \"!=\"?\n",
      "  if len(self.X_min) is not 0:\u001b[0m\n",
      "\u001b[35m/opt/amazon/lib/python3.8/site-packages/scipy/optimize/_shgo.py:495: SyntaxWarning: \"is\" with a literal. Did you mean \"==\"?\n",
      "  if cons['type'] is 'ineq':\u001b[0m\n",
      "\u001b[35m/opt/amazon/lib/python3.8/site-packages/scipy/optimize/_shgo.py:743: SyntaxWarning: \"is not\" with a literal. Did you mean \"!=\"?\n",
      "  if len(self.X_min) is not 0:\u001b[0m\n",
      "\u001b[34m[11/04/2024 10:14:45 WARNING 139954525812544] Loggers have already been setup.\u001b[0m\n",
      "\u001b[34m[11/04/2024 10:14:45 INFO 139954525812544] loaded entry point class algorithm.serve.server_config:config_api\u001b[0m\n",
      "\u001b[34m[11/04/2024 10:14:45 INFO 139954525812544] loading entry points\u001b[0m\n",
      "\u001b[34m[11/04/2024 10:14:45 INFO 139954525812544] loaded request iterator application/json\u001b[0m\n",
      "\u001b[34m[11/04/2024 10:14:45 INFO 139954525812544] loaded request iterator application/jsonlines\u001b[0m\n",
      "\u001b[34m[11/04/2024 10:14:45 INFO 139954525812544] loaded request iterator application/x-recordio-protobuf\u001b[0m\n",
      "\u001b[34m[11/04/2024 10:14:45 INFO 139954525812544] loaded request iterator text/csv\u001b[0m\n",
      "\u001b[34m[11/04/2024 10:14:45 INFO 139954525812544] loaded response encoder application/json\u001b[0m\n",
      "\u001b[34m[11/04/2024 10:14:45 INFO 139954525812544] loaded response encoder application/jsonlines\u001b[0m\n",
      "\u001b[34m[11/04/2024 10:14:45 INFO 139954525812544] loaded response encoder application/x-recordio-protobuf\u001b[0m\n",
      "\u001b[34m[11/04/2024 10:14:45 INFO 139954525812544] loaded response encoder text/csv\u001b[0m\n",
      "\u001b[34m[11/04/2024 10:14:45 INFO 139954525812544] loaded entry point class algorithm:model\u001b[0m\n",
      "\u001b[34m[11/04/2024 10:14:45 INFO 139954525812544] Number of server workers: 4\u001b[0m\n",
      "\u001b[34m[11/04/2024 10:14:45 INFO 139954525812544] loading model...\u001b[0m\n",
      "\u001b[35m[11/04/2024 10:14:45 WARNING 139954525812544] Loggers have already been setup.\u001b[0m\n",
      "\u001b[35m[11/04/2024 10:14:45 INFO 139954525812544] loaded entry point class algorithm.serve.server_config:config_api\u001b[0m\n",
      "\u001b[35m[11/04/2024 10:14:45 INFO 139954525812544] loading entry points\u001b[0m\n",
      "\u001b[35m[11/04/2024 10:14:45 INFO 139954525812544] loaded request iterator application/json\u001b[0m\n",
      "\u001b[35m[11/04/2024 10:14:45 INFO 139954525812544] loaded request iterator application/jsonlines\u001b[0m\n",
      "\u001b[35m[11/04/2024 10:14:45 INFO 139954525812544] loaded request iterator application/x-recordio-protobuf\u001b[0m\n",
      "\u001b[35m[11/04/2024 10:14:45 INFO 139954525812544] loaded request iterator text/csv\u001b[0m\n",
      "\u001b[35m[11/04/2024 10:14:45 INFO 139954525812544] loaded response encoder application/json\u001b[0m\n",
      "\u001b[35m[11/04/2024 10:14:45 INFO 139954525812544] loaded response encoder application/jsonlines\u001b[0m\n",
      "\u001b[35m[11/04/2024 10:14:45 INFO 139954525812544] loaded response encoder application/x-recordio-protobuf\u001b[0m\n",
      "\u001b[35m[11/04/2024 10:14:45 INFO 139954525812544] loaded response encoder text/csv\u001b[0m\n",
      "\u001b[35m[11/04/2024 10:14:45 INFO 139954525812544] loaded entry point class algorithm:model\u001b[0m\n",
      "\u001b[35m[11/04/2024 10:14:45 INFO 139954525812544] Number of server workers: 4\u001b[0m\n",
      "\u001b[35m[11/04/2024 10:14:45 INFO 139954525812544] loading model...\u001b[0m\n",
      "\u001b[34m[11/04/2024 10:14:46 INFO 139954525812544] ...model loaded.\u001b[0m\n",
      "\u001b[35m[11/04/2024 10:14:46 INFO 139954525812544] ...model loaded.\u001b[0m\n",
      "\u001b[34m[2024-11-04 10:14:46 +0000] [1] [INFO] Starting gunicorn 20.1.0\u001b[0m\n",
      "\u001b[34m[2024-11-04 10:14:46 +0000] [1] [INFO] Listening at: http://0.0.0.0:8080 (1)\u001b[0m\n",
      "\u001b[34m[2024-11-04 10:14:46 +0000] [1] [INFO] Using worker: sync\u001b[0m\n",
      "\u001b[34m[2024-11-04 10:14:46 +0000] [43] [INFO] Booting worker with pid: 43\u001b[0m\n",
      "\u001b[34m[2024-11-04 10:14:46 +0000] [52] [INFO] Booting worker with pid: 52\u001b[0m\n",
      "\u001b[34m[2024-11-04 10:14:46 +0000] [61] [INFO] Booting worker with pid: 61\u001b[0m\n",
      "\u001b[34m[2024-11-04 10:14:46 +0000] [70] [INFO] Booting worker with pid: 70\u001b[0m\n",
      "\u001b[34m#metrics {\"StartTime\": 1730715286.0008223, \"EndTime\": 1730715286.8961134, \"Dimensions\": {\"Algorithm\": \"LinearLearnerModel\", \"Host\": \"UNKNOWN\", \"Operation\": \"scoring\"}, \"Metrics\": {\"execution_parameters.count\": {\"sum\": 1.0, \"count\": 1, \"min\": 1, \"max\": 1}}}\u001b[0m\n",
      "\u001b[35m[2024-11-04 10:14:46 +0000] [1] [INFO] Starting gunicorn 20.1.0\u001b[0m\n",
      "\u001b[35m[2024-11-04 10:14:46 +0000] [1] [INFO] Listening at: http://0.0.0.0:8080 (1)\u001b[0m\n",
      "\u001b[35m[2024-11-04 10:14:46 +0000] [1] [INFO] Using worker: sync\u001b[0m\n",
      "\u001b[35m[2024-11-04 10:14:46 +0000] [43] [INFO] Booting worker with pid: 43\u001b[0m\n",
      "\u001b[35m[2024-11-04 10:14:46 +0000] [52] [INFO] Booting worker with pid: 52\u001b[0m\n",
      "\u001b[35m[2024-11-04 10:14:46 +0000] [61] [INFO] Booting worker with pid: 61\u001b[0m\n",
      "\u001b[35m[2024-11-04 10:14:46 +0000] [70] [INFO] Booting worker with pid: 70\u001b[0m\n",
      "\u001b[35m#metrics {\"StartTime\": 1730715286.0008223, \"EndTime\": 1730715286.8961134, \"Dimensions\": {\"Algorithm\": \"LinearLearnerModel\", \"Host\": \"UNKNOWN\", \"Operation\": \"scoring\"}, \"Metrics\": {\"execution_parameters.count\": {\"sum\": 1.0, \"count\": 1, \"min\": 1, \"max\": 1}}}\u001b[0m\n",
      "\u001b[32m2024-11-04T10:14:46.904:[sagemaker logs]: MaxConcurrentTransforms=4, MaxPayloadInMB=6, BatchStrategy=MULTI_RECORD\u001b[0m\n",
      "\u001b[34m#metrics {\"StartTime\": 1730715286.0008223, \"EndTime\": 1730715289.7015212, \"Dimensions\": {\"Algorithm\": \"LinearLearnerModel\", \"Host\": \"UNKNOWN\", \"Operation\": \"scoring\"}, \"Metrics\": {\"json.encoder.time\": {\"sum\": 135.25891304016113, \"count\": 1, \"min\": 135.25891304016113, \"max\": 135.25891304016113}, \"invocations.count\": {\"sum\": 1.0, \"count\": 1, \"min\": 1, \"max\": 1}}}\u001b[0m\n",
      "\u001b[34m#metrics {\"StartTime\": 1730715286.896371, \"EndTime\": 1730715289.7747898, \"Dimensions\": {\"Algorithm\": \"LinearLearnerModel\", \"Host\": \"UNKNOWN\", \"Operation\": \"scoring\"}, \"Metrics\": {\"json.encoder.time\": {\"sum\": 143.14532279968262, \"count\": 1, \"min\": 143.14532279968262, \"max\": 143.14532279968262}, \"invocations.count\": {\"sum\": 1.0, \"count\": 1, \"min\": 1, \"max\": 1}}}\u001b[0m\n",
      "\u001b[34m#metrics {\"StartTime\": 1730715286.0008223, \"EndTime\": 1730715289.8742266, \"Dimensions\": {\"Algorithm\": \"LinearLearnerModel\", \"Host\": \"UNKNOWN\", \"Operation\": \"scoring\"}, \"Metrics\": {\"json.encoder.time\": {\"sum\": 133.84509086608887, \"count\": 1, \"min\": 133.84509086608887, \"max\": 133.84509086608887}, \"invocations.count\": {\"sum\": 1.0, \"count\": 1, \"min\": 1, \"max\": 1}}}\u001b[0m\n",
      "\u001b[34m#metrics {\"StartTime\": 1730715286.0008223, \"EndTime\": 1730715289.9476976, \"Dimensions\": {\"Algorithm\": \"LinearLearnerModel\", \"Host\": \"UNKNOWN\", \"Operation\": \"scoring\"}, \"Metrics\": {\"json.encoder.time\": {\"sum\": 136.66200637817383, \"count\": 1, \"min\": 136.66200637817383, \"max\": 136.66200637817383}, \"invocations.count\": {\"sum\": 1.0, \"count\": 1, \"min\": 1, \"max\": 1}}}\u001b[0m\n",
      "\u001b[35m#metrics {\"StartTime\": 1730715286.0008223, \"EndTime\": 1730715289.7015212, \"Dimensions\": {\"Algorithm\": \"LinearLearnerModel\", \"Host\": \"UNKNOWN\", \"Operation\": \"scoring\"}, \"Metrics\": {\"json.encoder.time\": {\"sum\": 135.25891304016113, \"count\": 1, \"min\": 135.25891304016113, \"max\": 135.25891304016113}, \"invocations.count\": {\"sum\": 1.0, \"count\": 1, \"min\": 1, \"max\": 1}}}\u001b[0m\n",
      "\u001b[35m#metrics {\"StartTime\": 1730715286.896371, \"EndTime\": 1730715289.7747898, \"Dimensions\": {\"Algorithm\": \"LinearLearnerModel\", \"Host\": \"UNKNOWN\", \"Operation\": \"scoring\"}, \"Metrics\": {\"json.encoder.time\": {\"sum\": 143.14532279968262, \"count\": 1, \"min\": 143.14532279968262, \"max\": 143.14532279968262}, \"invocations.count\": {\"sum\": 1.0, \"count\": 1, \"min\": 1, \"max\": 1}}}\u001b[0m\n",
      "\u001b[35m#metrics {\"StartTime\": 1730715286.0008223, \"EndTime\": 1730715289.8742266, \"Dimensions\": {\"Algorithm\": \"LinearLearnerModel\", \"Host\": \"UNKNOWN\", \"Operation\": \"scoring\"}, \"Metrics\": {\"json.encoder.time\": {\"sum\": 133.84509086608887, \"count\": 1, \"min\": 133.84509086608887, \"max\": 133.84509086608887}, \"invocations.count\": {\"sum\": 1.0, \"count\": 1, \"min\": 1, \"max\": 1}}}\u001b[0m\n",
      "\u001b[35m#metrics {\"StartTime\": 1730715286.0008223, \"EndTime\": 1730715289.9476976, \"Dimensions\": {\"Algorithm\": \"LinearLearnerModel\", \"Host\": \"UNKNOWN\", \"Operation\": \"scoring\"}, \"Metrics\": {\"json.encoder.time\": {\"sum\": 136.66200637817383, \"count\": 1, \"min\": 136.66200637817383, \"max\": 136.66200637817383}, \"invocations.count\": {\"sum\": 1.0, \"count\": 1, \"min\": 1, \"max\": 1}}}\u001b[0m\n",
      "\u001b[34m#metrics {\"StartTime\": 1730715289.947873, \"EndTime\": 1730715290.6800494, \"Dimensions\": {\"Algorithm\": \"LinearLearnerModel\", \"Host\": \"UNKNOWN\", \"Operation\": \"scoring\"}, \"Metrics\": {\"json.encoder.time\": {\"sum\": 52.54006385803223, \"count\": 1, \"min\": 52.54006385803223, \"max\": 52.54006385803223}, \"invocations.count\": {\"sum\": 1.0, \"count\": 1, \"min\": 1, \"max\": 1}}}\u001b[0m\n",
      "\u001b[35m#metrics {\"StartTime\": 1730715289.947873, \"EndTime\": 1730715290.6800494, \"Dimensions\": {\"Algorithm\": \"LinearLearnerModel\", \"Host\": \"UNKNOWN\", \"Operation\": \"scoring\"}, \"Metrics\": {\"json.encoder.time\": {\"sum\": 52.54006385803223, \"count\": 1, \"min\": 52.54006385803223, \"max\": 52.54006385803223}, \"invocations.count\": {\"sum\": 1.0, \"count\": 1, \"min\": 1, \"max\": 1}}}\u001b[0m\n",
      "\u001b[34m#metrics {\"StartTime\": 1730715289.7016845, \"EndTime\": 1730715291.2309659, \"Dimensions\": {\"Algorithm\": \"LinearLearnerModel\", \"Host\": \"UNKNOWN\", \"Operation\": \"scoring\"}, \"Metrics\": {\"json.encoder.time\": {\"sum\": 73.60219955444336, \"count\": 1, \"min\": 73.60219955444336, \"max\": 73.60219955444336}, \"invocations.count\": {\"sum\": 1.0, \"count\": 1, \"min\": 1, \"max\": 1}}}\u001b[0m\n",
      "\u001b[34m#metrics {\"StartTime\": 1730715289.8743937, \"EndTime\": 1730715291.3196216, \"Dimensions\": {\"Algorithm\": \"LinearLearnerModel\", \"Host\": \"UNKNOWN\", \"Operation\": \"scoring\"}, \"Metrics\": {\"json.encoder.time\": {\"sum\": 138.6418342590332, \"count\": 1, \"min\": 138.6418342590332, \"max\": 138.6418342590332}, \"invocations.count\": {\"sum\": 1.0, \"count\": 1, \"min\": 1, \"max\": 1}}}\u001b[0m\n",
      "\u001b[34m#metrics {\"StartTime\": 1730715289.7755392, \"EndTime\": 1730715291.4325078, \"Dimensions\": {\"Algorithm\": \"LinearLearnerModel\", \"Host\": \"UNKNOWN\", \"Operation\": \"scoring\"}, \"Metrics\": {\"json.encoder.time\": {\"sum\": 80.77001571655273, \"count\": 1, \"min\": 80.77001571655273, \"max\": 80.77001571655273}, \"invocations.count\": {\"sum\": 1.0, \"count\": 1, \"min\": 1, \"max\": 1}}}\u001b[0m\n",
      "\u001b[35m#metrics {\"StartTime\": 1730715289.7016845, \"EndTime\": 1730715291.2309659, \"Dimensions\": {\"Algorithm\": \"LinearLearnerModel\", \"Host\": \"UNKNOWN\", \"Operation\": \"scoring\"}, \"Metrics\": {\"json.encoder.time\": {\"sum\": 73.60219955444336, \"count\": 1, \"min\": 73.60219955444336, \"max\": 73.60219955444336}, \"invocations.count\": {\"sum\": 1.0, \"count\": 1, \"min\": 1, \"max\": 1}}}\u001b[0m\n",
      "\u001b[35m#metrics {\"StartTime\": 1730715289.8743937, \"EndTime\": 1730715291.3196216, \"Dimensions\": {\"Algorithm\": \"LinearLearnerModel\", \"Host\": \"UNKNOWN\", \"Operation\": \"scoring\"}, \"Metrics\": {\"json.encoder.time\": {\"sum\": 138.6418342590332, \"count\": 1, \"min\": 138.6418342590332, \"max\": 138.6418342590332}, \"invocations.count\": {\"sum\": 1.0, \"count\": 1, \"min\": 1, \"max\": 1}}}\u001b[0m\n",
      "\u001b[35m#metrics {\"StartTime\": 1730715289.7755392, \"EndTime\": 1730715291.4325078, \"Dimensions\": {\"Algorithm\": \"LinearLearnerModel\", \"Host\": \"UNKNOWN\", \"Operation\": \"scoring\"}, \"Metrics\": {\"json.encoder.time\": {\"sum\": 80.77001571655273, \"count\": 1, \"min\": 80.77001571655273, \"max\": 80.77001571655273}, \"invocations.count\": {\"sum\": 1.0, \"count\": 1, \"min\": 1, \"max\": 1}}}\u001b[0m\n",
      "\n",
      "\u001b[34mDocker entrypoint called with argument(s): serve\u001b[0m\n",
      "\u001b[34mRunning default environment configuration script\u001b[0m\n",
      "\u001b[34m[11/04/2024 10:14:41 INFO 139954525812544] Memory profiler is not enabled by the environment variable ENABLE_PROFILER.\u001b[0m\n",
      "\u001b[34m/opt/amazon/lib/python3.8/site-packages/mxnet/model.py:97: SyntaxWarning: \"is\" with a literal. Did you mean \"==\"?\n",
      "  if num_device is 1 and 'dist' not in kvstore:\u001b[0m\n",
      "\u001b[35mDocker entrypoint called with argument(s): serve\u001b[0m\n",
      "\u001b[35mRunning default environment configuration script\u001b[0m\n",
      "\u001b[35m[11/04/2024 10:14:41 INFO 139954525812544] Memory profiler is not enabled by the environment variable ENABLE_PROFILER.\u001b[0m\n",
      "\u001b[35m/opt/amazon/lib/python3.8/site-packages/mxnet/model.py:97: SyntaxWarning: \"is\" with a literal. Did you mean \"==\"?\n",
      "  if num_device is 1 and 'dist' not in kvstore:\u001b[0m\n",
      "\u001b[34m/opt/amazon/lib/python3.8/site-packages/scipy/optimize/_shgo.py:495: SyntaxWarning: \"is\" with a literal. Did you mean \"==\"?\n",
      "  if cons['type'] is 'ineq':\u001b[0m\n",
      "\u001b[34m/opt/amazon/lib/python3.8/site-packages/scipy/optimize/_shgo.py:743: SyntaxWarning: \"is not\" with a literal. Did you mean \"!=\"?\n",
      "  if len(self.X_min) is not 0:\u001b[0m\n",
      "\u001b[35m/opt/amazon/lib/python3.8/site-packages/scipy/optimize/_shgo.py:495: SyntaxWarning: \"is\" with a literal. Did you mean \"==\"?\n",
      "  if cons['type'] is 'ineq':\u001b[0m\n",
      "\u001b[35m/opt/amazon/lib/python3.8/site-packages/scipy/optimize/_shgo.py:743: SyntaxWarning: \"is not\" with a literal. Did you mean \"!=\"?\n",
      "  if len(self.X_min) is not 0:\u001b[0m\n",
      "\u001b[34m[11/04/2024 10:14:45 WARNING 139954525812544] Loggers have already been setup.\u001b[0m\n",
      "\u001b[34m[11/04/2024 10:14:45 INFO 139954525812544] loaded entry point class algorithm.serve.server_config:config_api\u001b[0m\n",
      "\u001b[34m[11/04/2024 10:14:45 INFO 139954525812544] loading entry points\u001b[0m\n",
      "\u001b[34m[11/04/2024 10:14:45 INFO 139954525812544] loaded request iterator application/json\u001b[0m\n",
      "\u001b[34m[11/04/2024 10:14:45 INFO 139954525812544] loaded request iterator application/jsonlines\u001b[0m\n",
      "\u001b[34m[11/04/2024 10:14:45 INFO 139954525812544] loaded request iterator application/x-recordio-protobuf\u001b[0m\n",
      "\u001b[34m[11/04/2024 10:14:45 INFO 139954525812544] loaded request iterator text/csv\u001b[0m\n",
      "\u001b[34m[11/04/2024 10:14:45 INFO 139954525812544] loaded response encoder application/json\u001b[0m\n",
      "\u001b[34m[11/04/2024 10:14:45 INFO 139954525812544] loaded response encoder application/jsonlines\u001b[0m\n",
      "\u001b[34m[11/04/2024 10:14:45 INFO 139954525812544] loaded response encoder application/x-recordio-protobuf\u001b[0m\n",
      "\u001b[34m[11/04/2024 10:14:45 INFO 139954525812544] loaded response encoder text/csv\u001b[0m\n",
      "\u001b[34m[11/04/2024 10:14:45 INFO 139954525812544] loaded entry point class algorithm:model\u001b[0m\n",
      "\u001b[34m[11/04/2024 10:14:45 INFO 139954525812544] Number of server workers: 4\u001b[0m\n",
      "\u001b[34m[11/04/2024 10:14:45 INFO 139954525812544] loading model...\u001b[0m\n",
      "\u001b[35m[11/04/2024 10:14:45 WARNING 139954525812544] Loggers have already been setup.\u001b[0m\n",
      "\u001b[35m[11/04/2024 10:14:45 INFO 139954525812544] loaded entry point class algorithm.serve.server_config:config_api\u001b[0m\n",
      "\u001b[35m[11/04/2024 10:14:45 INFO 139954525812544] loading entry points\u001b[0m\n",
      "\u001b[35m[11/04/2024 10:14:45 INFO 139954525812544] loaded request iterator application/json\u001b[0m\n",
      "\u001b[35m[11/04/2024 10:14:45 INFO 139954525812544] loaded request iterator application/jsonlines\u001b[0m\n",
      "\u001b[35m[11/04/2024 10:14:45 INFO 139954525812544] loaded request iterator application/x-recordio-protobuf\u001b[0m\n",
      "\u001b[35m[11/04/2024 10:14:45 INFO 139954525812544] loaded request iterator text/csv\u001b[0m\n",
      "\u001b[35m[11/04/2024 10:14:45 INFO 139954525812544] loaded response encoder application/json\u001b[0m\n",
      "\u001b[35m[11/04/2024 10:14:45 INFO 139954525812544] loaded response encoder application/jsonlines\u001b[0m\n",
      "\u001b[35m[11/04/2024 10:14:45 INFO 139954525812544] loaded response encoder application/x-recordio-protobuf\u001b[0m\n",
      "\u001b[35m[11/04/2024 10:14:45 INFO 139954525812544] loaded response encoder text/csv\u001b[0m\n",
      "\u001b[35m[11/04/2024 10:14:45 INFO 139954525812544] loaded entry point class algorithm:model\u001b[0m\n",
      "\u001b[35m[11/04/2024 10:14:45 INFO 139954525812544] Number of server workers: 4\u001b[0m\n",
      "\u001b[35m[11/04/2024 10:14:45 INFO 139954525812544] loading model...\u001b[0m\n",
      "\u001b[34m[11/04/2024 10:14:46 INFO 139954525812544] ...model loaded.\u001b[0m\n",
      "\u001b[35m[11/04/2024 10:14:46 INFO 139954525812544] ...model loaded.\u001b[0m\n",
      "\u001b[34m[2024-11-04 10:14:46 +0000] [1] [INFO] Starting gunicorn 20.1.0\u001b[0m\n",
      "\u001b[34m[2024-11-04 10:14:46 +0000] [1] [INFO] Listening at: http://0.0.0.0:8080 (1)\u001b[0m\n",
      "\u001b[34m[2024-11-04 10:14:46 +0000] [1] [INFO] Using worker: sync\u001b[0m\n",
      "\u001b[34m[2024-11-04 10:14:46 +0000] [43] [INFO] Booting worker with pid: 43\u001b[0m\n",
      "\u001b[34m[2024-11-04 10:14:46 +0000] [52] [INFO] Booting worker with pid: 52\u001b[0m\n",
      "\u001b[34m[2024-11-04 10:14:46 +0000] [61] [INFO] Booting worker with pid: 61\u001b[0m\n",
      "\u001b[34m[2024-11-04 10:14:46 +0000] [70] [INFO] Booting worker with pid: 70\u001b[0m\n",
      "\u001b[34m#metrics {\"StartTime\": 1730715286.0008223, \"EndTime\": 1730715286.8961134, \"Dimensions\": {\"Algorithm\": \"LinearLearnerModel\", \"Host\": \"UNKNOWN\", \"Operation\": \"scoring\"}, \"Metrics\": {\"execution_parameters.count\": {\"sum\": 1.0, \"count\": 1, \"min\": 1, \"max\": 1}}}\u001b[0m\n",
      "\u001b[35m[2024-11-04 10:14:46 +0000] [1] [INFO] Starting gunicorn 20.1.0\u001b[0m\n",
      "\u001b[35m[2024-11-04 10:14:46 +0000] [1] [INFO] Listening at: http://0.0.0.0:8080 (1)\u001b[0m\n",
      "\u001b[35m[2024-11-04 10:14:46 +0000] [1] [INFO] Using worker: sync\u001b[0m\n",
      "\u001b[35m[2024-11-04 10:14:46 +0000] [43] [INFO] Booting worker with pid: 43\u001b[0m\n",
      "\u001b[35m[2024-11-04 10:14:46 +0000] [52] [INFO] Booting worker with pid: 52\u001b[0m\n",
      "\u001b[35m[2024-11-04 10:14:46 +0000] [61] [INFO] Booting worker with pid: 61\u001b[0m\n",
      "\u001b[35m[2024-11-04 10:14:46 +0000] [70] [INFO] Booting worker with pid: 70\u001b[0m\n",
      "\u001b[35m#metrics {\"StartTime\": 1730715286.0008223, \"EndTime\": 1730715286.8961134, \"Dimensions\": {\"Algorithm\": \"LinearLearnerModel\", \"Host\": \"UNKNOWN\", \"Operation\": \"scoring\"}, \"Metrics\": {\"execution_parameters.count\": {\"sum\": 1.0, \"count\": 1, \"min\": 1, \"max\": 1}}}\u001b[0m\n",
      "\u001b[32m2024-11-04T10:14:46.904:[sagemaker logs]: MaxConcurrentTransforms=4, MaxPayloadInMB=6, BatchStrategy=MULTI_RECORD\u001b[0m\n",
      "\u001b[34m#metrics {\"StartTime\": 1730715286.0008223, \"EndTime\": 1730715289.7015212, \"Dimensions\": {\"Algorithm\": \"LinearLearnerModel\", \"Host\": \"UNKNOWN\", \"Operation\": \"scoring\"}, \"Metrics\": {\"json.encoder.time\": {\"sum\": 135.25891304016113, \"count\": 1, \"min\": 135.25891304016113, \"max\": 135.25891304016113}, \"invocations.count\": {\"sum\": 1.0, \"count\": 1, \"min\": 1, \"max\": 1}}}\u001b[0m\n",
      "\u001b[34m#metrics {\"StartTime\": 1730715286.896371, \"EndTime\": 1730715289.7747898, \"Dimensions\": {\"Algorithm\": \"LinearLearnerModel\", \"Host\": \"UNKNOWN\", \"Operation\": \"scoring\"}, \"Metrics\": {\"json.encoder.time\": {\"sum\": 143.14532279968262, \"count\": 1, \"min\": 143.14532279968262, \"max\": 143.14532279968262}, \"invocations.count\": {\"sum\": 1.0, \"count\": 1, \"min\": 1, \"max\": 1}}}\u001b[0m\n",
      "\u001b[34m#metrics {\"StartTime\": 1730715286.0008223, \"EndTime\": 1730715289.8742266, \"Dimensions\": {\"Algorithm\": \"LinearLearnerModel\", \"Host\": \"UNKNOWN\", \"Operation\": \"scoring\"}, \"Metrics\": {\"json.encoder.time\": {\"sum\": 133.84509086608887, \"count\": 1, \"min\": 133.84509086608887, \"max\": 133.84509086608887}, \"invocations.count\": {\"sum\": 1.0, \"count\": 1, \"min\": 1, \"max\": 1}}}\u001b[0m\n",
      "\u001b[34m#metrics {\"StartTime\": 1730715286.0008223, \"EndTime\": 1730715289.9476976, \"Dimensions\": {\"Algorithm\": \"LinearLearnerModel\", \"Host\": \"UNKNOWN\", \"Operation\": \"scoring\"}, \"Metrics\": {\"json.encoder.time\": {\"sum\": 136.66200637817383, \"count\": 1, \"min\": 136.66200637817383, \"max\": 136.66200637817383}, \"invocations.count\": {\"sum\": 1.0, \"count\": 1, \"min\": 1, \"max\": 1}}}\u001b[0m\n",
      "\u001b[35m#metrics {\"StartTime\": 1730715286.0008223, \"EndTime\": 1730715289.7015212, \"Dimensions\": {\"Algorithm\": \"LinearLearnerModel\", \"Host\": \"UNKNOWN\", \"Operation\": \"scoring\"}, \"Metrics\": {\"json.encoder.time\": {\"sum\": 135.25891304016113, \"count\": 1, \"min\": 135.25891304016113, \"max\": 135.25891304016113}, \"invocations.count\": {\"sum\": 1.0, \"count\": 1, \"min\": 1, \"max\": 1}}}\u001b[0m\n",
      "\u001b[35m#metrics {\"StartTime\": 1730715286.896371, \"EndTime\": 1730715289.7747898, \"Dimensions\": {\"Algorithm\": \"LinearLearnerModel\", \"Host\": \"UNKNOWN\", \"Operation\": \"scoring\"}, \"Metrics\": {\"json.encoder.time\": {\"sum\": 143.14532279968262, \"count\": 1, \"min\": 143.14532279968262, \"max\": 143.14532279968262}, \"invocations.count\": {\"sum\": 1.0, \"count\": 1, \"min\": 1, \"max\": 1}}}\u001b[0m\n",
      "\u001b[35m#metrics {\"StartTime\": 1730715286.0008223, \"EndTime\": 1730715289.8742266, \"Dimensions\": {\"Algorithm\": \"LinearLearnerModel\", \"Host\": \"UNKNOWN\", \"Operation\": \"scoring\"}, \"Metrics\": {\"json.encoder.time\": {\"sum\": 133.84509086608887, \"count\": 1, \"min\": 133.84509086608887, \"max\": 133.84509086608887}, \"invocations.count\": {\"sum\": 1.0, \"count\": 1, \"min\": 1, \"max\": 1}}}\u001b[0m\n",
      "\u001b[35m#metrics {\"StartTime\": 1730715286.0008223, \"EndTime\": 1730715289.9476976, \"Dimensions\": {\"Algorithm\": \"LinearLearnerModel\", \"Host\": \"UNKNOWN\", \"Operation\": \"scoring\"}, \"Metrics\": {\"json.encoder.time\": {\"sum\": 136.66200637817383, \"count\": 1, \"min\": 136.66200637817383, \"max\": 136.66200637817383}, \"invocations.count\": {\"sum\": 1.0, \"count\": 1, \"min\": 1, \"max\": 1}}}\u001b[0m\n",
      "\u001b[34m#metrics {\"StartTime\": 1730715289.947873, \"EndTime\": 1730715290.6800494, \"Dimensions\": {\"Algorithm\": \"LinearLearnerModel\", \"Host\": \"UNKNOWN\", \"Operation\": \"scoring\"}, \"Metrics\": {\"json.encoder.time\": {\"sum\": 52.54006385803223, \"count\": 1, \"min\": 52.54006385803223, \"max\": 52.54006385803223}, \"invocations.count\": {\"sum\": 1.0, \"count\": 1, \"min\": 1, \"max\": 1}}}\u001b[0m\n",
      "\u001b[35m#metrics {\"StartTime\": 1730715289.947873, \"EndTime\": 1730715290.6800494, \"Dimensions\": {\"Algorithm\": \"LinearLearnerModel\", \"Host\": \"UNKNOWN\", \"Operation\": \"scoring\"}, \"Metrics\": {\"json.encoder.time\": {\"sum\": 52.54006385803223, \"count\": 1, \"min\": 52.54006385803223, \"max\": 52.54006385803223}, \"invocations.count\": {\"sum\": 1.0, \"count\": 1, \"min\": 1, \"max\": 1}}}\u001b[0m\n",
      "\u001b[34m#metrics {\"StartTime\": 1730715289.7016845, \"EndTime\": 1730715291.2309659, \"Dimensions\": {\"Algorithm\": \"LinearLearnerModel\", \"Host\": \"UNKNOWN\", \"Operation\": \"scoring\"}, \"Metrics\": {\"json.encoder.time\": {\"sum\": 73.60219955444336, \"count\": 1, \"min\": 73.60219955444336, \"max\": 73.60219955444336}, \"invocations.count\": {\"sum\": 1.0, \"count\": 1, \"min\": 1, \"max\": 1}}}\u001b[0m\n",
      "\u001b[34m#metrics {\"StartTime\": 1730715289.8743937, \"EndTime\": 1730715291.3196216, \"Dimensions\": {\"Algorithm\": \"LinearLearnerModel\", \"Host\": \"UNKNOWN\", \"Operation\": \"scoring\"}, \"Metrics\": {\"json.encoder.time\": {\"sum\": 138.6418342590332, \"count\": 1, \"min\": 138.6418342590332, \"max\": 138.6418342590332}, \"invocations.count\": {\"sum\": 1.0, \"count\": 1, \"min\": 1, \"max\": 1}}}\u001b[0m\n",
      "\u001b[34m#metrics {\"StartTime\": 1730715289.7755392, \"EndTime\": 1730715291.4325078, \"Dimensions\": {\"Algorithm\": \"LinearLearnerModel\", \"Host\": \"UNKNOWN\", \"Operation\": \"scoring\"}, \"Metrics\": {\"json.encoder.time\": {\"sum\": 80.77001571655273, \"count\": 1, \"min\": 80.77001571655273, \"max\": 80.77001571655273}, \"invocations.count\": {\"sum\": 1.0, \"count\": 1, \"min\": 1, \"max\": 1}}}\u001b[0m\n",
      "\u001b[35m#metrics {\"StartTime\": 1730715289.7016845, \"EndTime\": 1730715291.2309659, \"Dimensions\": {\"Algorithm\": \"LinearLearnerModel\", \"Host\": \"UNKNOWN\", \"Operation\": \"scoring\"}, \"Metrics\": {\"json.encoder.time\": {\"sum\": 73.60219955444336, \"count\": 1, \"min\": 73.60219955444336, \"max\": 73.60219955444336}, \"invocations.count\": {\"sum\": 1.0, \"count\": 1, \"min\": 1, \"max\": 1}}}\u001b[0m\n",
      "\u001b[35m#metrics {\"StartTime\": 1730715289.8743937, \"EndTime\": 1730715291.3196216, \"Dimensions\": {\"Algorithm\": \"LinearLearnerModel\", \"Host\": \"UNKNOWN\", \"Operation\": \"scoring\"}, \"Metrics\": {\"json.encoder.time\": {\"sum\": 138.6418342590332, \"count\": 1, \"min\": 138.6418342590332, \"max\": 138.6418342590332}, \"invocations.count\": {\"sum\": 1.0, \"count\": 1, \"min\": 1, \"max\": 1}}}\u001b[0m\n",
      "\u001b[35m#metrics {\"StartTime\": 1730715289.7755392, \"EndTime\": 1730715291.4325078, \"Dimensions\": {\"Algorithm\": \"LinearLearnerModel\", \"Host\": \"UNKNOWN\", \"Operation\": \"scoring\"}, \"Metrics\": {\"json.encoder.time\": {\"sum\": 80.77001571655273, \"count\": 1, \"min\": 80.77001571655273, \"max\": 80.77001571655273}, \"invocations.count\": {\"sum\": 1.0, \"count\": 1, \"min\": 1, \"max\": 1}}}\u001b[0m\n"
     ]
    }
   ],
   "source": [
    "test_labels, target_predicted = batch_linear_predict(test, classifier_estimator)"
   ]
  },
  {
   "cell_type": "code",
   "execution_count": 45,
   "id": "9c39758f-7426-47df-b71b-a9dea08f9f5e",
   "metadata": {
    "tags": []
   },
   "outputs": [],
   "source": [
    "import seaborn as sns\n",
    "import matplotlib.pyplot as plt\n",
    "from sklearn.metrics import confusion_matrix\n",
    "\n",
    "def plot_confusion_matrix(test_labels, target_predicted):\n",
    "    matrix = confusion_matrix(test_labels, target_predicted)\n",
    "    df_confusion = pd.DataFrame(matrix)\n",
    "    colormap = sns.color_palette(\"BrBG\", 10)\n",
    "    sns.heatmap(df_confusion, annot=True, fmt='.2f', cbar=None, cmap=colormap)\n",
    "    plt.title(\"Confusion Matrix\")\n",
    "    plt.tight_layout()\n",
    "    plt.ylabel(\"True Class\")\n",
    "    plt.xlabel(\"Predicted Class\")\n",
    "    plt.show()"
   ]
  },
  {
   "cell_type": "code",
   "execution_count": 46,
   "id": "7ff70b84-63bb-485b-903d-9dbe99439ddc",
   "metadata": {
    "tags": []
   },
   "outputs": [],
   "source": [
    "from sklearn import metrics\n",
    "\n",
    "def plot_roc(test_labels, target_predicted):\n",
    "    TN, FP, FN, TP = confusion_matrix(test_labels, target_predicted).ravel()\n",
    "    # Sensitivity, hit rate, recall, or true positive rate\n",
    "    Sensitivity  = float(TP)/(TP+FN)*100\n",
    "    # Specificity or true negative rate\n",
    "    Specificity  = float(TN)/(TN+FP)*100\n",
    "    # Precision or positive predictive value\n",
    "    Precision = float(TP)/(TP+FP)*100\n",
    "    # Negative predictive value\n",
    "    NPV = float(TN)/(TN+FN)*100\n",
    "    # Fall out or false positive rate\n",
    "    FPR = float(FP)/(FP+TN)*100\n",
    "    # False negative rate\n",
    "    FNR = float(FN)/(TP+FN)*100\n",
    "    # False discovery rate\n",
    "    FDR = float(FP)/(TP+FP)*100\n",
    "    # Overall accuracy\n",
    "    ACC = float(TP+TN)/(TP+FP+FN+TN)*100\n",
    "\n",
    "    print(\"Sensitivity or TPR: \", Sensitivity, \"%\") \n",
    "    print( \"Specificity or TNR: \",Specificity, \"%\") \n",
    "    print(\"Precision: \",Precision, \"%\") \n",
    "    print(\"Negative Predictive Value: \",NPV, \"%\") \n",
    "    print( \"False Positive Rate: \",FPR,\"%\")\n",
    "    print(\"False Negative Rate: \",FNR, \"%\") \n",
    "    print(\"False Discovery Rate: \",FDR, \"%\" )\n",
    "    print(\"Accuracy: \",ACC, \"%\") \n",
    "\n",
    "    test_labels = test.iloc[:,0];\n",
    "    print(\"Validation AUC\", metrics.roc_auc_score(test_labels, target_predicted) )\n",
    "\n",
    "    fpr, tpr, thresholds = metrics.roc_curve(test_labels, target_predicted)\n",
    "    roc_auc = metrics.auc(fpr, tpr)\n",
    "\n",
    "    plt.figure()\n",
    "    plt.plot(fpr, tpr, label='ROC curve (area = %0.2f)' % (roc_auc))\n",
    "    plt.plot([0, 1], [0, 1], 'k--')\n",
    "    plt.xlim([0.0, 1.0])\n",
    "    plt.ylim([0.0, 1.05])\n",
    "    plt.xlabel('False Positive Rate')\n",
    "    plt.ylabel('True Positive Rate')\n",
    "    plt.title('Receiver operating characteristic')\n",
    "    plt.legend(loc=\"lower right\")\n",
    "\n",
    "    # create the axis of thresholds (scores)\n",
    "    ax2 = plt.gca().twinx()\n",
    "    ax2.plot(fpr, thresholds, markeredgecolor='r',linestyle='dashed', color='r')\n",
    "    ax2.set_ylabel('Threshold',color='r')\n",
    "    ax2.set_ylim([0,1])\n",
    "    ax2.set_xlim([fpr[0],fpr[-1]])\n",
    "\n",
    "    print(plt.figure())"
   ]
  },
  {
   "cell_type": "code",
   "execution_count": 47,
   "id": "05293a75-2549-4281-ac22-ce706856d008",
   "metadata": {
    "tags": []
   },
   "outputs": [
    {
     "data": {
      "image/png": "[encoded data removed]",
      "text/plain": [
       "<Figure size 640x480 with 1 Axes>"
      ]
     },
     "metadata": {},
     "output_type": "display_data"
    }
   ],
   "source": [
    "plot_confusion_matrix(test_labels, target_predicted)"
   ]
  },
  {
   "cell_type": "code",
   "execution_count": 48,
   "id": "c9134992-3035-43a3-968f-70960e93dac7",
   "metadata": {
    "tags": []
   },
   "outputs": [
    {
     "name": "stdout",
     "output_type": "stream",
     "text": [
      "Sensitivity or TPR:  0.39417475728155343 %\n",
      "Specificity or TNR:  99.91384558239355 %\n",
      "Precision:  54.864864864864856 %\n",
      "Negative Predictive Value:  79.05971392181837 %\n",
      "False Positive Rate:  0.08615441760645488 %\n",
      "False Negative Rate:  99.60582524271845 %\n",
      "False Discovery Rate:  45.13513513513514 %\n",
      "Accuracy:  79.02322510169644 %\n",
      "Validation AUC 0.5015401016983755\n",
      "Figure(640x480)\n"
     ]
    },
    {
     "data": {
      "image/png": "[encoded data removed]",
      "text/plain": [
       "<Figure size 640x480 with 2 Axes>"
      ]
     },
     "metadata": {},
     "output_type": "display_data"
    },
    {
     "data": {
      "text/plain": [
       "<Figure size 640x480 with 0 Axes>"
      ]
     },
     "metadata": {},
     "output_type": "display_data"
    }
   ],
   "source": [
    "plot_roc(test_labels, target_predicted)"
   ]
  },
  {
   "cell_type": "markdown",
   "id": "2cf248c9-435f-40e3-a551-7a84d4bddcb4",
   "metadata": {},
   "source": [
    "# Model 2 Linear Estimator"
   ]
  },
  {
   "cell_type": "code",
   "execution_count": 49,
   "id": "46a71132-135f-4997-8076-310aa78c788a",
   "metadata": {
    "tags": []
   },
   "outputs": [],
   "source": [
    "train, test, validate = split_data(df2)"
   ]
  },
  {
   "cell_type": "code",
   "execution_count": 50,
   "id": "a80b8b16-704e-4d59-8bd7-93d8abdab839",
   "metadata": {
    "tags": []
   },
   "outputs": [],
   "source": [
    "import sagemaker\n",
    "from sagemaker.serializers import CSVSerializer\n",
    "from sagemaker.amazon.amazon_estimator import RecordSet\n",
    "import boto3\n",
    "classifier_estimator = sagemaker.LinearLearner(role=sagemaker.get_execution_role(),\n",
    "                                              instance_count=1,\n",
    "                                              instance_type='ml.m4.xlarge',\n",
    "                                              predictor_type='binary_classifier',\n",
    "                                              binary_classifier_model_selection_criteria = 'cross_entropy_loss')"
   ]
  },
  {
   "cell_type": "code",
   "execution_count": 51,
   "id": "0a96effa-daa4-4a08-ab27-c071ccefca82",
   "metadata": {
    "tags": []
   },
   "outputs": [],
   "source": [
    "import numpy as np\n",
    "### Create train, validate, and test records\n",
    "train_records = classifier_estimator.record_set(train.values[:, 1:].astype(np.float32), train.values[:, 0].astype(np.float32), channel='train')\n",
    "val_records = classifier_estimator.record_set(validate.values[:, 1:].astype(np.float32), validate.values[:, 0].astype(np.float32), channel='validation')\n",
    "test_records = classifier_estimator.record_set(test.values[:, 1:].astype(np.float32), test.values[:, 0].astype(np.float32), channel='test')"
   ]
  },
  {
   "cell_type": "code",
   "execution_count": 52,
   "id": "e9711f7a-cdb7-4ee8-83af-c000be9331a0",
   "metadata": {
    "tags": []
   },
   "outputs": [
    {
     "name": "stderr",
     "output_type": "stream",
     "text": [
      "INFO:sagemaker.image_uris:Same images used for training and inference. Defaulting to image scope: inference.\n",
      "INFO:sagemaker.image_uris:Ignoring unnecessary instance type: None.\n",
      "INFO:sagemaker.image_uris:Same images used for training and inference. Defaulting to image scope: inference.\n",
      "INFO:sagemaker.image_uris:Ignoring unnecessary instance type: None.\n",
      "INFO:sagemaker:Creating training-job with name: linear-learner-2024-11-04-10-18-30-450\n"
     ]
    },
    {
     "name": "stdout",
     "output_type": "stream",
     "text": [
      "\n",
      "2024-11-04 10:18:31 Starting - Starting the training job..\n",
      "2024-11-04 10:18:46 Starting - Preparing the instances for training.....\n",
      "2024-11-04 10:19:17 Downloading - Downloading input data.........\n",
      "2024-11-04 10:20:07 Downloading - Downloading the training image...........\n",
      "2024-11-04 10:21:08 Training - Training image download completed. Training in progress.....................................\n",
      "2024-11-04 10:24:14 Uploading - Uploading generated training model.\n",
      "2024-11-04 10:24:27 Completed - Training job completed\n"
     ]
    }
   ],
   "source": [
    "classifier_estimator.fit([train_records,val_records], logs=False)"
   ]
  },
  {
   "cell_type": "code",
   "execution_count": 53,
   "id": "284e1eb9-e925-40b0-885e-893f89222796",
   "metadata": {
    "tags": []
   },
   "outputs": [
    {
     "name": "stderr",
     "output_type": "stream",
     "text": [
      "INFO:sagemaker.image_uris:Same images used for training and inference. Defaulting to image scope: inference.\n",
      "INFO:sagemaker.image_uris:Ignoring unnecessary instance type: None.\n",
      "INFO:sagemaker:Creating model with name: linear-learner-2024-11-04-10-24-33-217\n",
      "INFO:sagemaker:Creating transform job with name: linear-learner-2024-11-04-10-24-33-941\n"
     ]
    },
    {
     "name": "stdout",
     "output_type": "stream",
     "text": [
      "............................................\u001b[34mDocker entrypoint called with argument(s): serve\u001b[0m\n",
      "\u001b[34mRunning default environment configuration script\u001b[0m\n",
      "\u001b[34m[11/04/2024 10:31:59 INFO 140141903030080] Memory profiler is not enabled by the environment variable ENABLE_PROFILER.\u001b[0m\n",
      "\u001b[34m/opt/amazon/lib/python3.8/site-packages/mxnet/model.py:97: SyntaxWarning: \"is\" with a literal. Did you mean \"==\"?\n",
      "  if num_device is 1 and 'dist' not in kvstore:\u001b[0m\n",
      "\u001b[34m/opt/amazon/lib/python3.8/site-packages/scipy/optimize/_shgo.py:495: SyntaxWarning: \"is\" with a literal. Did you mean \"==\"?\n",
      "  if cons['type'] is 'ineq':\u001b[0m\n",
      "\u001b[34m/opt/amazon/lib/python3.8/site-packages/scipy/optimize/_shgo.py:743: SyntaxWarning: \"is not\" with a literal. Did you mean \"!=\"?\n",
      "  if len(self.X_min) is not 0:\u001b[0m\n",
      "\u001b[34m[11/04/2024 10:32:03 WARNING 140141903030080] Loggers have already been setup.\u001b[0m\n",
      "\u001b[34m[11/04/2024 10:32:03 INFO 140141903030080] loaded entry point class algorithm.serve.server_config:config_api\u001b[0m\n",
      "\u001b[34m[11/04/2024 10:32:03 INFO 140141903030080] loading entry points\u001b[0m\n",
      "\u001b[34m[11/04/2024 10:32:03 INFO 140141903030080] loaded request iterator application/json\u001b[0m\n",
      "\u001b[34m[11/04/2024 10:32:03 INFO 140141903030080] loaded request iterator application/jsonlines\u001b[0m\n",
      "\u001b[34m[11/04/2024 10:32:03 INFO 140141903030080] loaded request iterator application/x-recordio-protobuf\u001b[0m\n",
      "\u001b[34m[11/04/2024 10:32:03 INFO 140141903030080] loaded request iterator text/csv\u001b[0m\n",
      "\u001b[34m[11/04/2024 10:32:03 INFO 140141903030080] loaded response encoder application/json\u001b[0m\n",
      "\u001b[34m[11/04/2024 10:32:03 INFO 140141903030080] loaded response encoder application/jsonlines\u001b[0m\n",
      "\u001b[34m[11/04/2024 10:32:03 INFO 140141903030080] loaded response encoder application/x-recordio-protobuf\u001b[0m\n",
      "\u001b[34m[11/04/2024 10:32:03 INFO 140141903030080] loaded response encoder text/csv\u001b[0m\n",
      "\u001b[34m[11/04/2024 10:32:04 INFO 140141903030080] loaded entry point class algorithm:model\u001b[0m\n",
      "\u001b[34m[11/04/2024 10:32:04 INFO 140141903030080] Number of server workers: 4\u001b[0m\n",
      "\u001b[34m[11/04/2024 10:32:04 INFO 140141903030080] loading model...\u001b[0m\n",
      "\u001b[34m[11/04/2024 10:32:04 INFO 140141903030080] ...model loaded.\u001b[0m\n",
      "\u001b[34m[2024-11-04 10:32:04 +0000] [1] [INFO] Starting gunicorn 20.1.0\u001b[0m\n",
      "\u001b[34m[2024-11-04 10:32:04 +0000] [1] [INFO] Listening at: http://0.0.0.0:8080 (1)\u001b[0m\n",
      "\u001b[34m[2024-11-04 10:32:04 +0000] [1] [INFO] Using worker: sync\u001b[0m\n",
      "\u001b[34m[2024-11-04 10:32:04 +0000] [43] [INFO] Booting worker with pid: 43\u001b[0m\n",
      "\u001b[34m[2024-11-04 10:32:04 +0000] [52] [INFO] Booting worker with pid: 52\u001b[0m\n",
      "\u001b[34m[2024-11-04 10:32:04 +0000] [61] [INFO] Booting worker with pid: 61\u001b[0m\n",
      "\n",
      "\u001b[34m[2024-11-04 10:32:04 +0000] [70] [INFO] Booting worker with pid: 70\u001b[0m\n",
      "\u001b[34m#metrics {\"StartTime\": 1730716324.1437254, \"EndTime\": 1730716324.6826136, \"Dimensions\": {\"Algorithm\": \"LinearLearnerModel\", \"Host\": \"UNKNOWN\", \"Operation\": \"scoring\"}, \"Metrics\": {\"execution_parameters.count\": {\"sum\": 1.0, \"count\": 1, \"min\": 1, \"max\": 1}}}\u001b[0m\n",
      "\u001b[35m[2024-11-04 10:32:04 +0000] [70] [INFO] Booting worker with pid: 70\u001b[0m\n",
      "\u001b[35m#metrics {\"StartTime\": 1730716324.1437254, \"EndTime\": 1730716324.6826136, \"Dimensions\": {\"Algorithm\": \"LinearLearnerModel\", \"Host\": \"UNKNOWN\", \"Operation\": \"scoring\"}, \"Metrics\": {\"execution_parameters.count\": {\"sum\": 1.0, \"count\": 1, \"min\": 1, \"max\": 1}}}\u001b[0m\n",
      "\u001b[32m2024-11-04T10:32:04.696:[sagemaker logs]: MaxConcurrentTransforms=4, MaxPayloadInMB=6, BatchStrategy=MULTI_RECORD\u001b[0m\n",
      "\u001b[34m#metrics {\"StartTime\": 1730716324.1437254, \"EndTime\": 1730716327.5825207, \"Dimensions\": {\"Algorithm\": \"LinearLearnerModel\", \"Host\": \"UNKNOWN\", \"Operation\": \"scoring\"}, \"Metrics\": {\"json.encoder.time\": {\"sum\": 107.31625556945801, \"count\": 1, \"min\": 107.31625556945801, \"max\": 107.31625556945801}, \"invocations.count\": {\"sum\": 1.0, \"count\": 1, \"min\": 1, \"max\": 1}}}\u001b[0m\n",
      "\u001b[34m#metrics {\"StartTime\": 1730716324.1437254, \"EndTime\": 1730716327.6046073, \"Dimensions\": {\"Algorithm\": \"LinearLearnerModel\", \"Host\": \"UNKNOWN\", \"Operation\": \"scoring\"}, \"Metrics\": {\"json.encoder.time\": {\"sum\": 131.516695022583, \"count\": 1, \"min\": 131.516695022583, \"max\": 131.516695022583}, \"invocations.count\": {\"sum\": 1.0, \"count\": 1, \"min\": 1, \"max\": 1}}}\u001b[0m\n",
      "\u001b[34m#metrics {\"StartTime\": 1730716324.6827874, \"EndTime\": 1730716327.8370361, \"Dimensions\": {\"Algorithm\": \"LinearLearnerModel\", \"Host\": \"UNKNOWN\", \"Operation\": \"scoring\"}, \"Metrics\": {\"json.encoder.time\": {\"sum\": 120.56159973144531, \"count\": 1, \"min\": 120.56159973144531, \"max\": 120.56159973144531}, \"invocations.count\": {\"sum\": 1.0, \"count\": 1, \"min\": 1, \"max\": 1}}}\u001b[0m\n",
      "\u001b[34m#metrics {\"StartTime\": 1730716324.1437254, \"EndTime\": 1730716327.84662, \"Dimensions\": {\"Algorithm\": \"LinearLearnerModel\", \"Host\": \"UNKNOWN\", \"Operation\": \"scoring\"}, \"Metrics\": {\"json.encoder.time\": {\"sum\": 121.63186073303223, \"count\": 1, \"min\": 121.63186073303223, \"max\": 121.63186073303223}, \"invocations.count\": {\"sum\": 1.0, \"count\": 1, \"min\": 1, \"max\": 1}}}\u001b[0m\n",
      "\u001b[35m#metrics {\"StartTime\": 1730716324.1437254, \"EndTime\": 1730716327.5825207, \"Dimensions\": {\"Algorithm\": \"LinearLearnerModel\", \"Host\": \"UNKNOWN\", \"Operation\": \"scoring\"}, \"Metrics\": {\"json.encoder.time\": {\"sum\": 107.31625556945801, \"count\": 1, \"min\": 107.31625556945801, \"max\": 107.31625556945801}, \"invocations.count\": {\"sum\": 1.0, \"count\": 1, \"min\": 1, \"max\": 1}}}\u001b[0m\n",
      "\u001b[35m#metrics {\"StartTime\": 1730716324.1437254, \"EndTime\": 1730716327.6046073, \"Dimensions\": {\"Algorithm\": \"LinearLearnerModel\", \"Host\": \"UNKNOWN\", \"Operation\": \"scoring\"}, \"Metrics\": {\"json.encoder.time\": {\"sum\": 131.516695022583, \"count\": 1, \"min\": 131.516695022583, \"max\": 131.516695022583}, \"invocations.count\": {\"sum\": 1.0, \"count\": 1, \"min\": 1, \"max\": 1}}}\u001b[0m\n",
      "\u001b[35m#metrics {\"StartTime\": 1730716324.6827874, \"EndTime\": 1730716327.8370361, \"Dimensions\": {\"Algorithm\": \"LinearLearnerModel\", \"Host\": \"UNKNOWN\", \"Operation\": \"scoring\"}, \"Metrics\": {\"json.encoder.time\": {\"sum\": 120.56159973144531, \"count\": 1, \"min\": 120.56159973144531, \"max\": 120.56159973144531}, \"invocations.count\": {\"sum\": 1.0, \"count\": 1, \"min\": 1, \"max\": 1}}}\u001b[0m\n",
      "\u001b[35m#metrics {\"StartTime\": 1730716324.1437254, \"EndTime\": 1730716327.84662, \"Dimensions\": {\"Algorithm\": \"LinearLearnerModel\", \"Host\": \"UNKNOWN\", \"Operation\": \"scoring\"}, \"Metrics\": {\"json.encoder.time\": {\"sum\": 121.63186073303223, \"count\": 1, \"min\": 121.63186073303223, \"max\": 121.63186073303223}, \"invocations.count\": {\"sum\": 1.0, \"count\": 1, \"min\": 1, \"max\": 1}}}\u001b[0m\n",
      "\u001b[34m#metrics {\"StartTime\": 1730716327.8467252, \"EndTime\": 1730716328.512958, \"Dimensions\": {\"Algorithm\": \"LinearLearnerModel\", \"Host\": \"UNKNOWN\", \"Operation\": \"scoring\"}, \"Metrics\": {\"json.encoder.time\": {\"sum\": 45.32480239868164, \"count\": 1, \"min\": 45.32480239868164, \"max\": 45.32480239868164}, \"invocations.count\": {\"sum\": 1.0, \"count\": 1, \"min\": 1, \"max\": 1}}}\u001b[0m\n",
      "\u001b[34m#metrics {\"StartTime\": 1730716327.6052866, \"EndTime\": 1730716328.9629955, \"Dimensions\": {\"Algorithm\": \"LinearLearnerModel\", \"Host\": \"UNKNOWN\", \"Operation\": \"scoring\"}, \"Metrics\": {\"json.encoder.time\": {\"sum\": 67.49248504638672, \"count\": 1, \"min\": 67.49248504638672, \"max\": 67.49248504638672}, \"invocations.count\": {\"sum\": 1.0, \"count\": 1, \"min\": 1, \"max\": 1}}}\u001b[0m\n",
      "\u001b[34m#metrics {\"StartTime\": 1730716327.5826392, \"EndTime\": 1730716329.0920522, \"Dimensions\": {\"Algorithm\": \"LinearLearnerModel\", \"Host\": \"UNKNOWN\", \"Operation\": \"scoring\"}, \"Metrics\": {\"json.encoder.time\": {\"sum\": 120.38564682006836, \"count\": 1, \"min\": 120.38564682006836, \"max\": 120.38564682006836}, \"invocations.count\": {\"sum\": 1.0, \"count\": 1, \"min\": 1, \"max\": 1}}}\u001b[0m\n",
      "\u001b[34m#metrics {\"StartTime\": 1730716327.8371494, \"EndTime\": 1730716329.141613, \"Dimensions\": {\"Algorithm\": \"LinearLearnerModel\", \"Host\": \"UNKNOWN\", \"Operation\": \"scoring\"}, \"Metrics\": {\"json.encoder.time\": {\"sum\": 120.70345878601074, \"count\": 1, \"min\": 120.70345878601074, \"max\": 120.70345878601074}, \"invocations.count\": {\"sum\": 1.0, \"count\": 1, \"min\": 1, \"max\": 1}}}\u001b[0m\n",
      "\u001b[35m#metrics {\"StartTime\": 1730716327.8467252, \"EndTime\": 1730716328.512958, \"Dimensions\": {\"Algorithm\": \"LinearLearnerModel\", \"Host\": \"UNKNOWN\", \"Operation\": \"scoring\"}, \"Metrics\": {\"json.encoder.time\": {\"sum\": 45.32480239868164, \"count\": 1, \"min\": 45.32480239868164, \"max\": 45.32480239868164}, \"invocations.count\": {\"sum\": 1.0, \"count\": 1, \"min\": 1, \"max\": 1}}}\u001b[0m\n",
      "\u001b[35m#metrics {\"StartTime\": 1730716327.6052866, \"EndTime\": 1730716328.9629955, \"Dimensions\": {\"Algorithm\": \"LinearLearnerModel\", \"Host\": \"UNKNOWN\", \"Operation\": \"scoring\"}, \"Metrics\": {\"json.encoder.time\": {\"sum\": 67.49248504638672, \"count\": 1, \"min\": 67.49248504638672, \"max\": 67.49248504638672}, \"invocations.count\": {\"sum\": 1.0, \"count\": 1, \"min\": 1, \"max\": 1}}}\u001b[0m\n",
      "\u001b[35m#metrics {\"StartTime\": 1730716327.5826392, \"EndTime\": 1730716329.0920522, \"Dimensions\": {\"Algorithm\": \"LinearLearnerModel\", \"Host\": \"UNKNOWN\", \"Operation\": \"scoring\"}, \"Metrics\": {\"json.encoder.time\": {\"sum\": 120.38564682006836, \"count\": 1, \"min\": 120.38564682006836, \"max\": 120.38564682006836}, \"invocations.count\": {\"sum\": 1.0, \"count\": 1, \"min\": 1, \"max\": 1}}}\u001b[0m\n",
      "\u001b[35m#metrics {\"StartTime\": 1730716327.8371494, \"EndTime\": 1730716329.141613, \"Dimensions\": {\"Algorithm\": \"LinearLearnerModel\", \"Host\": \"UNKNOWN\", \"Operation\": \"scoring\"}, \"Metrics\": {\"json.encoder.time\": {\"sum\": 120.70345878601074, \"count\": 1, \"min\": 120.70345878601074, \"max\": 120.70345878601074}, \"invocations.count\": {\"sum\": 1.0, \"count\": 1, \"min\": 1, \"max\": 1}}}\u001b[0m\n",
      "\u001b[34mDocker entrypoint called with argument(s): serve\u001b[0m\n",
      "\u001b[34mRunning default environment configuration script\u001b[0m\n",
      "\u001b[34m[11/04/2024 10:31:59 INFO 140141903030080] Memory profiler is not enabled by the environment variable ENABLE_PROFILER.\u001b[0m\n",
      "\u001b[35mDocker entrypoint called with argument(s): serve\u001b[0m\n",
      "\u001b[35mRunning default environment configuration script\u001b[0m\n",
      "\u001b[35m[11/04/2024 10:31:59 INFO 140141903030080] Memory profiler is not enabled by the environment variable ENABLE_PROFILER.\u001b[0m\n",
      "\u001b[34m/opt/amazon/lib/python3.8/site-packages/mxnet/model.py:97: SyntaxWarning: \"is\" with a literal. Did you mean \"==\"?\n",
      "  if num_device is 1 and 'dist' not in kvstore:\u001b[0m\n",
      "\u001b[35m/opt/amazon/lib/python3.8/site-packages/mxnet/model.py:97: SyntaxWarning: \"is\" with a literal. Did you mean \"==\"?\n",
      "  if num_device is 1 and 'dist' not in kvstore:\u001b[0m\n",
      "\u001b[34m/opt/amazon/lib/python3.8/site-packages/scipy/optimize/_shgo.py:495: SyntaxWarning: \"is\" with a literal. Did you mean \"==\"?\n",
      "  if cons['type'] is 'ineq':\u001b[0m\n",
      "\u001b[34m/opt/amazon/lib/python3.8/site-packages/scipy/optimize/_shgo.py:743: SyntaxWarning: \"is not\" with a literal. Did you mean \"!=\"?\n",
      "  if len(self.X_min) is not 0:\u001b[0m\n",
      "\u001b[35m/opt/amazon/lib/python3.8/site-packages/scipy/optimize/_shgo.py:495: SyntaxWarning: \"is\" with a literal. Did you mean \"==\"?\n",
      "  if cons['type'] is 'ineq':\u001b[0m\n",
      "\u001b[35m/opt/amazon/lib/python3.8/site-packages/scipy/optimize/_shgo.py:743: SyntaxWarning: \"is not\" with a literal. Did you mean \"!=\"?\n",
      "  if len(self.X_min) is not 0:\u001b[0m\n",
      "\u001b[34m[11/04/2024 10:32:03 WARNING 140141903030080] Loggers have already been setup.\u001b[0m\n",
      "\u001b[34m[11/04/2024 10:32:03 INFO 140141903030080] loaded entry point class algorithm.serve.server_config:config_api\u001b[0m\n",
      "\u001b[34m[11/04/2024 10:32:03 INFO 140141903030080] loading entry points\u001b[0m\n",
      "\u001b[34m[11/04/2024 10:32:03 INFO 140141903030080] loaded request iterator application/json\u001b[0m\n",
      "\u001b[34m[11/04/2024 10:32:03 INFO 140141903030080] loaded request iterator application/jsonlines\u001b[0m\n",
      "\u001b[34m[11/04/2024 10:32:03 INFO 140141903030080] loaded request iterator application/x-recordio-protobuf\u001b[0m\n",
      "\u001b[34m[11/04/2024 10:32:03 INFO 140141903030080] loaded request iterator text/csv\u001b[0m\n",
      "\u001b[34m[11/04/2024 10:32:03 INFO 140141903030080] loaded response encoder application/json\u001b[0m\n",
      "\u001b[34m[11/04/2024 10:32:03 INFO 140141903030080] loaded response encoder application/jsonlines\u001b[0m\n",
      "\u001b[34m[11/04/2024 10:32:03 INFO 140141903030080] loaded response encoder application/x-recordio-protobuf\u001b[0m\n",
      "\u001b[34m[11/04/2024 10:32:03 INFO 140141903030080] loaded response encoder text/csv\u001b[0m\n",
      "\u001b[34m[11/04/2024 10:32:04 INFO 140141903030080] loaded entry point class algorithm:model\u001b[0m\n",
      "\u001b[34m[11/04/2024 10:32:04 INFO 140141903030080] Number of server workers: 4\u001b[0m\n",
      "\u001b[34m[11/04/2024 10:32:04 INFO 140141903030080] loading model...\u001b[0m\n",
      "\u001b[34m[11/04/2024 10:32:04 INFO 140141903030080] ...model loaded.\u001b[0m\n",
      "\u001b[34m[2024-11-04 10:32:04 +0000] [1] [INFO] Starting gunicorn 20.1.0\u001b[0m\n",
      "\u001b[34m[2024-11-04 10:32:04 +0000] [1] [INFO] Listening at: http://0.0.0.0:8080 (1)\u001b[0m\n",
      "\u001b[34m[2024-11-04 10:32:04 +0000] [1] [INFO] Using worker: sync\u001b[0m\n",
      "\u001b[34m[2024-11-04 10:32:04 +0000] [43] [INFO] Booting worker with pid: 43\u001b[0m\n",
      "\u001b[34m[2024-11-04 10:32:04 +0000] [52] [INFO] Booting worker with pid: 52\u001b[0m\n",
      "\u001b[34m[2024-11-04 10:32:04 +0000] [61] [INFO] Booting worker with pid: 61\u001b[0m\n",
      "\u001b[35m[11/04/2024 10:32:03 WARNING 140141903030080] Loggers have already been setup.\u001b[0m\n",
      "\u001b[35m[11/04/2024 10:32:03 INFO 140141903030080] loaded entry point class algorithm.serve.server_config:config_api\u001b[0m\n",
      "\u001b[35m[11/04/2024 10:32:03 INFO 140141903030080] loading entry points\u001b[0m\n",
      "\u001b[35m[11/04/2024 10:32:03 INFO 140141903030080] loaded request iterator application/json\u001b[0m\n",
      "\u001b[35m[11/04/2024 10:32:03 INFO 140141903030080] loaded request iterator application/jsonlines\u001b[0m\n",
      "\u001b[35m[11/04/2024 10:32:03 INFO 140141903030080] loaded request iterator application/x-recordio-protobuf\u001b[0m\n",
      "\u001b[35m[11/04/2024 10:32:03 INFO 140141903030080] loaded request iterator text/csv\u001b[0m\n",
      "\u001b[35m[11/04/2024 10:32:03 INFO 140141903030080] loaded response encoder application/json\u001b[0m\n",
      "\u001b[35m[11/04/2024 10:32:03 INFO 140141903030080] loaded response encoder application/jsonlines\u001b[0m\n",
      "\u001b[35m[11/04/2024 10:32:03 INFO 140141903030080] loaded response encoder application/x-recordio-protobuf\u001b[0m\n",
      "\u001b[35m[11/04/2024 10:32:03 INFO 140141903030080] loaded response encoder text/csv\u001b[0m\n",
      "\u001b[35m[11/04/2024 10:32:04 INFO 140141903030080] loaded entry point class algorithm:model\u001b[0m\n",
      "\u001b[35m[11/04/2024 10:32:04 INFO 140141903030080] Number of server workers: 4\u001b[0m\n",
      "\u001b[35m[11/04/2024 10:32:04 INFO 140141903030080] loading model...\u001b[0m\n",
      "\u001b[35m[11/04/2024 10:32:04 INFO 140141903030080] ...model loaded.\u001b[0m\n",
      "\u001b[35m[2024-11-04 10:32:04 +0000] [1] [INFO] Starting gunicorn 20.1.0\u001b[0m\n",
      "\u001b[35m[2024-11-04 10:32:04 +0000] [1] [INFO] Listening at: http://0.0.0.0:8080 (1)\u001b[0m\n",
      "\u001b[35m[2024-11-04 10:32:04 +0000] [1] [INFO] Using worker: sync\u001b[0m\n",
      "\u001b[35m[2024-11-04 10:32:04 +0000] [43] [INFO] Booting worker with pid: 43\u001b[0m\n",
      "\u001b[35m[2024-11-04 10:32:04 +0000] [52] [INFO] Booting worker with pid: 52\u001b[0m\n",
      "\u001b[35m[2024-11-04 10:32:04 +0000] [61] [INFO] Booting worker with pid: 61\u001b[0m\n",
      "\u001b[34m[2024-11-04 10:32:04 +0000] [70] [INFO] Booting worker with pid: 70\u001b[0m\n",
      "\u001b[34m#metrics {\"StartTime\": 1730716324.1437254, \"EndTime\": 1730716324.6826136, \"Dimensions\": {\"Algorithm\": \"LinearLearnerModel\", \"Host\": \"UNKNOWN\", \"Operation\": \"scoring\"}, \"Metrics\": {\"execution_parameters.count\": {\"sum\": 1.0, \"count\": 1, \"min\": 1, \"max\": 1}}}\u001b[0m\n",
      "\u001b[35m[2024-11-04 10:32:04 +0000] [70] [INFO] Booting worker with pid: 70\u001b[0m\n",
      "\u001b[35m#metrics {\"StartTime\": 1730716324.1437254, \"EndTime\": 1730716324.6826136, \"Dimensions\": {\"Algorithm\": \"LinearLearnerModel\", \"Host\": \"UNKNOWN\", \"Operation\": \"scoring\"}, \"Metrics\": {\"execution_parameters.count\": {\"sum\": 1.0, \"count\": 1, \"min\": 1, \"max\": 1}}}\u001b[0m\n",
      "\u001b[32m2024-11-04T10:32:04.696:[sagemaker logs]: MaxConcurrentTransforms=4, MaxPayloadInMB=6, BatchStrategy=MULTI_RECORD\u001b[0m\n",
      "\u001b[34m#metrics {\"StartTime\": 1730716324.1437254, \"EndTime\": 1730716327.5825207, \"Dimensions\": {\"Algorithm\": \"LinearLearnerModel\", \"Host\": \"UNKNOWN\", \"Operation\": \"scoring\"}, \"Metrics\": {\"json.encoder.time\": {\"sum\": 107.31625556945801, \"count\": 1, \"min\": 107.31625556945801, \"max\": 107.31625556945801}, \"invocations.count\": {\"sum\": 1.0, \"count\": 1, \"min\": 1, \"max\": 1}}}\u001b[0m\n",
      "\u001b[34m#metrics {\"StartTime\": 1730716324.1437254, \"EndTime\": 1730716327.6046073, \"Dimensions\": {\"Algorithm\": \"LinearLearnerModel\", \"Host\": \"UNKNOWN\", \"Operation\": \"scoring\"}, \"Metrics\": {\"json.encoder.time\": {\"sum\": 131.516695022583, \"count\": 1, \"min\": 131.516695022583, \"max\": 131.516695022583}, \"invocations.count\": {\"sum\": 1.0, \"count\": 1, \"min\": 1, \"max\": 1}}}\u001b[0m\n",
      "\u001b[34m#metrics {\"StartTime\": 1730716324.6827874, \"EndTime\": 1730716327.8370361, \"Dimensions\": {\"Algorithm\": \"LinearLearnerModel\", \"Host\": \"UNKNOWN\", \"Operation\": \"scoring\"}, \"Metrics\": {\"json.encoder.time\": {\"sum\": 120.56159973144531, \"count\": 1, \"min\": 120.56159973144531, \"max\": 120.56159973144531}, \"invocations.count\": {\"sum\": 1.0, \"count\": 1, \"min\": 1, \"max\": 1}}}\u001b[0m\n",
      "\u001b[34m#metrics {\"StartTime\": 1730716324.1437254, \"EndTime\": 1730716327.84662, \"Dimensions\": {\"Algorithm\": \"LinearLearnerModel\", \"Host\": \"UNKNOWN\", \"Operation\": \"scoring\"}, \"Metrics\": {\"json.encoder.time\": {\"sum\": 121.63186073303223, \"count\": 1, \"min\": 121.63186073303223, \"max\": 121.63186073303223}, \"invocations.count\": {\"sum\": 1.0, \"count\": 1, \"min\": 1, \"max\": 1}}}\u001b[0m\n",
      "\u001b[35m#metrics {\"StartTime\": 1730716324.1437254, \"EndTime\": 1730716327.5825207, \"Dimensions\": {\"Algorithm\": \"LinearLearnerModel\", \"Host\": \"UNKNOWN\", \"Operation\": \"scoring\"}, \"Metrics\": {\"json.encoder.time\": {\"sum\": 107.31625556945801, \"count\": 1, \"min\": 107.31625556945801, \"max\": 107.31625556945801}, \"invocations.count\": {\"sum\": 1.0, \"count\": 1, \"min\": 1, \"max\": 1}}}\u001b[0m\n",
      "\u001b[35m#metrics {\"StartTime\": 1730716324.1437254, \"EndTime\": 1730716327.6046073, \"Dimensions\": {\"Algorithm\": \"LinearLearnerModel\", \"Host\": \"UNKNOWN\", \"Operation\": \"scoring\"}, \"Metrics\": {\"json.encoder.time\": {\"sum\": 131.516695022583, \"count\": 1, \"min\": 131.516695022583, \"max\": 131.516695022583}, \"invocations.count\": {\"sum\": 1.0, \"count\": 1, \"min\": 1, \"max\": 1}}}\u001b[0m\n",
      "\u001b[35m#metrics {\"StartTime\": 1730716324.6827874, \"EndTime\": 1730716327.8370361, \"Dimensions\": {\"Algorithm\": \"LinearLearnerModel\", \"Host\": \"UNKNOWN\", \"Operation\": \"scoring\"}, \"Metrics\": {\"json.encoder.time\": {\"sum\": 120.56159973144531, \"count\": 1, \"min\": 120.56159973144531, \"max\": 120.56159973144531}, \"invocations.count\": {\"sum\": 1.0, \"count\": 1, \"min\": 1, \"max\": 1}}}\u001b[0m\n",
      "\u001b[35m#metrics {\"StartTime\": 1730716324.1437254, \"EndTime\": 1730716327.84662, \"Dimensions\": {\"Algorithm\": \"LinearLearnerModel\", \"Host\": \"UNKNOWN\", \"Operation\": \"scoring\"}, \"Metrics\": {\"json.encoder.time\": {\"sum\": 121.63186073303223, \"count\": 1, \"min\": 121.63186073303223, \"max\": 121.63186073303223}, \"invocations.count\": {\"sum\": 1.0, \"count\": 1, \"min\": 1, \"max\": 1}}}\u001b[0m\n",
      "\u001b[34m#metrics {\"StartTime\": 1730716327.8467252, \"EndTime\": 1730716328.512958, \"Dimensions\": {\"Algorithm\": \"LinearLearnerModel\", \"Host\": \"UNKNOWN\", \"Operation\": \"scoring\"}, \"Metrics\": {\"json.encoder.time\": {\"sum\": 45.32480239868164, \"count\": 1, \"min\": 45.32480239868164, \"max\": 45.32480239868164}, \"invocations.count\": {\"sum\": 1.0, \"count\": 1, \"min\": 1, \"max\": 1}}}\u001b[0m\n",
      "\u001b[34m#metrics {\"StartTime\": 1730716327.6052866, \"EndTime\": 1730716328.9629955, \"Dimensions\": {\"Algorithm\": \"LinearLearnerModel\", \"Host\": \"UNKNOWN\", \"Operation\": \"scoring\"}, \"Metrics\": {\"json.encoder.time\": {\"sum\": 67.49248504638672, \"count\": 1, \"min\": 67.49248504638672, \"max\": 67.49248504638672}, \"invocations.count\": {\"sum\": 1.0, \"count\": 1, \"min\": 1, \"max\": 1}}}\u001b[0m\n",
      "\u001b[34m#metrics {\"StartTime\": 1730716327.5826392, \"EndTime\": 1730716329.0920522, \"Dimensions\": {\"Algorithm\": \"LinearLearnerModel\", \"Host\": \"UNKNOWN\", \"Operation\": \"scoring\"}, \"Metrics\": {\"json.encoder.time\": {\"sum\": 120.38564682006836, \"count\": 1, \"min\": 120.38564682006836, \"max\": 120.38564682006836}, \"invocations.count\": {\"sum\": 1.0, \"count\": 1, \"min\": 1, \"max\": 1}}}\u001b[0m\n",
      "\u001b[34m#metrics {\"StartTime\": 1730716327.8371494, \"EndTime\": 1730716329.141613, \"Dimensions\": {\"Algorithm\": \"LinearLearnerModel\", \"Host\": \"UNKNOWN\", \"Operation\": \"scoring\"}, \"Metrics\": {\"json.encoder.time\": {\"sum\": 120.70345878601074, \"count\": 1, \"min\": 120.70345878601074, \"max\": 120.70345878601074}, \"invocations.count\": {\"sum\": 1.0, \"count\": 1, \"min\": 1, \"max\": 1}}}\u001b[0m\n",
      "\u001b[35m#metrics {\"StartTime\": 1730716327.8467252, \"EndTime\": 1730716328.512958, \"Dimensions\": {\"Algorithm\": \"LinearLearnerModel\", \"Host\": \"UNKNOWN\", \"Operation\": \"scoring\"}, \"Metrics\": {\"json.encoder.time\": {\"sum\": 45.32480239868164, \"count\": 1, \"min\": 45.32480239868164, \"max\": 45.32480239868164}, \"invocations.count\": {\"sum\": 1.0, \"count\": 1, \"min\": 1, \"max\": 1}}}\u001b[0m\n",
      "\u001b[35m#metrics {\"StartTime\": 1730716327.6052866, \"EndTime\": 1730716328.9629955, \"Dimensions\": {\"Algorithm\": \"LinearLearnerModel\", \"Host\": \"UNKNOWN\", \"Operation\": \"scoring\"}, \"Metrics\": {\"json.encoder.time\": {\"sum\": 67.49248504638672, \"count\": 1, \"min\": 67.49248504638672, \"max\": 67.49248504638672}, \"invocations.count\": {\"sum\": 1.0, \"count\": 1, \"min\": 1, \"max\": 1}}}\u001b[0m\n",
      "\u001b[35m#metrics {\"StartTime\": 1730716327.5826392, \"EndTime\": 1730716329.0920522, \"Dimensions\": {\"Algorithm\": \"LinearLearnerModel\", \"Host\": \"UNKNOWN\", \"Operation\": \"scoring\"}, \"Metrics\": {\"json.encoder.time\": {\"sum\": 120.38564682006836, \"count\": 1, \"min\": 120.38564682006836, \"max\": 120.38564682006836}, \"invocations.count\": {\"sum\": 1.0, \"count\": 1, \"min\": 1, \"max\": 1}}}\u001b[0m\n",
      "\u001b[35m#metrics {\"StartTime\": 1730716327.8371494, \"EndTime\": 1730716329.141613, \"Dimensions\": {\"Algorithm\": \"LinearLearnerModel\", \"Host\": \"UNKNOWN\", \"Operation\": \"scoring\"}, \"Metrics\": {\"json.encoder.time\": {\"sum\": 120.70345878601074, \"count\": 1, \"min\": 120.70345878601074, \"max\": 120.70345878601074}, \"invocations.count\": {\"sum\": 1.0, \"count\": 1, \"min\": 1, \"max\": 1}}}\u001b[0m\n"
     ]
    }
   ],
   "source": [
    "test_labels, target_predicted = batch_linear_predict(test, classifier_estimator)"
   ]
  },
  {
   "cell_type": "code",
   "execution_count": 54,
   "id": "0121b371-620f-4365-b13f-2542950eba65",
   "metadata": {
    "tags": []
   },
   "outputs": [
    {
     "data": {
      "image/png": "[encoded data removed]",
      "text/plain": [
       "<Figure size 640x480 with 1 Axes>"
      ]
     },
     "metadata": {},
     "output_type": "display_data"
    }
   ],
   "source": [
    "plot_confusion_matrix(test_labels, target_predicted)"
   ]
  },
  {
   "cell_type": "code",
   "execution_count": 55,
   "id": "65cdf067-ab0a-4de1-ba97-08591c3252d0",
   "metadata": {
    "tags": []
   },
   "outputs": [
    {
     "name": "stdout",
     "output_type": "stream",
     "text": [
      "Sensitivity or TPR:  5.679611650485437 %\n",
      "Specificity or TNR:  98.78403615390171 %\n",
      "Precision:  55.376751230594465 %\n",
      "Negative Predictive Value:  79.7651381344353 %\n",
      "False Positive Rate:  1.2159638460982882 %\n",
      "False Negative Rate:  94.32038834951456 %\n",
      "False Discovery Rate:  44.62324876940553 %\n",
      "Accuracy:  79.24006880303908 %\n",
      "Validation AUC 0.5223182390219356\n",
      "Figure(640x480)\n"
     ]
    },
    {
     "data": {
      "image/png": "[encoded data removed]",
      "text/plain": [
       "<Figure size 640x480 with 2 Axes>"
      ]
     },
     "metadata": {},
     "output_type": "display_data"
    },
    {
     "data": {
      "text/plain": [
       "<Figure size 640x480 with 0 Axes>"
      ]
     },
     "metadata": {},
     "output_type": "display_data"
    }
   ],
   "source": [
    "plot_roc(test_labels, target_predicted)"
   ]
  },
  {
   "cell_type": "markdown",
   "id": "1551b667-9b73-47c0-a47f-4794888feb89",
   "metadata": {},
   "source": [
    "# Step 3: Build and evaluate ensembe models\n",
    "\n",
    "Write code to perform the follwoing steps:\n",
    "1. Split data into training, validation and testing sets (70% - 15% - 15%).\n",
    "2. Use xgboost estimator to build a classifcation model.\n",
    "3. Host the model on another instance\n",
    "4. Perform batch transform to evaluate the model on testing data\n",
    "5. Report the performance metrics that you see better test the model performance \n",
    "6. write down your observation on the difference between the performance of using the simple and ensemble models.\n",
    "Note: You are required to perform the above steps on the two combined datasets separatey."
   ]
  },
  {
   "cell_type": "markdown",
   "id": "2f66f274-8448-4ac1-9d4d-0f6faa4798b6",
   "metadata": {},
   "source": [
    "# Model 1 Ensemble Method"
   ]
  },
  {
   "cell_type": "code",
   "execution_count": 56,
   "id": "f3bd49c9-b268-4d85-ad1b-602dcddd7d60",
   "metadata": {
    "tags": []
   },
   "outputs": [],
   "source": [
    "train, test, validate = split_data(df1)"
   ]
  },
  {
   "cell_type": "code",
   "execution_count": 57,
   "id": "4474646f-334e-400c-9b24-95b6d3ba6e11",
   "metadata": {
    "tags": []
   },
   "outputs": [
    {
     "name": "stderr",
     "output_type": "stream",
     "text": [
      "INFO:botocore.credentials:Found credentials from IAM Role: BaseNotebookInstanceEc2InstanceRole\n"
     ]
    }
   ],
   "source": [
    "prefix='flight-xgb'\n",
    "train_file='flight_train.csv'\n",
    "test_file='flight_test.csv'\n",
    "validate_file='flight_validate.csv'\n",
    "whole_file='flight.csv'\n",
    "s3_resource = boto3.Session().resource('s3')\n",
    "\n",
    "def upload_s3_csv(filename, folder, dataframe):\n",
    "    csv_buffer = io.StringIO()\n",
    "    dataframe.to_csv(csv_buffer, header=False, index=False )\n",
    "    s3_resource.Bucket(bucket).Object(os.path.join(prefix, folder, filename)).put(Body=csv_buffer.getvalue())\n",
    "\n",
    "upload_s3_csv(train_file, 'train', train)\n",
    "upload_s3_csv(test_file, 'test', test)\n",
    "upload_s3_csv(validate_file, 'validate', validate)"
   ]
  },
  {
   "cell_type": "code",
   "execution_count": 58,
   "id": "4a4dbd02-ca72-45c6-bb46-12a6e6a774a0",
   "metadata": {
    "tags": []
   },
   "outputs": [],
   "source": [
    "train_channel = sagemaker.inputs.TrainingInput(\n",
    "    \"s3://{}/{}/train/\".format(bucket,prefix,train_file),\n",
    "    content_type='text/csv')\n",
    "\n",
    "validate_channel = sagemaker.inputs.TrainingInput(\n",
    "    \"s3://{}/{}/validate/\".format(bucket,prefix,validate_file),\n",
    "    content_type='text/csv')\n",
    "\n",
    "data_channels = {'train': train_channel, 'validation': validate_channel}"
   ]
  },
  {
   "cell_type": "code",
   "execution_count": 59,
   "id": "a46abe69-8653-4a60-bb01-0799554834f5",
   "metadata": {
    "tags": []
   },
   "outputs": [
    {
     "name": "stderr",
     "output_type": "stream",
     "text": [
      "INFO:sagemaker.image_uris:Defaulting to only available Python version: py3\n",
      "INFO:sagemaker.image_uris:Defaulting to only supported image scope: cpu.\n"
     ]
    }
   ],
   "source": [
    "from sagemaker.image_uris import retrieve\n",
    "container = retrieve('xgboost',boto3.Session().region_name,'1.0-1')"
   ]
  },
  {
   "cell_type": "code",
   "execution_count": 60,
   "id": "fe55aa86-5923-4725-bb4e-fe54b4c783c7",
   "metadata": {
    "tags": []
   },
   "outputs": [
    {
     "name": "stderr",
     "output_type": "stream",
     "text": [
      "INFO:sagemaker:Creating training-job with name: sagemaker-xgboost-2024-11-04-10-34-15-899\n"
     ]
    },
    {
     "name": "stdout",
     "output_type": "stream",
     "text": [
      "2024-11-04 10:34:17 Starting - Starting the training job...\n",
      "2024-11-04 10:34:30 Starting - Preparing the instances for training...\n",
      "2024-11-04 10:35:04 Downloading - Downloading input data...\n",
      "2024-11-04 10:35:39 Downloading - Downloading the training image......\n",
      "2024-11-04 10:36:25 Training - Training image download completed. Training in progress.\u001b[34m[2024-11-04 10:36:41.272 ip-10-0-223-185.ec2.internal:7 INFO utils.py:27] RULE_JOB_STOP_SIGNAL_FILENAME: None\u001b[0m\n",
      "\u001b[34mINFO:sagemaker-containers:Imported framework sagemaker_xgboost_container.training\u001b[0m\n",
      "\u001b[34mINFO:sagemaker-containers:Failed to parse hyperparameter eval_metric value auc to Json.\u001b[0m\n",
      "\u001b[34mReturning the value itself\u001b[0m\n",
      "\u001b[34mINFO:sagemaker-containers:Failed to parse hyperparameter objective value binary:logistic to Json.\u001b[0m\n",
      "\u001b[34mReturning the value itself\u001b[0m\n",
      "\u001b[34mINFO:sagemaker-containers:No GPUs detected (normal if no gpus installed)\u001b[0m\n",
      "\u001b[34mINFO:sagemaker_xgboost_container.training:Running XGBoost Sagemaker in algorithm mode\u001b[0m\n",
      "\u001b[34mINFO:root:Determined delimiter of CSV input is ','\u001b[0m\n",
      "\u001b[34mINFO:root:Determined delimiter of CSV input is ','\u001b[0m\n",
      "\u001b[34mINFO:root:Determined delimiter of CSV input is ','\u001b[0m\n",
      "\u001b[34mINFO:root:Determined delimiter of CSV input is ','\u001b[0m\n",
      "\u001b[34mINFO:root:Single node training.\u001b[0m\n",
      "\u001b[34m[10:36:45] 1144913x93 matrix with 106476909 entries loaded from /opt/ml/input/data/train?format=csv&label_column=0&delimiter=,\u001b[0m\n",
      "\u001b[34m[10:36:46] 245339x93 matrix with 22816527 entries loaded from /opt/ml/input/data/validation?format=csv&label_column=0&delimiter=,\u001b[0m\n",
      "\u001b[34m[2024-11-04 10:36:46.551 ip-10-0-223-185.ec2.internal:7 INFO json_config.py:91] Creating hook from json_config at /opt/ml/input/config/debughookconfig.json.\u001b[0m\n",
      "\u001b[34m[2024-11-04 10:36:46.552 ip-10-0-223-185.ec2.internal:7 INFO hook.py:201] tensorboard_dir has not been set for the hook. SMDebug will not be exporting tensorboard summaries.\u001b[0m\n",
      "\u001b[34m[2024-11-04 10:36:46.552 ip-10-0-223-185.ec2.internal:7 INFO profiler_config_parser.py:102] User has disabled profiler.\u001b[0m\n",
      "\u001b[34m[2024-11-04 10:36:46.554 ip-10-0-223-185.ec2.internal:7 INFO hook.py:255] Saving to /opt/ml/output/tensors\u001b[0m\n",
      "\u001b[34m[2024-11-04 10:36:46.554 ip-10-0-223-185.ec2.internal:7 INFO state_store.py:77] The checkpoint config file /opt/ml/input/config/checkpointconfig.json does not exist.\u001b[0m\n",
      "\u001b[34mINFO:root:Debug hook created from config\u001b[0m\n",
      "\u001b[34mINFO:root:Train matrix has 1144913 rows\u001b[0m\n",
      "\u001b[34mINFO:root:Validation matrix has 245339 rows\u001b[0m\n",
      "\u001b[34m[0]#011train-auc:0.58284#011validation-auc:0.58162\u001b[0m\n",
      "\u001b[34m[2024-11-04 10:36:51.393 ip-10-0-223-185.ec2.internal:7 INFO hook.py:423] Monitoring the collections: metrics\u001b[0m\n",
      "\u001b[34m[2024-11-04 10:36:51.397 ip-10-0-223-185.ec2.internal:7 INFO hook.py:486] Hook is writing from the hook with pid: 7\u001b[0m\n",
      "\u001b[34m[1]#011train-auc:0.60167#011validation-auc:0.60022\u001b[0m\n",
      "\u001b[34m[2]#011train-auc:0.60805#011validation-auc:0.60682\u001b[0m\n",
      "\u001b[34m[3]#011train-auc:0.61057#011validation-auc:0.60923\u001b[0m\n",
      "\u001b[34m[4]#011train-auc:0.61267#011validation-auc:0.61163\u001b[0m\n",
      "\u001b[34m[5]#011train-auc:0.61830#011validation-auc:0.61723\u001b[0m\n",
      "\u001b[34m[6]#011train-auc:0.62533#011validation-auc:0.62392\u001b[0m\n",
      "\u001b[34m[7]#011train-auc:0.62726#011validation-auc:0.62557\u001b[0m\n",
      "\u001b[34m[8]#011train-auc:0.63304#011validation-auc:0.63145\u001b[0m\n",
      "\u001b[34m[9]#011train-auc:0.63367#011validation-auc:0.63198\u001b[0m\n",
      "\u001b[34m[10]#011train-auc:0.63635#011validation-auc:0.63491\u001b[0m\n",
      "\u001b[34m[11]#011train-auc:0.63908#011validation-auc:0.63738\u001b[0m\n",
      "\u001b[34m[12]#011train-auc:0.64034#011validation-auc:0.63841\u001b[0m\n",
      "\u001b[34m[13]#011train-auc:0.64224#011validation-auc:0.64024\u001b[0m\n",
      "\u001b[34m[14]#011train-auc:0.64365#011validation-auc:0.64133\u001b[0m\n",
      "\u001b[34m[15]#011train-auc:0.64413#011validation-auc:0.64188\u001b[0m\n",
      "\u001b[34m[16]#011train-auc:0.64610#011validation-auc:0.64397\u001b[0m\n",
      "\u001b[34m[17]#011train-auc:0.64728#011validation-auc:0.64518\u001b[0m\n",
      "\u001b[34m[18]#011train-auc:0.64796#011validation-auc:0.64579\u001b[0m\n",
      "\u001b[34m[19]#011train-auc:0.64893#011validation-auc:0.64663\u001b[0m\n",
      "\u001b[34m[20]#011train-auc:0.65055#011validation-auc:0.64817\u001b[0m\n",
      "\u001b[34m[21]#011train-auc:0.65173#011validation-auc:0.64938\u001b[0m\n",
      "\u001b[34m[22]#011train-auc:0.65176#011validation-auc:0.64954\u001b[0m\n",
      "\u001b[34m[23]#011train-auc:0.65260#011validation-auc:0.65032\u001b[0m\n",
      "\u001b[34m[24]#011train-auc:0.65348#011validation-auc:0.65122\u001b[0m\n",
      "\u001b[34m[25]#011train-auc:0.65456#011validation-auc:0.65232\u001b[0m\n",
      "\u001b[34m[26]#011train-auc:0.65543#011validation-auc:0.65305\u001b[0m\n",
      "\u001b[34m[27]#011train-auc:0.65582#011validation-auc:0.65330\u001b[0m\n",
      "\u001b[34m[28]#011train-auc:0.65669#011validation-auc:0.65433\u001b[0m\n",
      "\u001b[34m[29]#011train-auc:0.65721#011validation-auc:0.65474\u001b[0m\n",
      "\u001b[34m[30]#011train-auc:0.65808#011validation-auc:0.65557\u001b[0m\n",
      "\u001b[34m[31]#011train-auc:0.65871#011validation-auc:0.65606\u001b[0m\n",
      "\u001b[34m[32]#011train-auc:0.65889#011validation-auc:0.65616\u001b[0m\n",
      "\u001b[34m[33]#011train-auc:0.65938#011validation-auc:0.65651\u001b[0m\n",
      "\u001b[34m[34]#011train-auc:0.65949#011validation-auc:0.65669\u001b[0m\n",
      "\u001b[34m[35]#011train-auc:0.66017#011validation-auc:0.65735\u001b[0m\n",
      "\u001b[34m[36]#011train-auc:0.66065#011validation-auc:0.65772\u001b[0m\n",
      "\u001b[34m[37]#011train-auc:0.66120#011validation-auc:0.65824\u001b[0m\n",
      "\u001b[34m[38]#011train-auc:0.66213#011validation-auc:0.65919\u001b[0m\n",
      "\u001b[34m[39]#011train-auc:0.66258#011validation-auc:0.65968\u001b[0m\n",
      "\u001b[34m[40]#011train-auc:0.66297#011validation-auc:0.66011\u001b[0m\n",
      "\u001b[34m[41]#011train-auc:0.66380#011validation-auc:0.66098\u001b[0m\n",
      "\u001b[34m[42]#011train-auc:0.66483#011validation-auc:0.66193\u001b[0m\n",
      "\u001b[34m[43]#011train-auc:0.66491#011validation-auc:0.66200\u001b[0m\n",
      "\u001b[34m[44]#011train-auc:0.66522#011validation-auc:0.66226\u001b[0m\n",
      "\u001b[34m[45]#011train-auc:0.66539#011validation-auc:0.66247\u001b[0m\n",
      "\u001b[34m[46]#011train-auc:0.66570#011validation-auc:0.66271\u001b[0m\n",
      "\u001b[34m[47]#011train-auc:0.66603#011validation-auc:0.66296\u001b[0m\n",
      "\u001b[34m[48]#011train-auc:0.66665#011validation-auc:0.66355\u001b[0m\n",
      "\u001b[34m[49]#011train-auc:0.66692#011validation-auc:0.66382\u001b[0m\n",
      "\u001b[34m[50]#011train-auc:0.66734#011validation-auc:0.66420\u001b[0m\n",
      "\u001b[34m[51]#011train-auc:0.66784#011validation-auc:0.66470\u001b[0m\n",
      "\u001b[34m[52]#011train-auc:0.66814#011validation-auc:0.66488\u001b[0m\n",
      "\u001b[34m[53]#011train-auc:0.66823#011validation-auc:0.66494\u001b[0m\n",
      "\u001b[34m[54]#011train-auc:0.66887#011validation-auc:0.66542\u001b[0m\n",
      "\u001b[34m[55]#011train-auc:0.66937#011validation-auc:0.66588\u001b[0m\n",
      "\u001b[34m[56]#011train-auc:0.66966#011validation-auc:0.66616\u001b[0m\n",
      "\u001b[34m[57]#011train-auc:0.67013#011validation-auc:0.66662\u001b[0m\n",
      "\u001b[34m[58]#011train-auc:0.67032#011validation-auc:0.66671\u001b[0m\n",
      "\u001b[34m[59]#011train-auc:0.67064#011validation-auc:0.66692\u001b[0m\n",
      "\u001b[34m[60]#011train-auc:0.67093#011validation-auc:0.66724\u001b[0m\n",
      "\u001b[34m[61]#011train-auc:0.67141#011validation-auc:0.66769\u001b[0m\n",
      "\u001b[34m[62]#011train-auc:0.67171#011validation-auc:0.66796\u001b[0m\n",
      "\u001b[34m[63]#011train-auc:0.67227#011validation-auc:0.66843\u001b[0m\n",
      "\u001b[34m[64]#011train-auc:0.67252#011validation-auc:0.66871\u001b[0m\n",
      "\u001b[34m[65]#011train-auc:0.67275#011validation-auc:0.66893\u001b[0m\n",
      "\u001b[34m[66]#011train-auc:0.67298#011validation-auc:0.66915\u001b[0m\n",
      "\u001b[34m[67]#011train-auc:0.67306#011validation-auc:0.66919\u001b[0m\n",
      "\u001b[34m[68]#011train-auc:0.67347#011validation-auc:0.66960\u001b[0m\n",
      "\u001b[34m[69]#011train-auc:0.67447#011validation-auc:0.67059\u001b[0m\n",
      "\u001b[34m[70]#011train-auc:0.67481#011validation-auc:0.67092\u001b[0m\n",
      "\u001b[34m[71]#011train-auc:0.67508#011validation-auc:0.67120\u001b[0m\n",
      "\u001b[34m[72]#011train-auc:0.67519#011validation-auc:0.67132\u001b[0m\n",
      "\u001b[34m[73]#011train-auc:0.67552#011validation-auc:0.67157\u001b[0m\n",
      "\u001b[34m[74]#011train-auc:0.67583#011validation-auc:0.67185\u001b[0m\n",
      "\u001b[34m[75]#011train-auc:0.67616#011validation-auc:0.67215\u001b[0m\n",
      "\u001b[34m[76]#011train-auc:0.67683#011validation-auc:0.67285\u001b[0m\n",
      "\u001b[34m[77]#011train-auc:0.67727#011validation-auc:0.67322\u001b[0m\n",
      "\u001b[34m[78]#011train-auc:0.67766#011validation-auc:0.67355\u001b[0m\n",
      "\u001b[34m[79]#011train-auc:0.67787#011validation-auc:0.67374\u001b[0m\n",
      "\u001b[34m[80]#011train-auc:0.67804#011validation-auc:0.67385\u001b[0m\n",
      "\u001b[34m[81]#011train-auc:0.67823#011validation-auc:0.67396\u001b[0m\n",
      "\u001b[34m[82]#011train-auc:0.67834#011validation-auc:0.67405\u001b[0m\n",
      "\u001b[34m[83]#011train-auc:0.67845#011validation-auc:0.67413\u001b[0m\n",
      "\u001b[34m[84]#011train-auc:0.67883#011validation-auc:0.67451\u001b[0m\n",
      "\u001b[34m[85]#011train-auc:0.67900#011validation-auc:0.67466\u001b[0m\n",
      "\u001b[34m[86]#011train-auc:0.67919#011validation-auc:0.67486\u001b[0m\n",
      "\u001b[34m[87]#011train-auc:0.67948#011validation-auc:0.67510\u001b[0m\n",
      "\u001b[34m[88]#011train-auc:0.67968#011validation-auc:0.67530\u001b[0m\n",
      "\u001b[34m[89]#011train-auc:0.68007#011validation-auc:0.67568\u001b[0m\n",
      "\u001b[34m[90]#011train-auc:0.68028#011validation-auc:0.67588\u001b[0m\n",
      "\u001b[34m[91]#011train-auc:0.68051#011validation-auc:0.67610\u001b[0m\n",
      "\u001b[34m[92]#011train-auc:0.68077#011validation-auc:0.67635\u001b[0m\n",
      "\u001b[34m[93]#011train-auc:0.68119#011validation-auc:0.67673\u001b[0m\n",
      "\u001b[34m[94]#011train-auc:0.68158#011validation-auc:0.67713\u001b[0m\n",
      "\u001b[34m[95]#011train-auc:0.68184#011validation-auc:0.67736\u001b[0m\n",
      "\u001b[34m[96]#011train-auc:0.68209#011validation-auc:0.67757\u001b[0m\n",
      "\u001b[34m[97]#011train-auc:0.68219#011validation-auc:0.67764\u001b[0m\n",
      "\u001b[34m[98]#011train-auc:0.68236#011validation-auc:0.67776\u001b[0m\n",
      "\n",
      "2024-11-04 10:40:16 Uploading - Uploading generated training model\u001b[34m[99]#011train-auc:0.68269#011validation-auc:0.67800\u001b[0m\n",
      "\n",
      "2024-11-04 10:40:29 Completed - Training job completed\n",
      "Training seconds: 326\n",
      "Billable seconds: 326\n"
     ]
    }
   ],
   "source": [
    "sess = sagemaker.Session()\n",
    "s3_output_location=\"s3://{}/{}/output/\".format(bucket,prefix)\n",
    "\n",
    "xgb = sagemaker.estimator.Estimator(container,\n",
    "                                    role = sagemaker.get_execution_role(), \n",
    "                                    instance_count=1, \n",
    "                                    instance_type=instance_type,\n",
    "                                    output_path=s3_output_location,\n",
    "                                    sagemaker_session=sess)\n",
    "xgb.set_hyperparameters(max_depth=5,\n",
    "                        eta=0.2,\n",
    "                        gamma=4,\n",
    "                        min_child_weight=6,\n",
    "                        subsample=0.8,\n",
    "                        silent=0,\n",
    "                        objective='binary:logistic',\n",
    "                        eval_metric = \"auc\", \n",
    "                        num_round=100)\n",
    "\n",
    "xgb.fit(inputs=data_channels)"
   ]
  },
  {
   "cell_type": "code",
   "execution_count": 61,
   "id": "79971c34-2394-461f-b834-99dda56c0d52",
   "metadata": {
    "tags": []
   },
   "outputs": [],
   "source": [
    "batch_X = test.iloc[:,1:];\n",
    "batch_X_file='batch-in.csv'\n",
    "upload_s3_csv(batch_X_file, 'batch-in', batch_X)"
   ]
  },
  {
   "cell_type": "code",
   "execution_count": 62,
   "id": "be22e298-9cfb-42d2-8e9c-3071bbbd3015",
   "metadata": {
    "tags": []
   },
   "outputs": [
    {
     "name": "stderr",
     "output_type": "stream",
     "text": [
      "INFO:sagemaker:Creating model with name: sagemaker-xgboost-2024-11-04-10-41-09-929\n",
      "INFO:sagemaker:Creating transform job with name: sagemaker-xgboost-2024-11-04-10-41-10-503\n"
     ]
    },
    {
     "name": "stdout",
     "output_type": "stream",
     "text": [
      ".........................................\u001b[34m[2024-11-04:10:48:00:INFO] No GPUs detected (normal if no gpus installed)\u001b[0m\n",
      "\u001b[34m[2024-11-04:10:48:00:INFO] No GPUs detected (normal if no gpus installed)\u001b[0m\n",
      "\u001b[34m[2024-11-04:10:48:00:INFO] nginx config: \u001b[0m\n",
      "\u001b[34mworker_processes auto;\u001b[0m\n",
      "\u001b[34mdaemon off;\u001b[0m\n",
      "\u001b[34mpid /tmp/nginx.pid;\u001b[0m\n",
      "\u001b[34merror_log  /dev/stderr;\u001b[0m\n",
      "\u001b[34mworker_rlimit_nofile 4096;\u001b[0m\n",
      "\u001b[34mevents {\n",
      "  worker_connections 2048;\u001b[0m\n",
      "\u001b[34m}\u001b[0m\n",
      "\u001b[34mhttp {\n",
      "  include /etc/nginx/mime.types;\n",
      "  default_type application/octet-stream;\n",
      "  access_log /dev/stdout combined;\n",
      "  upstream gunicorn {\n",
      "    server unix:/tmp/gunicorn.sock;\n",
      "  }\n",
      "  server {\n",
      "    listen 8080 deferred;\n",
      "    client_max_body_size 0;\n",
      "    keepalive_timeout 3;\n",
      "    location ~ ^/(ping|invocations|execution-parameters) {\n",
      "      proxy_set_header X-Forwarded-For $proxy_add_x_forwarded_for;\n",
      "      proxy_set_header Host $http_host;\n",
      "      proxy_redirect off;\n",
      "      proxy_read_timeout 60s;\n",
      "      proxy_pass http://gunicorn;\n",
      "    }\n",
      "    location / {\n",
      "      return 404 \"{}\";\n",
      "    }\n",
      "  }\u001b[0m\n",
      "\u001b[34m}\u001b[0m\n",
      "\u001b[34m[2024-11-04 10:48:00 +0000] [19] [INFO] Starting gunicorn 19.10.0\u001b[0m\n",
      "\u001b[34m[2024-11-04 10:48:00 +0000] [19] [INFO] Listening at: unix:/tmp/gunicorn.sock (19)\u001b[0m\n",
      "\u001b[34m[2024-11-04 10:48:00 +0000] [19] [INFO] Using worker: gevent\u001b[0m\n",
      "\u001b[34m[2024-11-04 10:48:00 +0000] [26] [INFO] Booting worker with pid: 26\u001b[0m\n",
      "\u001b[34m[2024-11-04 10:48:00 +0000] [27] [INFO] Booting worker with pid: 27\u001b[0m\n",
      "\u001b[34m[2024-11-04 10:48:00 +0000] [28] [INFO] Booting worker with pid: 28\u001b[0m\n",
      "\u001b[34m[2024-11-04 10:48:00 +0000] [32] [INFO] Booting worker with pid: 32\u001b[0m\n",
      "\u001b[34m[2024-11-04:10:48:05:INFO] No GPUs detected (normal if no gpus installed)\u001b[0m\n",
      "\u001b[34m169.254.255.130 - - [04/Nov/2024:10:48:05 +0000] \"GET /ping HTTP/1.1\" 200 0 \"-\" \"Go-http-client/1.1\"\u001b[0m\n",
      "\u001b[34m[2024-11-04:10:48:05:INFO] No GPUs detected (normal if no gpus installed)\u001b[0m\n",
      "\u001b[34m169.254.255.130 - - [04/Nov/2024:10:48:05 +0000] \"GET /execution-parameters HTTP/1.1\" 200 84 \"-\" \"Go-http-client/1.1\"\u001b[0m\n",
      "\u001b[34m[2024-11-04:10:48:06:INFO] No GPUs detected (normal if no gpus installed)\u001b[0m\n",
      "\u001b[34m[2024-11-04:10:48:07:INFO] No GPUs detected (normal if no gpus installed)\u001b[0m\n",
      "\u001b[34m[2024-11-04:10:48:07:INFO] Determined delimiter of CSV input is ','\u001b[0m\n",
      "\u001b[34m[2024-11-04:10:48:07:INFO] Determined delimiter of CSV input is ','\u001b[0m\n",
      "\u001b[34m[2024-11-04:10:48:07:INFO] Determined delimiter of CSV input is ','\u001b[0m\n",
      "\u001b[34m[2024-11-04:10:48:07:INFO] Determined delimiter of CSV input is ','\u001b[0m\n",
      "\n",
      "\u001b[32m2024-11-04T10:48:05.723:[sagemaker logs]: MaxConcurrentTransforms=4, MaxPayloadInMB=6, BatchStrategy=MULTI_RECORD\u001b[0m\n",
      "\u001b[34m169.254.255.130 - - [04/Nov/2024:10:48:10 +0000] \"POST /invocations HTTP/1.1\" 200 648720 \"-\" \"Go-http-client/1.1\"\u001b[0m\n",
      "\u001b[34m169.254.255.130 - - [04/Nov/2024:10:48:10 +0000] \"POST /invocations HTTP/1.1\" 200 648691 \"-\" \"Go-http-client/1.1\"\u001b[0m\n",
      "\u001b[34m169.254.255.130 - - [04/Nov/2024:10:48:10 +0000] \"POST /invocations HTTP/1.1\" 200 648847 \"-\" \"Go-http-client/1.1\"\u001b[0m\n",
      "\u001b[34m[2024-11-04:10:48:10:INFO] Determined delimiter of CSV input is ','\u001b[0m\n",
      "\u001b[34m169.254.255.130 - - [04/Nov/2024:10:48:10 +0000] \"POST /invocations HTTP/1.1\" 200 648673 \"-\" \"Go-http-client/1.1\"\u001b[0m\n",
      "\u001b[34m[2024-11-04:10:48:10:INFO] Determined delimiter of CSV input is ','\u001b[0m\n",
      "\u001b[34m[2024-11-04:10:48:10:INFO] Determined delimiter of CSV input is ','\u001b[0m\n",
      "\u001b[34m[2024-11-04:10:48:10:INFO] Determined delimiter of CSV input is ','\u001b[0m\n",
      "\u001b[35m169.254.255.130 - - [04/Nov/2024:10:48:10 +0000] \"POST /invocations HTTP/1.1\" 200 648720 \"-\" \"Go-http-client/1.1\"\u001b[0m\n",
      "\u001b[35m169.254.255.130 - - [04/Nov/2024:10:48:10 +0000] \"POST /invocations HTTP/1.1\" 200 648691 \"-\" \"Go-http-client/1.1\"\u001b[0m\n",
      "\u001b[35m169.254.255.130 - - [04/Nov/2024:10:48:10 +0000] \"POST /invocations HTTP/1.1\" 200 648847 \"-\" \"Go-http-client/1.1\"\u001b[0m\n",
      "\u001b[35m[2024-11-04:10:48:10:INFO] Determined delimiter of CSV input is ','\u001b[0m\n",
      "\u001b[35m169.254.255.130 - - [04/Nov/2024:10:48:10 +0000] \"POST /invocations HTTP/1.1\" 200 648673 \"-\" \"Go-http-client/1.1\"\u001b[0m\n",
      "\u001b[35m[2024-11-04:10:48:10:INFO] Determined delimiter of CSV input is ','\u001b[0m\n",
      "\u001b[35m[2024-11-04:10:48:10:INFO] Determined delimiter of CSV input is ','\u001b[0m\n",
      "\u001b[35m[2024-11-04:10:48:10:INFO] Determined delimiter of CSV input is ','\u001b[0m\n",
      "\u001b[34m169.254.255.130 - - [04/Nov/2024:10:48:12 +0000] \"POST /invocations HTTP/1.1\" 200 275098 \"-\" \"Go-http-client/1.1\"\u001b[0m\n",
      "\u001b[35m169.254.255.130 - - [04/Nov/2024:10:48:12 +0000] \"POST /invocations HTTP/1.1\" 200 275098 \"-\" \"Go-http-client/1.1\"\u001b[0m\n",
      "\u001b[34m169.254.255.130 - - [04/Nov/2024:10:48:13 +0000] \"POST /invocations HTTP/1.1\" 200 648637 \"-\" \"Go-http-client/1.1\"\u001b[0m\n",
      "\u001b[35m169.254.255.130 - - [04/Nov/2024:10:48:13 +0000] \"POST /invocations HTTP/1.1\" 200 648637 \"-\" \"Go-http-client/1.1\"\u001b[0m\n",
      "\u001b[34m169.254.255.130 - - [04/Nov/2024:10:48:14 +0000] \"POST /invocations HTTP/1.1\" 200 648621 \"-\" \"Go-http-client/1.1\"\u001b[0m\n",
      "\u001b[34m169.254.255.130 - - [04/Nov/2024:10:48:14 +0000] \"POST /invocations HTTP/1.1\" 200 648706 \"-\" \"Go-http-client/1.1\"\u001b[0m\n",
      "\u001b[35m169.254.255.130 - - [04/Nov/2024:10:48:14 +0000] \"POST /invocations HTTP/1.1\" 200 648621 \"-\" \"Go-http-client/1.1\"\u001b[0m\n",
      "\u001b[35m169.254.255.130 - - [04/Nov/2024:10:48:14 +0000] \"POST /invocations HTTP/1.1\" 200 648706 \"-\" \"Go-http-client/1.1\"\u001b[0m\n",
      "\u001b[34m[2024-11-04:10:48:00:INFO] No GPUs detected (normal if no gpus installed)\u001b[0m\n",
      "\u001b[34m[2024-11-04:10:48:00:INFO] No GPUs detected (normal if no gpus installed)\u001b[0m\n",
      "\u001b[34m[2024-11-04:10:48:00:INFO] nginx config: \u001b[0m\n",
      "\u001b[34mworker_processes auto;\u001b[0m\n",
      "\u001b[34mdaemon off;\u001b[0m\n",
      "\u001b[34mpid /tmp/nginx.pid;\u001b[0m\n",
      "\u001b[34merror_log  /dev/stderr;\u001b[0m\n",
      "\u001b[34mworker_rlimit_nofile 4096;\u001b[0m\n",
      "\u001b[34mevents {\n",
      "  worker_connections 2048;\u001b[0m\n",
      "\u001b[34m}\u001b[0m\n",
      "\u001b[35m[2024-11-04:10:48:00:INFO] No GPUs detected (normal if no gpus installed)\u001b[0m\n",
      "\u001b[35m[2024-11-04:10:48:00:INFO] No GPUs detected (normal if no gpus installed)\u001b[0m\n",
      "\u001b[35m[2024-11-04:10:48:00:INFO] nginx config: \u001b[0m\n",
      "\u001b[35mworker_processes auto;\u001b[0m\n",
      "\u001b[35mdaemon off;\u001b[0m\n",
      "\u001b[35mpid /tmp/nginx.pid;\u001b[0m\n",
      "\u001b[35merror_log  /dev/stderr;\u001b[0m\n",
      "\u001b[35mworker_rlimit_nofile 4096;\u001b[0m\n",
      "\u001b[35mevents {\n",
      "  worker_connections 2048;\u001b[0m\n",
      "\u001b[35m}\u001b[0m\n",
      "\u001b[34mhttp {\n",
      "  include /etc/nginx/mime.types;\n",
      "  default_type application/octet-stream;\n",
      "  access_log /dev/stdout combined;\n",
      "  upstream gunicorn {\n",
      "    server unix:/tmp/gunicorn.sock;\n",
      "  }\n",
      "  server {\n",
      "    listen 8080 deferred;\n",
      "    client_max_body_size 0;\n",
      "    keepalive_timeout 3;\n",
      "    location ~ ^/(ping|invocations|execution-parameters) {\n",
      "      proxy_set_header X-Forwarded-For $proxy_add_x_forwarded_for;\n",
      "      proxy_set_header Host $http_host;\n",
      "      proxy_redirect off;\n",
      "      proxy_read_timeout 60s;\n",
      "      proxy_pass http://gunicorn;\n",
      "    }\n",
      "    location / {\n",
      "      return 404 \"{}\";\n",
      "    }\n",
      "  }\u001b[0m\n",
      "\u001b[34m}\u001b[0m\n",
      "\u001b[34m[2024-11-04 10:48:00 +0000] [19] [INFO] Starting gunicorn 19.10.0\u001b[0m\n",
      "\u001b[34m[2024-11-04 10:48:00 +0000] [19] [INFO] Listening at: unix:/tmp/gunicorn.sock (19)\u001b[0m\n",
      "\u001b[34m[2024-11-04 10:48:00 +0000] [19] [INFO] Using worker: gevent\u001b[0m\n",
      "\u001b[34m[2024-11-04 10:48:00 +0000] [26] [INFO] Booting worker with pid: 26\u001b[0m\n",
      "\u001b[34m[2024-11-04 10:48:00 +0000] [27] [INFO] Booting worker with pid: 27\u001b[0m\n",
      "\u001b[34m[2024-11-04 10:48:00 +0000] [28] [INFO] Booting worker with pid: 28\u001b[0m\n",
      "\u001b[34m[2024-11-04 10:48:00 +0000] [32] [INFO] Booting worker with pid: 32\u001b[0m\n",
      "\u001b[35mhttp {\n",
      "  include /etc/nginx/mime.types;\n",
      "  default_type application/octet-stream;\n",
      "  access_log /dev/stdout combined;\n",
      "  upstream gunicorn {\n",
      "    server unix:/tmp/gunicorn.sock;\n",
      "  }\n",
      "  server {\n",
      "    listen 8080 deferred;\n",
      "    client_max_body_size 0;\n",
      "    keepalive_timeout 3;\n",
      "    location ~ ^/(ping|invocations|execution-parameters) {\n",
      "      proxy_set_header X-Forwarded-For $proxy_add_x_forwarded_for;\n",
      "      proxy_set_header Host $http_host;\n",
      "      proxy_redirect off;\n",
      "      proxy_read_timeout 60s;\n",
      "      proxy_pass http://gunicorn;\n",
      "    }\n",
      "    location / {\n",
      "      return 404 \"{}\";\n",
      "    }\n",
      "  }\u001b[0m\n",
      "\u001b[35m}\u001b[0m\n",
      "\u001b[35m[2024-11-04 10:48:00 +0000] [19] [INFO] Starting gunicorn 19.10.0\u001b[0m\n",
      "\u001b[35m[2024-11-04 10:48:00 +0000] [19] [INFO] Listening at: unix:/tmp/gunicorn.sock (19)\u001b[0m\n",
      "\u001b[35m[2024-11-04 10:48:00 +0000] [19] [INFO] Using worker: gevent\u001b[0m\n",
      "\u001b[35m[2024-11-04 10:48:00 +0000] [26] [INFO] Booting worker with pid: 26\u001b[0m\n",
      "\u001b[35m[2024-11-04 10:48:00 +0000] [27] [INFO] Booting worker with pid: 27\u001b[0m\n",
      "\u001b[35m[2024-11-04 10:48:00 +0000] [28] [INFO] Booting worker with pid: 28\u001b[0m\n",
      "\u001b[35m[2024-11-04 10:48:00 +0000] [32] [INFO] Booting worker with pid: 32\u001b[0m\n",
      "\u001b[34m[2024-11-04:10:48:05:INFO] No GPUs detected (normal if no gpus installed)\u001b[0m\n",
      "\u001b[34m169.254.255.130 - - [04/Nov/2024:10:48:05 +0000] \"GET /ping HTTP/1.1\" 200 0 \"-\" \"Go-http-client/1.1\"\u001b[0m\n",
      "\u001b[35m[2024-11-04:10:48:05:INFO] No GPUs detected (normal if no gpus installed)\u001b[0m\n",
      "\u001b[35m169.254.255.130 - - [04/Nov/2024:10:48:05 +0000] \"GET /ping HTTP/1.1\" 200 0 \"-\" \"Go-http-client/1.1\"\u001b[0m\n",
      "\u001b[34m[2024-11-04:10:48:05:INFO] No GPUs detected (normal if no gpus installed)\u001b[0m\n",
      "\u001b[34m169.254.255.130 - - [04/Nov/2024:10:48:05 +0000] \"GET /execution-parameters HTTP/1.1\" 200 84 \"-\" \"Go-http-client/1.1\"\u001b[0m\n",
      "\u001b[35m[2024-11-04:10:48:05:INFO] No GPUs detected (normal if no gpus installed)\u001b[0m\n",
      "\u001b[35m169.254.255.130 - - [04/Nov/2024:10:48:05 +0000] \"GET /execution-parameters HTTP/1.1\" 200 84 \"-\" \"Go-http-client/1.1\"\u001b[0m\n",
      "\u001b[34m[2024-11-04:10:48:06:INFO] No GPUs detected (normal if no gpus installed)\u001b[0m\n",
      "\u001b[34m[2024-11-04:10:48:07:INFO] No GPUs detected (normal if no gpus installed)\u001b[0m\n",
      "\u001b[34m[2024-11-04:10:48:07:INFO] Determined delimiter of CSV input is ','\u001b[0m\n",
      "\u001b[34m[2024-11-04:10:48:07:INFO] Determined delimiter of CSV input is ','\u001b[0m\n",
      "\u001b[34m[2024-11-04:10:48:07:INFO] Determined delimiter of CSV input is ','\u001b[0m\n",
      "\u001b[34m[2024-11-04:10:48:07:INFO] Determined delimiter of CSV input is ','\u001b[0m\n",
      "\u001b[35m[2024-11-04:10:48:06:INFO] No GPUs detected (normal if no gpus installed)\u001b[0m\n",
      "\u001b[35m[2024-11-04:10:48:07:INFO] No GPUs detected (normal if no gpus installed)\u001b[0m\n",
      "\u001b[35m[2024-11-04:10:48:07:INFO] Determined delimiter of CSV input is ','\u001b[0m\n",
      "\u001b[35m[2024-11-04:10:48:07:INFO] Determined delimiter of CSV input is ','\u001b[0m\n",
      "\u001b[35m[2024-11-04:10:48:07:INFO] Determined delimiter of CSV input is ','\u001b[0m\n",
      "\u001b[35m[2024-11-04:10:48:07:INFO] Determined delimiter of CSV input is ','\u001b[0m\n",
      "\u001b[32m2024-11-04T10:48:05.723:[sagemaker logs]: MaxConcurrentTransforms=4, MaxPayloadInMB=6, BatchStrategy=MULTI_RECORD\u001b[0m\n",
      "\u001b[34m169.254.255.130 - - [04/Nov/2024:10:48:10 +0000] \"POST /invocations HTTP/1.1\" 200 648720 \"-\" \"Go-http-client/1.1\"\u001b[0m\n",
      "\u001b[34m169.254.255.130 - - [04/Nov/2024:10:48:10 +0000] \"POST /invocations HTTP/1.1\" 200 648691 \"-\" \"Go-http-client/1.1\"\u001b[0m\n",
      "\u001b[34m169.254.255.130 - - [04/Nov/2024:10:48:10 +0000] \"POST /invocations HTTP/1.1\" 200 648847 \"-\" \"Go-http-client/1.1\"\u001b[0m\n",
      "\u001b[34m[2024-11-04:10:48:10:INFO] Determined delimiter of CSV input is ','\u001b[0m\n",
      "\u001b[34m169.254.255.130 - - [04/Nov/2024:10:48:10 +0000] \"POST /invocations HTTP/1.1\" 200 648673 \"-\" \"Go-http-client/1.1\"\u001b[0m\n",
      "\u001b[34m[2024-11-04:10:48:10:INFO] Determined delimiter of CSV input is ','\u001b[0m\n",
      "\u001b[34m[2024-11-04:10:48:10:INFO] Determined delimiter of CSV input is ','\u001b[0m\n",
      "\u001b[34m[2024-11-04:10:48:10:INFO] Determined delimiter of CSV input is ','\u001b[0m\n",
      "\u001b[35m169.254.255.130 - - [04/Nov/2024:10:48:10 +0000] \"POST /invocations HTTP/1.1\" 200 648720 \"-\" \"Go-http-client/1.1\"\u001b[0m\n",
      "\u001b[35m169.254.255.130 - - [04/Nov/2024:10:48:10 +0000] \"POST /invocations HTTP/1.1\" 200 648691 \"-\" \"Go-http-client/1.1\"\u001b[0m\n",
      "\u001b[35m169.254.255.130 - - [04/Nov/2024:10:48:10 +0000] \"POST /invocations HTTP/1.1\" 200 648847 \"-\" \"Go-http-client/1.1\"\u001b[0m\n",
      "\u001b[35m[2024-11-04:10:48:10:INFO] Determined delimiter of CSV input is ','\u001b[0m\n",
      "\u001b[35m169.254.255.130 - - [04/Nov/2024:10:48:10 +0000] \"POST /invocations HTTP/1.1\" 200 648673 \"-\" \"Go-http-client/1.1\"\u001b[0m\n",
      "\u001b[35m[2024-11-04:10:48:10:INFO] Determined delimiter of CSV input is ','\u001b[0m\n",
      "\u001b[35m[2024-11-04:10:48:10:INFO] Determined delimiter of CSV input is ','\u001b[0m\n",
      "\u001b[35m[2024-11-04:10:48:10:INFO] Determined delimiter of CSV input is ','\u001b[0m\n",
      "\u001b[34m169.254.255.130 - - [04/Nov/2024:10:48:12 +0000] \"POST /invocations HTTP/1.1\" 200 275098 \"-\" \"Go-http-client/1.1\"\u001b[0m\n",
      "\u001b[35m169.254.255.130 - - [04/Nov/2024:10:48:12 +0000] \"POST /invocations HTTP/1.1\" 200 275098 \"-\" \"Go-http-client/1.1\"\u001b[0m\n",
      "\u001b[34m169.254.255.130 - - [04/Nov/2024:10:48:13 +0000] \"POST /invocations HTTP/1.1\" 200 648637 \"-\" \"Go-http-client/1.1\"\u001b[0m\n",
      "\u001b[35m169.254.255.130 - - [04/Nov/2024:10:48:13 +0000] \"POST /invocations HTTP/1.1\" 200 648637 \"-\" \"Go-http-client/1.1\"\u001b[0m\n",
      "\u001b[34m169.254.255.130 - - [04/Nov/2024:10:48:14 +0000] \"POST /invocations HTTP/1.1\" 200 648621 \"-\" \"Go-http-client/1.1\"\u001b[0m\n",
      "\u001b[34m169.254.255.130 - - [04/Nov/2024:10:48:14 +0000] \"POST /invocations HTTP/1.1\" 200 648706 \"-\" \"Go-http-client/1.1\"\u001b[0m\n",
      "\u001b[35m169.254.255.130 - - [04/Nov/2024:10:48:14 +0000] \"POST /invocations HTTP/1.1\" 200 648621 \"-\" \"Go-http-client/1.1\"\u001b[0m\n",
      "\u001b[35m169.254.255.130 - - [04/Nov/2024:10:48:14 +0000] \"POST /invocations HTTP/1.1\" 200 648706 \"-\" \"Go-http-client/1.1\"\u001b[0m\n"
     ]
    }
   ],
   "source": [
    "batch_output = \"s3://{}/{}/batch-out/\".format(bucket,prefix)\n",
    "batch_input = \"s3://{}/{}/batch-in/{}\".format(bucket,prefix,batch_X_file)\n",
    "\n",
    "xgb_transformer = xgb.transformer(instance_count=1,\n",
    "                                       instance_type=instance_type,\n",
    "                                       strategy='MultiRecord',\n",
    "                                       assemble_with='Line',\n",
    "                                       output_path=batch_output)\n",
    "\n",
    "xgb_transformer.transform(data=batch_input,\n",
    "                         data_type='S3Prefix',\n",
    "                         content_type='text/csv',\n",
    "                         split_type='Line')\n",
    "xgb_transformer.wait()"
   ]
  },
  {
   "cell_type": "code",
   "execution_count": 63,
   "id": "c34c3287-bb93-417b-9ac1-3af54e6ff28d",
   "metadata": {
    "tags": []
   },
   "outputs": [],
   "source": [
    "s3 = boto3.client('s3')\n",
    "obj = s3.get_object(Bucket=bucket, Key=\"{}/batch-out/{}\".format(prefix,'batch-in.csv.out'))\n",
    "target_predicted = pd.read_csv(io.BytesIO(obj['Body'].read()),sep=',',names=['target'])\n",
    "test_labels = test.iloc[:,0]"
   ]
  },
  {
   "cell_type": "code",
   "execution_count": 64,
   "id": "107d464f-a293-4ada-a34f-8c82df848b8e",
   "metadata": {
    "tags": []
   },
   "outputs": [
    {
     "name": "stdout",
     "output_type": "stream",
     "text": [
      "     target\n",
      "0  0.254320\n",
      "1  0.211411\n",
      "2  0.033253\n",
      "3  0.359315\n",
      "4  0.201111\n",
      "   target\n",
      "0       0\n",
      "1       0\n",
      "2       0\n",
      "3       0\n",
      "4       0\n"
     ]
    }
   ],
   "source": [
    "print(target_predicted.head())\n",
    "\n",
    "def binary_convert(x):\n",
    "    threshold = 0.55\n",
    "    if x > threshold:\n",
    "        return 1\n",
    "    else:\n",
    "        return 0\n",
    "\n",
    "target_predicted['target'] = target_predicted['target'].apply(binary_convert)\n",
    "\n",
    "test_labels = test.iloc[:,0]\n",
    "\n",
    "print(target_predicted.head())"
   ]
  },
  {
   "cell_type": "code",
   "execution_count": 65,
   "id": "2d480cc3-feb5-4efb-9174-e721f83a08b2",
   "metadata": {
    "tags": []
   },
   "outputs": [
    {
     "data": {
      "image/png": "[encoded data removed]",
      "text/plain": [
       "<Figure size 640x480 with 1 Axes>"
      ]
     },
     "metadata": {},
     "output_type": "display_data"
    }
   ],
   "source": [
    "plot_confusion_matrix(test_labels, target_predicted)"
   ]
  },
  {
   "cell_type": "code",
   "execution_count": 66,
   "id": "6c1bbd37-3134-44db-9e84-c31317d8b828",
   "metadata": {
    "tags": []
   },
   "outputs": [
    {
     "name": "stdout",
     "output_type": "stream",
     "text": [
      "Sensitivity or TPR:  0.6310679611650485 %\n",
      "Specificity or TNR:  99.92364758200146 %\n",
      "Precision:  68.71035940803382 %\n",
      "Negative Predictive Value:  79.10072897310762 %\n",
      "False Positive Rate:  0.07635241799853486 %\n",
      "False Negative Rate:  99.36893203883496 %\n",
      "False Discovery Rate:  31.289640591966172 %\n",
      "Accuracy:  79.08069683457109 %\n",
      "Validation AUC 0.5027735777158325\n",
      "Figure(640x480)\n"
     ]
    },
    {
     "data": {
      "image/png": "[encoded data removed]",
      "text/plain": [
       "<Figure size 640x480 with 2 Axes>"
      ]
     },
     "metadata": {},
     "output_type": "display_data"
    },
    {
     "data": {
      "text/plain": [
       "<Figure size 640x480 with 0 Axes>"
      ]
     },
     "metadata": {},
     "output_type": "display_data"
    }
   ],
   "source": [
    "plot_roc(test_labels, target_predicted)"
   ]
  },
  {
   "cell_type": "markdown",
   "id": "8d4c6c28-8928-4266-a261-215ffc9d9ed4",
   "metadata": {},
   "source": [
    "# Model 2 Ensemble Method"
   ]
  },
  {
   "cell_type": "code",
   "execution_count": 67,
   "id": "4bafd54c-d82b-4327-826b-522c89e5914c",
   "metadata": {
    "tags": []
   },
   "outputs": [],
   "source": [
    "train, test, validate = split_data(df2)"
   ]
  },
  {
   "cell_type": "code",
   "execution_count": 68,
   "id": "67e8342e-18aa-4472-a949-a2b8734c5388",
   "metadata": {
    "tags": []
   },
   "outputs": [],
   "source": [
    "upload_s3_csv(train_file, 'train', train)\n",
    "upload_s3_csv(test_file, 'test', test)\n",
    "upload_s3_csv(validate_file, 'validate', validate)"
   ]
  },
  {
   "cell_type": "code",
   "execution_count": 69,
   "id": "32f091c9-6144-4521-9ae7-dfac8f39e53d",
   "metadata": {
    "tags": []
   },
   "outputs": [],
   "source": [
    "train_channel = sagemaker.inputs.TrainingInput(\n",
    "    \"s3://{}/{}/train/\".format(bucket,prefix,train_file),\n",
    "    content_type='text/csv')\n",
    "\n",
    "validate_channel = sagemaker.inputs.TrainingInput(\n",
    "    \"s3://{}/{}/validate/\".format(bucket,prefix,validate_file),\n",
    "    content_type='text/csv')\n",
    "\n",
    "data_channels = {'train': train_channel, 'validation': validate_channel}"
   ]
  },
  {
   "cell_type": "code",
   "execution_count": 70,
   "id": "25f8b037-3a50-457d-bd13-68610dfe2d22",
   "metadata": {
    "tags": []
   },
   "outputs": [
    {
     "name": "stderr",
     "output_type": "stream",
     "text": [
      "INFO:sagemaker.image_uris:Defaulting to only available Python version: py3\n",
      "INFO:sagemaker.image_uris:Defaulting to only supported image scope: cpu.\n"
     ]
    }
   ],
   "source": [
    "from sagemaker.image_uris import retrieve\n",
    "container = retrieve('xgboost',boto3.Session().region_name,'1.0-1')"
   ]
  },
  {
   "cell_type": "code",
   "execution_count": 71,
   "id": "d2bf9eb3-fbd4-4c7e-b4b8-18a49aae3121",
   "metadata": {
    "tags": []
   },
   "outputs": [
    {
     "name": "stderr",
     "output_type": "stream",
     "text": [
      "INFO:sagemaker:Creating training-job with name: sagemaker-xgboost-2024-11-04-10-49-12-400\n"
     ]
    },
    {
     "name": "stdout",
     "output_type": "stream",
     "text": [
      "2024-11-04 10:49:15 Starting - Starting the training job...\n",
      "2024-11-04 10:49:40 Starting - Preparing the instances for training......\n",
      "2024-11-04 10:50:24 Downloading - Downloading input data...\n",
      "2024-11-04 10:50:54 Downloading - Downloading the training image......\n",
      "2024-11-04 10:52:05 Training - Training image download completed. Training in progress..\u001b[34m[2024-11-04 10:52:14.190 ip-10-2-185-8.ec2.internal:7 INFO utils.py:27] RULE_JOB_STOP_SIGNAL_FILENAME: None\u001b[0m\n",
      "\u001b[34mINFO:sagemaker-containers:Imported framework sagemaker_xgboost_container.training\u001b[0m\n",
      "\u001b[34mINFO:sagemaker-containers:Failed to parse hyperparameter eval_metric value auc to Json.\u001b[0m\n",
      "\u001b[34mReturning the value itself\u001b[0m\n",
      "\u001b[34mINFO:sagemaker-containers:Failed to parse hyperparameter objective value binary:logistic to Json.\u001b[0m\n",
      "\u001b[34mReturning the value itself\u001b[0m\n",
      "\u001b[34mINFO:sagemaker-containers:No GPUs detected (normal if no gpus installed)\u001b[0m\n",
      "\u001b[34mINFO:sagemaker_xgboost_container.training:Running XGBoost Sagemaker in algorithm mode\u001b[0m\n",
      "\u001b[34mINFO:root:Determined delimiter of CSV input is ','\u001b[0m\n",
      "\u001b[34mINFO:root:Determined delimiter of CSV input is ','\u001b[0m\n",
      "\u001b[34mINFO:root:Determined delimiter of CSV input is ','\u001b[0m\n",
      "\u001b[34mINFO:root:Determined delimiter of CSV input is ','\u001b[0m\n",
      "\u001b[34mINFO:root:Single node training.\u001b[0m\n",
      "\u001b[34m[10:52:18] 1144913x85 matrix with 97317605 entries loaded from /opt/ml/input/data/train?format=csv&label_column=0&delimiter=,\u001b[0m\n",
      "\u001b[34m[10:52:19] 245339x85 matrix with 20853815 entries loaded from /opt/ml/input/data/validation?format=csv&label_column=0&delimiter=,\u001b[0m\n",
      "\u001b[34m[2024-11-04 10:52:19.728 ip-10-2-185-8.ec2.internal:7 INFO json_config.py:91] Creating hook from json_config at /opt/ml/input/config/debughookconfig.json.\u001b[0m\n",
      "\u001b[34m[2024-11-04 10:52:19.729 ip-10-2-185-8.ec2.internal:7 INFO hook.py:201] tensorboard_dir has not been set for the hook. SMDebug will not be exporting tensorboard summaries.\u001b[0m\n",
      "\u001b[34m[2024-11-04 10:52:19.729 ip-10-2-185-8.ec2.internal:7 INFO profiler_config_parser.py:102] User has disabled profiler.\u001b[0m\n",
      "\u001b[34m[2024-11-04 10:52:19.730 ip-10-2-185-8.ec2.internal:7 INFO hook.py:255] Saving to /opt/ml/output/tensors\u001b[0m\n",
      "\u001b[34m[2024-11-04 10:52:19.730 ip-10-2-185-8.ec2.internal:7 INFO state_store.py:77] The checkpoint config file /opt/ml/input/config/checkpointconfig.json does not exist.\u001b[0m\n",
      "\u001b[34mINFO:root:Debug hook created from config\u001b[0m\n",
      "\u001b[34mINFO:root:Train matrix has 1144913 rows\u001b[0m\n",
      "\u001b[34mINFO:root:Validation matrix has 245339 rows\u001b[0m\n",
      "\u001b[34m[0]#011train-auc:0.65578#011validation-auc:0.65550\u001b[0m\n",
      "\u001b[34m[2024-11-04 10:52:24.233 ip-10-2-185-8.ec2.internal:7 INFO hook.py:423] Monitoring the collections: metrics\u001b[0m\n",
      "\u001b[34m[2024-11-04 10:52:24.236 ip-10-2-185-8.ec2.internal:7 INFO hook.py:486] Hook is writing from the hook with pid: 7\u001b[0m\n",
      "\u001b[34m[1]#011train-auc:0.66487#011validation-auc:0.66438\u001b[0m\n",
      "\u001b[34m[2]#011train-auc:0.66759#011validation-auc:0.66718\u001b[0m\n",
      "\u001b[34m[3]#011train-auc:0.67095#011validation-auc:0.67082\u001b[0m\n",
      "\u001b[34m[4]#011train-auc:0.67412#011validation-auc:0.67404\u001b[0m\n",
      "\u001b[34m[5]#011train-auc:0.67862#011validation-auc:0.67826\u001b[0m\n",
      "\u001b[34m[6]#011train-auc:0.68004#011validation-auc:0.67945\u001b[0m\n",
      "\u001b[34m[7]#011train-auc:0.68271#011validation-auc:0.68195\u001b[0m\n",
      "\u001b[34m[8]#011train-auc:0.68475#011validation-auc:0.68423\u001b[0m\n",
      "\u001b[34m[9]#011train-auc:0.68660#011validation-auc:0.68600\u001b[0m\n",
      "\u001b[34m[10]#011train-auc:0.68842#011validation-auc:0.68762\u001b[0m\n",
      "\u001b[34m[11]#011train-auc:0.69022#011validation-auc:0.68934\u001b[0m\n",
      "\u001b[34m[12]#011train-auc:0.69239#011validation-auc:0.69136\u001b[0m\n",
      "\u001b[34m[13]#011train-auc:0.69463#011validation-auc:0.69358\u001b[0m\n",
      "\u001b[34m[14]#011train-auc:0.69634#011validation-auc:0.69521\u001b[0m\n",
      "\u001b[34m[15]#011train-auc:0.69795#011validation-auc:0.69675\u001b[0m\n",
      "\u001b[34m[16]#011train-auc:0.69963#011validation-auc:0.69822\u001b[0m\n",
      "\u001b[34m[17]#011train-auc:0.70134#011validation-auc:0.69991\u001b[0m\n",
      "\u001b[34m[18]#011train-auc:0.70254#011validation-auc:0.70115\u001b[0m\n",
      "\u001b[34m[19]#011train-auc:0.70364#011validation-auc:0.70219\u001b[0m\n",
      "\u001b[34m[20]#011train-auc:0.70491#011validation-auc:0.70350\u001b[0m\n",
      "\u001b[34m[21]#011train-auc:0.70554#011validation-auc:0.70408\u001b[0m\n",
      "\u001b[34m[22]#011train-auc:0.70634#011validation-auc:0.70492\u001b[0m\n",
      "\u001b[34m[23]#011train-auc:0.70701#011validation-auc:0.70554\u001b[0m\n",
      "\u001b[34m[24]#011train-auc:0.70764#011validation-auc:0.70599\u001b[0m\n",
      "\u001b[34m[25]#011train-auc:0.70829#011validation-auc:0.70659\u001b[0m\n",
      "\u001b[34m[26]#011train-auc:0.70890#011validation-auc:0.70719\u001b[0m\n",
      "\u001b[34m[27]#011train-auc:0.70980#011validation-auc:0.70796\u001b[0m\n",
      "\u001b[34m[28]#011train-auc:0.71039#011validation-auc:0.70851\u001b[0m\n",
      "\u001b[34m[29]#011train-auc:0.71086#011validation-auc:0.70896\u001b[0m\n",
      "\u001b[34m[30]#011train-auc:0.71148#011validation-auc:0.70952\u001b[0m\n",
      "\u001b[34m[31]#011train-auc:0.71211#011validation-auc:0.71013\u001b[0m\n",
      "\u001b[34m[32]#011train-auc:0.71322#011validation-auc:0.71116\u001b[0m\n",
      "\u001b[34m[33]#011train-auc:0.71365#011validation-auc:0.71157\u001b[0m\n",
      "\u001b[34m[34]#011train-auc:0.71421#011validation-auc:0.71203\u001b[0m\n",
      "\u001b[34m[35]#011train-auc:0.71608#011validation-auc:0.71388\u001b[0m\n",
      "\u001b[34m[36]#011train-auc:0.71637#011validation-auc:0.71415\u001b[0m\n",
      "\u001b[34m[37]#011train-auc:0.71686#011validation-auc:0.71464\u001b[0m\n",
      "\u001b[34m[38]#011train-auc:0.71781#011validation-auc:0.71548\u001b[0m\n",
      "\u001b[34m[39]#011train-auc:0.71822#011validation-auc:0.71593\u001b[0m\n",
      "\u001b[34m[40]#011train-auc:0.71877#011validation-auc:0.71650\u001b[0m\n",
      "\u001b[34m[41]#011train-auc:0.71912#011validation-auc:0.71677\u001b[0m\n",
      "\u001b[34m[42]#011train-auc:0.71981#011validation-auc:0.71745\u001b[0m\n",
      "\u001b[34m[43]#011train-auc:0.72079#011validation-auc:0.71839\u001b[0m\n",
      "\u001b[34m[44]#011train-auc:0.72097#011validation-auc:0.71854\u001b[0m\n",
      "\u001b[34m[45]#011train-auc:0.72121#011validation-auc:0.71873\u001b[0m\n",
      "\u001b[34m[46]#011train-auc:0.72152#011validation-auc:0.71902\u001b[0m\n",
      "\u001b[34m[47]#011train-auc:0.72199#011validation-auc:0.71946\u001b[0m\n",
      "\u001b[34m[48]#011train-auc:0.72234#011validation-auc:0.71977\u001b[0m\n",
      "\u001b[34m[49]#011train-auc:0.72252#011validation-auc:0.71996\u001b[0m\n",
      "\u001b[34m[50]#011train-auc:0.72323#011validation-auc:0.72057\u001b[0m\n",
      "\u001b[34m[51]#011train-auc:0.72380#011validation-auc:0.72110\u001b[0m\n",
      "\u001b[34m[52]#011train-auc:0.72404#011validation-auc:0.72137\u001b[0m\n",
      "\u001b[34m[53]#011train-auc:0.72419#011validation-auc:0.72151\u001b[0m\n",
      "\u001b[34m[54]#011train-auc:0.72452#011validation-auc:0.72185\u001b[0m\n",
      "\u001b[34m[55]#011train-auc:0.72487#011validation-auc:0.72217\u001b[0m\n",
      "\u001b[34m[56]#011train-auc:0.72506#011validation-auc:0.72235\u001b[0m\n",
      "\u001b[34m[57]#011train-auc:0.72542#011validation-auc:0.72268\u001b[0m\n",
      "\u001b[34m[58]#011train-auc:0.72579#011validation-auc:0.72301\u001b[0m\n",
      "\u001b[34m[59]#011train-auc:0.72611#011validation-auc:0.72327\u001b[0m\n",
      "\u001b[34m[60]#011train-auc:0.72638#011validation-auc:0.72356\u001b[0m\n",
      "\u001b[34m[61]#011train-auc:0.72651#011validation-auc:0.72366\u001b[0m\n",
      "\u001b[34m[62]#011train-auc:0.72673#011validation-auc:0.72392\u001b[0m\n",
      "\u001b[34m[63]#011train-auc:0.72695#011validation-auc:0.72408\u001b[0m\n",
      "\u001b[34m[64]#011train-auc:0.72708#011validation-auc:0.72417\u001b[0m\n",
      "\u001b[34m[65]#011train-auc:0.72744#011validation-auc:0.72450\u001b[0m\n",
      "\u001b[34m[66]#011train-auc:0.72771#011validation-auc:0.72476\u001b[0m\n",
      "\u001b[34m[67]#011train-auc:0.72784#011validation-auc:0.72487\u001b[0m\n",
      "\u001b[34m[68]#011train-auc:0.72798#011validation-auc:0.72493\u001b[0m\n",
      "\u001b[34m[69]#011train-auc:0.72821#011validation-auc:0.72515\u001b[0m\n",
      "\u001b[34m[70]#011train-auc:0.72845#011validation-auc:0.72533\u001b[0m\n",
      "\u001b[34m[71]#011train-auc:0.72860#011validation-auc:0.72548\u001b[0m\n",
      "\u001b[34m[72]#011train-auc:0.72883#011validation-auc:0.72571\u001b[0m\n",
      "\u001b[34m[73]#011train-auc:0.72905#011validation-auc:0.72588\u001b[0m\n",
      "\u001b[34m[74]#011train-auc:0.72914#011validation-auc:0.72596\u001b[0m\n",
      "\u001b[34m[75]#011train-auc:0.72938#011validation-auc:0.72617\u001b[0m\n",
      "\u001b[34m[76]#011train-auc:0.72969#011validation-auc:0.72641\u001b[0m\n",
      "\u001b[34m[77]#011train-auc:0.72993#011validation-auc:0.72662\u001b[0m\n",
      "\u001b[34m[78]#011train-auc:0.73015#011validation-auc:0.72682\u001b[0m\n",
      "\u001b[34m[79]#011train-auc:0.73019#011validation-auc:0.72685\u001b[0m\n",
      "\u001b[34m[80]#011train-auc:0.73041#011validation-auc:0.72705\u001b[0m\n",
      "\u001b[34m[81]#011train-auc:0.73070#011validation-auc:0.72723\u001b[0m\n",
      "\u001b[34m[82]#011train-auc:0.73099#011validation-auc:0.72745\u001b[0m\n",
      "\u001b[34m[83]#011train-auc:0.73117#011validation-auc:0.72758\u001b[0m\n",
      "\u001b[34m[84]#011train-auc:0.73133#011validation-auc:0.72770\u001b[0m\n",
      "\u001b[34m[85]#011train-auc:0.73190#011validation-auc:0.72824\u001b[0m\n",
      "\u001b[34m[86]#011train-auc:0.73215#011validation-auc:0.72844\u001b[0m\n",
      "\u001b[34m[87]#011train-auc:0.73236#011validation-auc:0.72861\u001b[0m\n",
      "\u001b[34m[88]#011train-auc:0.73258#011validation-auc:0.72879\u001b[0m\n",
      "\u001b[34m[89]#011train-auc:0.73272#011validation-auc:0.72893\u001b[0m\n",
      "\u001b[34m[90]#011train-auc:0.73280#011validation-auc:0.72898\u001b[0m\n",
      "\u001b[34m[91]#011train-auc:0.73294#011validation-auc:0.72911\u001b[0m\n",
      "\u001b[34m[92]#011train-auc:0.73308#011validation-auc:0.72919\u001b[0m\n",
      "\u001b[34m[93]#011train-auc:0.73322#011validation-auc:0.72932\u001b[0m\n",
      "\u001b[34m[94]#011train-auc:0.73345#011validation-auc:0.72953\u001b[0m\n",
      "\u001b[34m[95]#011train-auc:0.73366#011validation-auc:0.72970\u001b[0m\n",
      "\u001b[34m[96]#011train-auc:0.73396#011validation-auc:0.72996\u001b[0m\n",
      "\u001b[34m[97]#011train-auc:0.73420#011validation-auc:0.73017\u001b[0m\n",
      "\n",
      "2024-11-04 10:55:46 Uploading - Uploading generated training model\u001b[34m[98]#011train-auc:0.73436#011validation-auc:0.73029\u001b[0m\n",
      "\u001b[34m[99]#011train-auc:0.73452#011validation-auc:0.73040\u001b[0m\n",
      "\n",
      "2024-11-04 10:56:00 Completed - Training job completed\n",
      "Training seconds: 335\n",
      "Billable seconds: 335\n"
     ]
    }
   ],
   "source": [
    "sess = sagemaker.Session()\n",
    "s3_output_location=\"s3://{}/{}/output/\".format(bucket,prefix)\n",
    "\n",
    "xgb = sagemaker.estimator.Estimator(container,\n",
    "                                    role = sagemaker.get_execution_role(), \n",
    "                                    instance_count=1, \n",
    "                                    instance_type=instance_type,\n",
    "                                    output_path=s3_output_location,\n",
    "                                    sagemaker_session=sess)\n",
    "xgb.set_hyperparameters(max_depth=5,\n",
    "                        eta=0.2,\n",
    "                        gamma=4,\n",
    "                        min_child_weight=6,\n",
    "                        subsample=0.8,\n",
    "                        silent=0,\n",
    "                        objective='binary:logistic',\n",
    "                        eval_metric = \"auc\", \n",
    "                        num_round=100)\n",
    "\n",
    "xgb.fit(inputs=data_channels)"
   ]
  },
  {
   "cell_type": "code",
   "execution_count": 72,
   "id": "f63d2d13-c657-4612-ac20-8b3a4da7580e",
   "metadata": {
    "tags": []
   },
   "outputs": [],
   "source": [
    "batch_X = test.iloc[:,1:];\n",
    "batch_X_file='batch-in.csv'\n",
    "upload_s3_csv(batch_X_file, 'batch-in', batch_X)"
   ]
  },
  {
   "cell_type": "code",
   "execution_count": 73,
   "id": "617a1105-2cbe-4b21-a04a-db887cd42dc1",
   "metadata": {
    "tags": []
   },
   "outputs": [
    {
     "name": "stderr",
     "output_type": "stream",
     "text": [
      "INFO:sagemaker:Creating model with name: sagemaker-xgboost-2024-11-04-10-56-37-270\n",
      "INFO:sagemaker:Creating transform job with name: sagemaker-xgboost-2024-11-04-10-56-37-876\n"
     ]
    },
    {
     "name": "stdout",
     "output_type": "stream",
     "text": [
      ".......................................\n",
      "\u001b[34m[2024-11-04:11:03:03:INFO] No GPUs detected (normal if no gpus installed)\u001b[0m\n",
      "\u001b[34m[2024-11-04:11:03:03:INFO] No GPUs detected (normal if no gpus installed)\u001b[0m\n",
      "\u001b[34m[2024-11-04:11:03:03:INFO] nginx config: \u001b[0m\n",
      "\u001b[34mworker_processes auto;\u001b[0m\n",
      "\u001b[34mdaemon off;\u001b[0m\n",
      "\u001b[34mpid /tmp/nginx.pid;\u001b[0m\n",
      "\u001b[34merror_log  /dev/stderr;\u001b[0m\n",
      "\u001b[34mworker_rlimit_nofile 4096;\u001b[0m\n",
      "\u001b[34mevents {\n",
      "  worker_connections 2048;\u001b[0m\n",
      "\u001b[34m}\u001b[0m\n",
      "\u001b[35m[2024-11-04:11:03:03:INFO] No GPUs detected (normal if no gpus installed)\u001b[0m\n",
      "\u001b[35m[2024-11-04:11:03:03:INFO] No GPUs detected (normal if no gpus installed)\u001b[0m\n",
      "\u001b[35m[2024-11-04:11:03:03:INFO] nginx config: \u001b[0m\n",
      "\u001b[35mworker_processes auto;\u001b[0m\n",
      "\u001b[35mdaemon off;\u001b[0m\n",
      "\u001b[35mpid /tmp/nginx.pid;\u001b[0m\n",
      "\u001b[35merror_log  /dev/stderr;\u001b[0m\n",
      "\u001b[35mworker_rlimit_nofile 4096;\u001b[0m\n",
      "\u001b[35mevents {\n",
      "  worker_connections 2048;\u001b[0m\n",
      "\u001b[35m}\u001b[0m\n",
      "\u001b[34mhttp {\n",
      "  include /etc/nginx/mime.types;\n",
      "  default_type application/octet-stream;\n",
      "  access_log /dev/stdout combined;\n",
      "  upstream gunicorn {\n",
      "    server unix:/tmp/gunicorn.sock;\n",
      "  }\n",
      "  server {\n",
      "    listen 8080 deferred;\n",
      "    client_max_body_size 0;\n",
      "    keepalive_timeout 3;\n",
      "    location ~ ^/(ping|invocations|execution-parameters) {\n",
      "      proxy_set_header X-Forwarded-For $proxy_add_x_forwarded_for;\n",
      "      proxy_set_header Host $http_host;\n",
      "      proxy_redirect off;\n",
      "      proxy_read_timeout 60s;\n",
      "      proxy_pass http://gunicorn;\n",
      "    }\n",
      "    location / {\n",
      "      return 404 \"{}\";\n",
      "    }\n",
      "  }\u001b[0m\n",
      "\u001b[34m}\u001b[0m\n",
      "\u001b[34m[2024-11-04 11:03:03 +0000] [19] [INFO] Starting gunicorn 19.10.0\u001b[0m\n",
      "\u001b[34m[2024-11-04 11:03:03 +0000] [19] [INFO] Listening at: unix:/tmp/gunicorn.sock (19)\u001b[0m\n",
      "\u001b[34m[2024-11-04 11:03:03 +0000] [19] [INFO] Using worker: gevent\u001b[0m\n",
      "\u001b[34m[2024-11-04 11:03:03 +0000] [26] [INFO] Booting worker with pid: 26\u001b[0m\n",
      "\u001b[34m[2024-11-04 11:03:03 +0000] [27] [INFO] Booting worker with pid: 27\u001b[0m\n",
      "\u001b[34m[2024-11-04 11:03:04 +0000] [28] [INFO] Booting worker with pid: 28\u001b[0m\n",
      "\u001b[35mhttp {\n",
      "  include /etc/nginx/mime.types;\n",
      "  default_type application/octet-stream;\n",
      "  access_log /dev/stdout combined;\n",
      "  upstream gunicorn {\n",
      "    server unix:/tmp/gunicorn.sock;\n",
      "  }\n",
      "  server {\n",
      "    listen 8080 deferred;\n",
      "    client_max_body_size 0;\n",
      "    keepalive_timeout 3;\n",
      "    location ~ ^/(ping|invocations|execution-parameters) {\n",
      "      proxy_set_header X-Forwarded-For $proxy_add_x_forwarded_for;\n",
      "      proxy_set_header Host $http_host;\n",
      "      proxy_redirect off;\n",
      "      proxy_read_timeout 60s;\n",
      "      proxy_pass http://gunicorn;\n",
      "    }\n",
      "    location / {\n",
      "      return 404 \"{}\";\n",
      "    }\n",
      "  }\u001b[0m\n",
      "\u001b[35m}\u001b[0m\n",
      "\u001b[35m[2024-11-04 11:03:03 +0000] [19] [INFO] Starting gunicorn 19.10.0\u001b[0m\n",
      "\u001b[35m[2024-11-04 11:03:03 +0000] [19] [INFO] Listening at: unix:/tmp/gunicorn.sock (19)\u001b[0m\n",
      "\u001b[35m[2024-11-04 11:03:03 +0000] [19] [INFO] Using worker: gevent\u001b[0m\n",
      "\u001b[35m[2024-11-04 11:03:03 +0000] [26] [INFO] Booting worker with pid: 26\u001b[0m\n",
      "\u001b[35m[2024-11-04 11:03:03 +0000] [27] [INFO] Booting worker with pid: 27\u001b[0m\n",
      "\u001b[35m[2024-11-04 11:03:04 +0000] [28] [INFO] Booting worker with pid: 28\u001b[0m\n",
      "\u001b[34m[2024-11-04 11:03:04 +0000] [29] [INFO] Booting worker with pid: 29\u001b[0m\n",
      "\u001b[35m[2024-11-04 11:03:04 +0000] [29] [INFO] Booting worker with pid: 29\u001b[0m\n",
      "\u001b[34m[2024-11-04:11:03:09:INFO] No GPUs detected (normal if no gpus installed)\u001b[0m\n",
      "\u001b[34m169.254.255.130 - - [04/Nov/2024:11:03:09 +0000] \"GET /ping HTTP/1.1\" 200 0 \"-\" \"Go-http-client/1.1\"\u001b[0m\n",
      "\u001b[34m[2024-11-04:11:03:09:INFO] No GPUs detected (normal if no gpus installed)\u001b[0m\n",
      "\u001b[34m169.254.255.130 - - [04/Nov/2024:11:03:09 +0000] \"GET /execution-parameters HTTP/1.1\" 200 84 \"-\" \"Go-http-client/1.1\"\u001b[0m\n",
      "\u001b[35m[2024-11-04:11:03:09:INFO] No GPUs detected (normal if no gpus installed)\u001b[0m\n",
      "\u001b[35m169.254.255.130 - - [04/Nov/2024:11:03:09 +0000] \"GET /ping HTTP/1.1\" 200 0 \"-\" \"Go-http-client/1.1\"\u001b[0m\n",
      "\u001b[35m[2024-11-04:11:03:09:INFO] No GPUs detected (normal if no gpus installed)\u001b[0m\n",
      "\u001b[35m169.254.255.130 - - [04/Nov/2024:11:03:09 +0000] \"GET /execution-parameters HTTP/1.1\" 200 84 \"-\" \"Go-http-client/1.1\"\u001b[0m\n",
      "\u001b[34m[2024-11-04:11:03:10:INFO] No GPUs detected (normal if no gpus installed)\u001b[0m\n",
      "\u001b[34m[2024-11-04:11:03:10:INFO] Determined delimiter of CSV input is ','\u001b[0m\n",
      "\u001b[34m[2024-11-04:11:03:10:INFO] Determined delimiter of CSV input is ','\u001b[0m\n",
      "\u001b[34m[2024-11-04:11:03:10:INFO] No GPUs detected (normal if no gpus installed)\u001b[0m\n",
      "\u001b[34m[2024-11-04:11:03:10:INFO] Determined delimiter of CSV input is ','\u001b[0m\n",
      "\u001b[35m[2024-11-04:11:03:10:INFO] No GPUs detected (normal if no gpus installed)\u001b[0m\n",
      "\u001b[35m[2024-11-04:11:03:10:INFO] Determined delimiter of CSV input is ','\u001b[0m\n",
      "\u001b[35m[2024-11-04:11:03:10:INFO] Determined delimiter of CSV input is ','\u001b[0m\n",
      "\u001b[35m[2024-11-04:11:03:10:INFO] No GPUs detected (normal if no gpus installed)\u001b[0m\n",
      "\u001b[35m[2024-11-04:11:03:10:INFO] Determined delimiter of CSV input is ','\u001b[0m\n",
      "\u001b[34m[2024-11-04:11:03:10:INFO] Determined delimiter of CSV input is ','\u001b[0m\n",
      "\u001b[35m[2024-11-04:11:03:10:INFO] Determined delimiter of CSV input is ','\u001b[0m\n",
      "\u001b[32m2024-11-04T11:03:09.324:[sagemaker logs]: MaxConcurrentTransforms=4, MaxPayloadInMB=6, BatchStrategy=MULTI_RECORD\u001b[0m\n",
      "\u001b[34m169.254.255.130 - - [04/Nov/2024:11:03:14 +0000] \"POST /invocations HTTP/1.1\" 200 652470 \"-\" \"Go-http-client/1.1\"\u001b[0m\n",
      "\u001b[34m169.254.255.130 - - [04/Nov/2024:11:03:14 +0000] \"POST /invocations HTTP/1.1\" 200 652785 \"-\" \"Go-http-client/1.1\"\u001b[0m\n",
      "\u001b[34m169.254.255.130 - - [04/Nov/2024:11:03:14 +0000] \"POST /invocations HTTP/1.1\" 200 652610 \"-\" \"Go-http-client/1.1\"\u001b[0m\n",
      "\u001b[34m169.254.255.130 - - [04/Nov/2024:11:03:14 +0000] \"POST /invocations HTTP/1.1\" 200 652586 \"-\" \"Go-http-client/1.1\"\u001b[0m\n",
      "\u001b[34m[2024-11-04:11:03:14:INFO] Determined delimiter of CSV input is ','\u001b[0m\n",
      "\u001b[34m[2024-11-04:11:03:14:INFO] Determined delimiter of CSV input is ','\u001b[0m\n",
      "\u001b[34m[2024-11-04:11:03:14:INFO] Determined delimiter of CSV input is ','\u001b[0m\n",
      "\u001b[34m[2024-11-04:11:03:14:INFO] Determined delimiter of CSV input is ','\u001b[0m\n",
      "\u001b[35m169.254.255.130 - - [04/Nov/2024:11:03:14 +0000] \"POST /invocations HTTP/1.1\" 200 652470 \"-\" \"Go-http-client/1.1\"\u001b[0m\n",
      "\u001b[35m169.254.255.130 - - [04/Nov/2024:11:03:14 +0000] \"POST /invocations HTTP/1.1\" 200 652785 \"-\" \"Go-http-client/1.1\"\u001b[0m\n",
      "\u001b[35m169.254.255.130 - - [04/Nov/2024:11:03:14 +0000] \"POST /invocations HTTP/1.1\" 200 652610 \"-\" \"Go-http-client/1.1\"\u001b[0m\n",
      "\u001b[35m169.254.255.130 - - [04/Nov/2024:11:03:14 +0000] \"POST /invocations HTTP/1.1\" 200 652586 \"-\" \"Go-http-client/1.1\"\u001b[0m\n",
      "\u001b[35m[2024-11-04:11:03:14:INFO] Determined delimiter of CSV input is ','\u001b[0m\n",
      "\u001b[35m[2024-11-04:11:03:14:INFO] Determined delimiter of CSV input is ','\u001b[0m\n",
      "\u001b[35m[2024-11-04:11:03:14:INFO] Determined delimiter of CSV input is ','\u001b[0m\n",
      "\u001b[35m[2024-11-04:11:03:14:INFO] Determined delimiter of CSV input is ','\u001b[0m\n",
      "\u001b[34m169.254.255.130 - - [04/Nov/2024:11:03:15 +0000] \"POST /invocations HTTP/1.1\" 200 251093 \"-\" \"Go-http-client/1.1\"\u001b[0m\n",
      "\u001b[35m169.254.255.130 - - [04/Nov/2024:11:03:15 +0000] \"POST /invocations HTTP/1.1\" 200 251093 \"-\" \"Go-http-client/1.1\"\u001b[0m\n",
      "\u001b[34m169.254.255.130 - - [04/Nov/2024:11:03:17 +0000] \"POST /invocations HTTP/1.1\" 200 652281 \"-\" \"Go-http-client/1.1\"\u001b[0m\n",
      "\u001b[34m169.254.255.130 - - [04/Nov/2024:11:03:17 +0000] \"POST /invocations HTTP/1.1\" 200 652708 \"-\" \"Go-http-client/1.1\"\u001b[0m\n",
      "\u001b[34m169.254.255.130 - - [04/Nov/2024:11:03:17 +0000] \"POST /invocations HTTP/1.1\" 200 652813 \"-\" \"Go-http-client/1.1\"\u001b[0m\n",
      "\u001b[35m169.254.255.130 - - [04/Nov/2024:11:03:17 +0000] \"POST /invocations HTTP/1.1\" 200 652281 \"-\" \"Go-http-client/1.1\"\u001b[0m\n",
      "\u001b[35m169.254.255.130 - - [04/Nov/2024:11:03:17 +0000] \"POST /invocations HTTP/1.1\" 200 652708 \"-\" \"Go-http-client/1.1\"\u001b[0m\n",
      "\u001b[35m169.254.255.130 - - [04/Nov/2024:11:03:17 +0000] \"POST /invocations HTTP/1.1\" 200 652813 \"-\" \"Go-http-client/1.1\"\u001b[0m\n",
      "\u001b[34m[2024-11-04:11:03:03:INFO] No GPUs detected (normal if no gpus installed)\u001b[0m\n",
      "\u001b[34m[2024-11-04:11:03:03:INFO] No GPUs detected (normal if no gpus installed)\u001b[0m\n",
      "\u001b[34m[2024-11-04:11:03:03:INFO] nginx config: \u001b[0m\n",
      "\u001b[34mworker_processes auto;\u001b[0m\n",
      "\u001b[34mdaemon off;\u001b[0m\n",
      "\u001b[34mpid /tmp/nginx.pid;\u001b[0m\n",
      "\u001b[34merror_log  /dev/stderr;\u001b[0m\n",
      "\u001b[34mworker_rlimit_nofile 4096;\u001b[0m\n",
      "\u001b[34mevents {\n",
      "  worker_connections 2048;\u001b[0m\n",
      "\u001b[34m}\u001b[0m\n",
      "\u001b[35m[2024-11-04:11:03:03:INFO] No GPUs detected (normal if no gpus installed)\u001b[0m\n",
      "\u001b[35m[2024-11-04:11:03:03:INFO] No GPUs detected (normal if no gpus installed)\u001b[0m\n",
      "\u001b[35m[2024-11-04:11:03:03:INFO] nginx config: \u001b[0m\n",
      "\u001b[35mworker_processes auto;\u001b[0m\n",
      "\u001b[35mdaemon off;\u001b[0m\n",
      "\u001b[35mpid /tmp/nginx.pid;\u001b[0m\n",
      "\u001b[35merror_log  /dev/stderr;\u001b[0m\n",
      "\u001b[35mworker_rlimit_nofile 4096;\u001b[0m\n",
      "\u001b[35mevents {\n",
      "  worker_connections 2048;\u001b[0m\n",
      "\u001b[35m}\u001b[0m\n",
      "\u001b[34mhttp {\n",
      "  include /etc/nginx/mime.types;\n",
      "  default_type application/octet-stream;\n",
      "  access_log /dev/stdout combined;\n",
      "  upstream gunicorn {\n",
      "    server unix:/tmp/gunicorn.sock;\n",
      "  }\n",
      "  server {\n",
      "    listen 8080 deferred;\n",
      "    client_max_body_size 0;\n",
      "    keepalive_timeout 3;\n",
      "    location ~ ^/(ping|invocations|execution-parameters) {\n",
      "      proxy_set_header X-Forwarded-For $proxy_add_x_forwarded_for;\n",
      "      proxy_set_header Host $http_host;\n",
      "      proxy_redirect off;\n",
      "      proxy_read_timeout 60s;\n",
      "      proxy_pass http://gunicorn;\n",
      "    }\n",
      "    location / {\n",
      "      return 404 \"{}\";\n",
      "    }\n",
      "  }\u001b[0m\n",
      "\u001b[34m}\u001b[0m\n",
      "\u001b[34m[2024-11-04 11:03:03 +0000] [19] [INFO] Starting gunicorn 19.10.0\u001b[0m\n",
      "\u001b[34m[2024-11-04 11:03:03 +0000] [19] [INFO] Listening at: unix:/tmp/gunicorn.sock (19)\u001b[0m\n",
      "\u001b[34m[2024-11-04 11:03:03 +0000] [19] [INFO] Using worker: gevent\u001b[0m\n",
      "\u001b[34m[2024-11-04 11:03:03 +0000] [26] [INFO] Booting worker with pid: 26\u001b[0m\n",
      "\u001b[34m[2024-11-04 11:03:03 +0000] [27] [INFO] Booting worker with pid: 27\u001b[0m\n",
      "\u001b[34m[2024-11-04 11:03:04 +0000] [28] [INFO] Booting worker with pid: 28\u001b[0m\n",
      "\u001b[35mhttp {\n",
      "  include /etc/nginx/mime.types;\n",
      "  default_type application/octet-stream;\n",
      "  access_log /dev/stdout combined;\n",
      "  upstream gunicorn {\n",
      "    server unix:/tmp/gunicorn.sock;\n",
      "  }\n",
      "  server {\n",
      "    listen 8080 deferred;\n",
      "    client_max_body_size 0;\n",
      "    keepalive_timeout 3;\n",
      "    location ~ ^/(ping|invocations|execution-parameters) {\n",
      "      proxy_set_header X-Forwarded-For $proxy_add_x_forwarded_for;\n",
      "      proxy_set_header Host $http_host;\n",
      "      proxy_redirect off;\n",
      "      proxy_read_timeout 60s;\n",
      "      proxy_pass http://gunicorn;\n",
      "    }\n",
      "    location / {\n",
      "      return 404 \"{}\";\n",
      "    }\n",
      "  }\u001b[0m\n",
      "\u001b[35m}\u001b[0m\n",
      "\u001b[35m[2024-11-04 11:03:03 +0000] [19] [INFO] Starting gunicorn 19.10.0\u001b[0m\n",
      "\u001b[35m[2024-11-04 11:03:03 +0000] [19] [INFO] Listening at: unix:/tmp/gunicorn.sock (19)\u001b[0m\n",
      "\u001b[35m[2024-11-04 11:03:03 +0000] [19] [INFO] Using worker: gevent\u001b[0m\n",
      "\u001b[35m[2024-11-04 11:03:03 +0000] [26] [INFO] Booting worker with pid: 26\u001b[0m\n",
      "\u001b[35m[2024-11-04 11:03:03 +0000] [27] [INFO] Booting worker with pid: 27\u001b[0m\n",
      "\u001b[35m[2024-11-04 11:03:04 +0000] [28] [INFO] Booting worker with pid: 28\u001b[0m\n",
      "\u001b[34m[2024-11-04 11:03:04 +0000] [29] [INFO] Booting worker with pid: 29\u001b[0m\n",
      "\u001b[35m[2024-11-04 11:03:04 +0000] [29] [INFO] Booting worker with pid: 29\u001b[0m\n",
      "\u001b[34m[2024-11-04:11:03:09:INFO] No GPUs detected (normal if no gpus installed)\u001b[0m\n",
      "\u001b[34m169.254.255.130 - - [04/Nov/2024:11:03:09 +0000] \"GET /ping HTTP/1.1\" 200 0 \"-\" \"Go-http-client/1.1\"\u001b[0m\n",
      "\u001b[34m[2024-11-04:11:03:09:INFO] No GPUs detected (normal if no gpus installed)\u001b[0m\n",
      "\u001b[34m169.254.255.130 - - [04/Nov/2024:11:03:09 +0000] \"GET /execution-parameters HTTP/1.1\" 200 84 \"-\" \"Go-http-client/1.1\"\u001b[0m\n",
      "\u001b[35m[2024-11-04:11:03:09:INFO] No GPUs detected (normal if no gpus installed)\u001b[0m\n",
      "\u001b[35m169.254.255.130 - - [04/Nov/2024:11:03:09 +0000] \"GET /ping HTTP/1.1\" 200 0 \"-\" \"Go-http-client/1.1\"\u001b[0m\n",
      "\u001b[35m[2024-11-04:11:03:09:INFO] No GPUs detected (normal if no gpus installed)\u001b[0m\n",
      "\u001b[35m169.254.255.130 - - [04/Nov/2024:11:03:09 +0000] \"GET /execution-parameters HTTP/1.1\" 200 84 \"-\" \"Go-http-client/1.1\"\u001b[0m\n",
      "\u001b[34m[2024-11-04:11:03:10:INFO] No GPUs detected (normal if no gpus installed)\u001b[0m\n",
      "\u001b[34m[2024-11-04:11:03:10:INFO] Determined delimiter of CSV input is ','\u001b[0m\n",
      "\u001b[34m[2024-11-04:11:03:10:INFO] Determined delimiter of CSV input is ','\u001b[0m\n",
      "\u001b[34m[2024-11-04:11:03:10:INFO] No GPUs detected (normal if no gpus installed)\u001b[0m\n",
      "\u001b[34m[2024-11-04:11:03:10:INFO] Determined delimiter of CSV input is ','\u001b[0m\n",
      "\u001b[35m[2024-11-04:11:03:10:INFO] No GPUs detected (normal if no gpus installed)\u001b[0m\n",
      "\u001b[35m[2024-11-04:11:03:10:INFO] Determined delimiter of CSV input is ','\u001b[0m\n",
      "\u001b[35m[2024-11-04:11:03:10:INFO] Determined delimiter of CSV input is ','\u001b[0m\n",
      "\u001b[35m[2024-11-04:11:03:10:INFO] No GPUs detected (normal if no gpus installed)\u001b[0m\n",
      "\u001b[35m[2024-11-04:11:03:10:INFO] Determined delimiter of CSV input is ','\u001b[0m\n",
      "\u001b[34m[2024-11-04:11:03:10:INFO] Determined delimiter of CSV input is ','\u001b[0m\n",
      "\u001b[35m[2024-11-04:11:03:10:INFO] Determined delimiter of CSV input is ','\u001b[0m\n",
      "\u001b[32m2024-11-04T11:03:09.324:[sagemaker logs]: MaxConcurrentTransforms=4, MaxPayloadInMB=6, BatchStrategy=MULTI_RECORD\u001b[0m\n",
      "\u001b[34m169.254.255.130 - - [04/Nov/2024:11:03:14 +0000] \"POST /invocations HTTP/1.1\" 200 652470 \"-\" \"Go-http-client/1.1\"\u001b[0m\n",
      "\u001b[34m169.254.255.130 - - [04/Nov/2024:11:03:14 +0000] \"POST /invocations HTTP/1.1\" 200 652785 \"-\" \"Go-http-client/1.1\"\u001b[0m\n",
      "\u001b[34m169.254.255.130 - - [04/Nov/2024:11:03:14 +0000] \"POST /invocations HTTP/1.1\" 200 652610 \"-\" \"Go-http-client/1.1\"\u001b[0m\n",
      "\u001b[34m169.254.255.130 - - [04/Nov/2024:11:03:14 +0000] \"POST /invocations HTTP/1.1\" 200 652586 \"-\" \"Go-http-client/1.1\"\u001b[0m\n",
      "\u001b[34m[2024-11-04:11:03:14:INFO] Determined delimiter of CSV input is ','\u001b[0m\n",
      "\u001b[34m[2024-11-04:11:03:14:INFO] Determined delimiter of CSV input is ','\u001b[0m\n",
      "\u001b[34m[2024-11-04:11:03:14:INFO] Determined delimiter of CSV input is ','\u001b[0m\n",
      "\u001b[34m[2024-11-04:11:03:14:INFO] Determined delimiter of CSV input is ','\u001b[0m\n",
      "\u001b[35m169.254.255.130 - - [04/Nov/2024:11:03:14 +0000] \"POST /invocations HTTP/1.1\" 200 652470 \"-\" \"Go-http-client/1.1\"\u001b[0m\n",
      "\u001b[35m169.254.255.130 - - [04/Nov/2024:11:03:14 +0000] \"POST /invocations HTTP/1.1\" 200 652785 \"-\" \"Go-http-client/1.1\"\u001b[0m\n",
      "\u001b[35m169.254.255.130 - - [04/Nov/2024:11:03:14 +0000] \"POST /invocations HTTP/1.1\" 200 652610 \"-\" \"Go-http-client/1.1\"\u001b[0m\n",
      "\u001b[35m169.254.255.130 - - [04/Nov/2024:11:03:14 +0000] \"POST /invocations HTTP/1.1\" 200 652586 \"-\" \"Go-http-client/1.1\"\u001b[0m\n",
      "\u001b[35m[2024-11-04:11:03:14:INFO] Determined delimiter of CSV input is ','\u001b[0m\n",
      "\u001b[35m[2024-11-04:11:03:14:INFO] Determined delimiter of CSV input is ','\u001b[0m\n",
      "\u001b[35m[2024-11-04:11:03:14:INFO] Determined delimiter of CSV input is ','\u001b[0m\n",
      "\u001b[35m[2024-11-04:11:03:14:INFO] Determined delimiter of CSV input is ','\u001b[0m\n",
      "\u001b[34m169.254.255.130 - - [04/Nov/2024:11:03:15 +0000] \"POST /invocations HTTP/1.1\" 200 251093 \"-\" \"Go-http-client/1.1\"\u001b[0m\n",
      "\u001b[35m169.254.255.130 - - [04/Nov/2024:11:03:15 +0000] \"POST /invocations HTTP/1.1\" 200 251093 \"-\" \"Go-http-client/1.1\"\u001b[0m\n",
      "\u001b[34m169.254.255.130 - - [04/Nov/2024:11:03:17 +0000] \"POST /invocations HTTP/1.1\" 200 652281 \"-\" \"Go-http-client/1.1\"\u001b[0m\n",
      "\u001b[34m169.254.255.130 - - [04/Nov/2024:11:03:17 +0000] \"POST /invocations HTTP/1.1\" 200 652708 \"-\" \"Go-http-client/1.1\"\u001b[0m\n",
      "\u001b[34m169.254.255.130 - - [04/Nov/2024:11:03:17 +0000] \"POST /invocations HTTP/1.1\" 200 652813 \"-\" \"Go-http-client/1.1\"\u001b[0m\n",
      "\u001b[35m169.254.255.130 - - [04/Nov/2024:11:03:17 +0000] \"POST /invocations HTTP/1.1\" 200 652281 \"-\" \"Go-http-client/1.1\"\u001b[0m\n",
      "\u001b[35m169.254.255.130 - - [04/Nov/2024:11:03:17 +0000] \"POST /invocations HTTP/1.1\" 200 652708 \"-\" \"Go-http-client/1.1\"\u001b[0m\n",
      "\u001b[35m169.254.255.130 - - [04/Nov/2024:11:03:17 +0000] \"POST /invocations HTTP/1.1\" 200 652813 \"-\" \"Go-http-client/1.1\"\u001b[0m\n"
     ]
    }
   ],
   "source": [
    "batch_output = \"s3://{}/{}/batch-out/\".format(bucket,prefix)\n",
    "batch_input = \"s3://{}/{}/batch-in/{}\".format(bucket,prefix,batch_X_file)\n",
    "\n",
    "xgb_transformer = xgb.transformer(instance_count=1,\n",
    "                                       instance_type=instance_type,\n",
    "                                       strategy='MultiRecord',\n",
    "                                       assemble_with='Line',\n",
    "                                       output_path=batch_output)\n",
    "\n",
    "xgb_transformer.transform(data=batch_input,\n",
    "                         data_type='S3Prefix',\n",
    "                         content_type='text/csv',\n",
    "                         split_type='Line')\n",
    "xgb_transformer.wait()"
   ]
  },
  {
   "cell_type": "code",
   "execution_count": 74,
   "id": "591d0c54-a643-4104-a7a2-dec1887f96fe",
   "metadata": {
    "tags": []
   },
   "outputs": [],
   "source": [
    "s3 = boto3.client('s3')\n",
    "obj = s3.get_object(Bucket=bucket, Key=\"{}/batch-out/{}\".format(prefix,'batch-in.csv.out'))\n",
    "target_predicted = pd.read_csv(io.BytesIO(obj['Body'].read()),sep=',',names=['target'])\n",
    "test_labels = test.iloc[:,0]"
   ]
  },
  {
   "cell_type": "code",
   "execution_count": 75,
   "id": "26e36e45-566b-4a9e-be00-3a54a1173bf1",
   "metadata": {
    "tags": []
   },
   "outputs": [
    {
     "data": {
      "image/png": "[encoded data removed]",
      "text/plain": [
       "<Figure size 640x480 with 1 Axes>"
      ]
     },
     "metadata": {},
     "output_type": "display_data"
    }
   ],
   "source": [
    "import seaborn as sns\n",
    "import matplotlib.pyplot as plt\n",
    "import pandas as pd\n",
    "from sklearn.metrics import confusion_matrix\n",
    "\n",
    "def plot_confusion_matrix(test_labels, target_predicted, threshold=0.5):\n",
    "    # Convert probability predictions to binary predictions\n",
    "    binary_predictions = (target_predicted >= threshold).astype(int)\n",
    "    \n",
    "    # Generate the confusion matrix\n",
    "    matrix = confusion_matrix(test_labels, binary_predictions)\n",
    "    df_confusion = pd.DataFrame(matrix, index=[\"No Delay\", \"Delay\"], columns=[\"No Delay\", \"Delay\"])\n",
    "    \n",
    "    # Plotting the confusion matrix\n",
    "    colormap = sns.color_palette(\"BrBG\", 10)\n",
    "    sns.heatmap(df_confusion, annot=True, fmt='d', cbar=None, cmap=colormap)\n",
    "    plt.title(\"Confusion Matrix\")\n",
    "    plt.tight_layout()\n",
    "    plt.ylabel(\"True Class\")\n",
    "    plt.xlabel(\"Predicted Class\")\n",
    "    plt.show()\n",
    "\n",
    "# Example usage with threshold 0.5\n",
    "plot_confusion_matrix(test_labels, target_predicted, threshold=1.0)\n",
    "\n"
   ]
  },
  {
   "cell_type": "code",
   "execution_count": 76,
   "id": "4b3989ec-32c7-4930-8595-c3ea17407f3a",
   "metadata": {
    "tags": []
   },
   "outputs": [
    {
     "name": "stdout",
     "output_type": "stream",
     "text": [
      "Sensitivity or TPR: 0.0 %\n",
      "Specificity or TNR: 100.0 %\n",
      "Precision: nan %\n",
      "Negative Predictive Value: 79.008551467771 %\n",
      "False Positive Rate: 0.0 %\n",
      "False Negative Rate: 100.0 %\n",
      "False Discovery Rate: nan %\n",
      "Accuracy: 79.008551467771 %\n",
      "Validation AUC: 0.7291849703440677\n"
     ]
    },
    {
     "data": {
      "image/png": "[encoded data removed]",
      "text/plain": [
       "<Figure size 640x480 with 2 Axes>"
      ]
     },
     "metadata": {},
     "output_type": "display_data"
    }
   ],
   "source": [
    "from sklearn import metrics\n",
    "import matplotlib.pyplot as plt\n",
    "from sklearn.metrics import confusion_matrix\n",
    "import numpy as np\n",
    "\n",
    "def plot_roc(test_labels, target_predicted, threshold=0.5):\n",
    "    # Convert continuous predictions to binary predictions based on a threshold\n",
    "    binary_predictions = (target_predicted >= threshold).astype(int)\n",
    "    \n",
    "    # Calculate confusion matrix components\n",
    "    TN, FP, FN, TP = confusion_matrix(test_labels, binary_predictions).ravel()\n",
    "    \n",
    "    # Calculate and print metrics\n",
    "    Sensitivity = float(TP) / (TP + FN) * 100\n",
    "    Specificity = float(TN) / (TN + FP) * 100\n",
    "    Precision = float(TP) / (TP + FP) * 100\n",
    "    NPV = float(TN) / (TN + FN) * 100\n",
    "    FPR = float(FP) / (FP + TN) * 100\n",
    "    FNR = float(FN) / (TP + FN) * 100\n",
    "    FDR = float(FP) / (TP + FP) * 100\n",
    "    ACC = float(TP + TN) / (TP + FP + FN + TN) * 100\n",
    "\n",
    "    print(\"Sensitivity or TPR:\", Sensitivity, \"%\") \n",
    "    print(\"Specificity or TNR:\", Specificity, \"%\") \n",
    "    print(\"Precision:\", Precision, \"%\") \n",
    "    print(\"Negative Predictive Value:\", NPV, \"%\") \n",
    "    print(\"False Positive Rate:\", FPR, \"%\")\n",
    "    print(\"False Negative Rate:\", FNR, \"%\") \n",
    "    print(\"False Discovery Rate:\", FDR, \"%\" )\n",
    "    print(\"Accuracy:\", ACC, \"%\") \n",
    "\n",
    "    # Calculate and print AUC\n",
    "    auc_score = metrics.roc_auc_score(test_labels, target_predicted)\n",
    "    print(\"Validation AUC:\", auc_score)\n",
    "\n",
    "    # Calculate ROC curve\n",
    "    fpr, tpr, thresholds = metrics.roc_curve(test_labels, target_predicted)\n",
    "    roc_auc = metrics.auc(fpr, tpr)\n",
    "\n",
    "    # Plot ROC curve\n",
    "    plt.figure()\n",
    "    plt.plot(fpr, tpr, label='ROC curve (area = %0.2f)' % roc_auc)\n",
    "    plt.plot([0, 1], [0, 1], 'k--')\n",
    "    plt.xlim([0.0, 1.0])\n",
    "    plt.ylim([0.0, 1.05])\n",
    "    plt.xlabel('False Positive Rate')\n",
    "    plt.ylabel('True Positive Rate')\n",
    "    plt.title('Receiver Operating Characteristic')\n",
    "    plt.legend(loc=\"lower right\")\n",
    "\n",
    "    # Create the axis of thresholds (scores)\n",
    "    ax2 = plt.gca().twinx()\n",
    "    ax2.plot(fpr, thresholds, markeredgecolor='r', linestyle='dashed', color='r')\n",
    "    ax2.set_ylabel('Threshold', color='r')\n",
    "    ax2.set_ylim([0, 1])\n",
    "    ax2.set_xlim([fpr[0], fpr[-1]])\n",
    "\n",
    "    plt.show()\n",
    "\n",
    "# Example usage with a threshold of 0.5\n",
    "plot_roc(test_labels, target_predicted, threshold=1.0)\n"
   ]
  },
  {
   "cell_type": "markdown",
   "id": "8aae06f2-9f05-48c7-a05f-2f3d668968f4",
   "metadata": {},
   "source": [
    "### Hyperparameter optimization (HPO)"
   ]
  },
  {
   "cell_type": "code",
   "execution_count": 77,
   "id": "1385f973-2588-42c6-97c3-f8a7a4fa80cb",
   "metadata": {
    "tags": []
   },
   "outputs": [
    {
     "name": "stderr",
     "output_type": "stream",
     "text": [
      "WARNING:sagemaker.deprecations:train_instance_count has been renamed in sagemaker>=2.\n",
      "See: https://sagemaker.readthedocs.io/en/stable/v2.html for details.\n",
      "WARNING:sagemaker.deprecations:train_instance_type has been renamed in sagemaker>=2.\n",
      "See: https://sagemaker.readthedocs.io/en/stable/v2.html for details.\n"
     ]
    }
   ],
   "source": [
    "from sagemaker.tuner import IntegerParameter, CategoricalParameter, ContinuousParameter, HyperparameterTuner\n",
    "\n",
    "### You can spin up multiple instances to do hyperparameter optimization in parallel\n",
    "\n",
    "xgb = sagemaker.estimator.Estimator(container,\n",
    "                                    role=sagemaker.get_execution_role(), \n",
    "                                    train_instance_count= 1, # make sure you have limit set for these instances\n",
    "                                    train_instance_type=instance_type, \n",
    "                                    output_path='s3://{}/{}/output'.format(bucket, prefix),\n",
    "                                    sagemaker_session=sess)\n",
    "\n",
    "xgb.set_hyperparameters(eval_metric='auc',\n",
    "                        objective='binary:logistic',\n",
    "                        num_round=100,\n",
    "                        rate_drop=0.3,\n",
    "                        tweedie_variance_power=1.4)\n",
    "\n",
    "hyperparameter_ranges = {'alpha': ContinuousParameter(0, 1000, scaling_type='Linear'),\n",
    "                         'eta': ContinuousParameter(0.1, 0.5, scaling_type='Linear'),\n",
    "                         'min_child_weight': ContinuousParameter(3, 10, scaling_type='Linear'),\n",
    "                         'subsample': ContinuousParameter(0.5, 1),\n",
    "                         'num_round': IntegerParameter(10,150)}\n",
    "\n",
    "objective_metric_name = 'validation:auc'\n",
    "\n",
    "tuner = HyperparameterTuner(xgb,\n",
    "                            objective_metric_name,\n",
    "                            hyperparameter_ranges,\n",
    "                            max_jobs=10, # Set this to 10 or above depending upon budget & available time.\n",
    "                            max_parallel_jobs=2)"
   ]
  },
  {
   "cell_type": "code",
   "execution_count": null,
   "id": "557c0c78-e6f4-4741-809e-cece46be6fc8",
   "metadata": {
    "tags": []
   },
   "outputs": [
    {
     "name": "stderr",
     "output_type": "stream",
     "text": [
      "WARNING:sagemaker.estimator:No finished training job found associated with this estimator. Please make sure this estimator is only used for building workflow config\n",
      "WARNING:sagemaker.estimator:No finished training job found associated with this estimator. Please make sure this estimator is only used for building workflow config\n",
      "INFO:sagemaker:Creating hyperparameter tuning job with name: sagemaker-xgboost-241104-1123\n"
     ]
    },
    {
     "name": "stdout",
     "output_type": "stream",
     "text": [
      "...."
     ]
    }
   ],
   "source": [
    "tuner.fit(inputs=data_channels)\n",
    "tuner.wait()"
   ]
  },
  {
   "cell_type": "code",
   "execution_count": null,
   "id": "3c36f0c0-3caf-4ab5-9e38-2dc12ac2059d",
   "metadata": {
    "tags": []
   },
   "outputs": [],
   "source": [
    "boto3.client('sagemaker').describe_hyper_parameter_tuning_job(\n",
    "    HyperParameterTuningJobName=tuner.latest_tuning_job.job_name)['HyperParameterTuningJobStatus']"
   ]
  },
  {
   "cell_type": "code",
   "execution_count": null,
   "id": "e3a7788d-4682-4e01-b622-4ff42c43010e",
   "metadata": {
    "tags": []
   },
   "outputs": [],
   "source": [
    "sage_client = boto3.Session().client('sagemaker')\n",
    "tuning_job_name = tuner.latest_tuning_job.job_name\n",
    "print(f'tuning job name:{tuning_job_name}')\n",
    "tuning_job_result = sage_client.describe_hyper_parameter_tuning_job(HyperParameterTuningJobName=tuning_job_name)\n",
    "best_training_job = tuning_job_result['BestTrainingJob']\n",
    "best_training_job_name = best_training_job['TrainingJobName']\n",
    "print(f\"best training job: {best_training_job_name}\")\n",
    "\n",
    "best_estimator = tuner.best_estimator()\n",
    "\n",
    "tuner_df = sagemaker.HyperparameterTuningJobAnalytics(tuning_job_name).dataframe()\n",
    "tuner_df.head()"
   ]
  },
  {
   "cell_type": "code",
   "execution_count": null,
   "id": "6ba6e84f-eec8-4281-8388-9730a3243846",
   "metadata": {
    "tags": []
   },
   "outputs": [],
   "source": [
    "best_estimator.fit(inputs=data_channels, logs=True)"
   ]
  },
  {
   "cell_type": "markdown",
   "id": "e9d19857-1b78-4d36-a6e7-65523e63dca7",
   "metadata": {},
   "source": [
    "### Linear Learner vs XGB Boost\n",
    "\n",
    "Comparing the LinearLearner and XGBoost models reveals slight improvements in the XGBoost model's ability to identify delays, but both models struggle with significant class imbalance.\n",
    "\n",
    "The LinearLearner model achieved a sensitivity of 0.39%, while the XGBoost model slightly improved with a sensitivity of 0.63%, indicating a marginal increase in its ability to capture actual delays.\n",
    "\n",
    "Both models maintain high specificity, with the LinearLearner at 99.91% and XGBoost at 99.92%, showing that they are proficient at predicting \"No Delay\" cases but miss most delays.\n",
    "\n",
    "Precision also improved in XGBoost, reaching 68.71% compared to LinearLearner's 54.86%, meaning XGBoost is more reliable when it does predict a delay."
   ]
  },
  {
   "cell_type": "markdown",
   "id": "e379c400-eaf5-4769-9292-eedacb82969d",
   "metadata": {},
   "source": [
    "### On-Premise Approach\n",
    "Using a local machine for model development provides a straightforward approach. It allows complete control over the environment and setup, making it easy to debug and test changes. Additionally, working locally is less dependent on network reliability and avoids cloud infrastructure costs. However, my local machines have limitations in terms of computational power and memory, making it challenging to scale up for larger datasets or more complex models. It took me more than 10 minutes to combine all files. Pretty slow.\n",
    "\n",
    "### Amazon SageMaker Approach\n",
    "SageMaker’s on-demand access to powerful cloud resources allowed for pre setup envionrment. Although SageMaker requires some upfront learning when it comes to debugging code.\n",
    "\n",
    "Also, I found building models on Amazon SageMaker slow. Maybe we were using small instance. It took me more than an hour two run all the cells in this document."
   ]
  }
 ],
 "metadata": {
  "kernelspec": {
   "display_name": "conda_pytorch_p310",
   "language": "python",
   "name": "conda_pytorch_p310"
  },
  "language_info": {
   "codemirror_mode": {
    "name": "ipython",
    "version": 3
   },
   "file_extension": ".py",
   "mimetype": "text/x-python",
   "name": "python",
   "nbconvert_exporter": "python",
   "pygments_lexer": "ipython3",
   "version": "3.10.14"
  }
 },
 "nbformat": 4,
 "nbformat_minor": 5
}
